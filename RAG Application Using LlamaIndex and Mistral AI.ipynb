{
 "cells": [
  {
   "cell_type": "code",
   "execution_count": null,
   "id": "d48436a2",
   "metadata": {},
   "outputs": [],
   "source": [
    "%pip install llama-index-llms-huggingface llama-index\n",
    "%pip install llama-index-embeddings-huggingface\n",
    "%pip install llama-index-embeddings-instructor"
   ]
  },
  {
   "cell_type": "code",
   "execution_count": null,
   "id": "c364cade",
   "metadata": {},
   "outputs": [],
   "source": [
    "from llama_index_core import VectorStoreIndex, SimpleDirectoryReader, PromptTemplate, ServiceContext\n",
    "from llama_index.llms.huggingface import HuggingFaceLLM\n",
    "import torch\n",
    "from llama_index.embeddings.huggingface import HuggingFaceEmbedding"
   ]
  },
  {
   "cell_type": "code",
   "execution_count": null,
   "id": "9cf60612",
   "metadata": {},
   "outputs": [],
   "source": [
    "# Loading documents (Neural Machine Translation Attention)\n",
    "document = SimpleDirectoryReader(\"./data/\").load_data()"
   ]
  },
  {
   "cell_type": "code",
   "execution_count": null,
   "id": "6024cfaf",
   "metadata": {},
   "outputs": [],
   "source": [
    "document"
   ]
  },
  {
   "cell_type": "markdown",
   "id": "a60ca01d",
   "metadata": {},
   "source": [
    "Setting up prompts"
   ]
  },
  {
   "cell_type": "code",
   "execution_count": null,
   "id": "18342837",
   "metadata": {},
   "outputs": [],
   "source": [
    "# Setup prompts - specific to Stabel LLM\n",
    "system_prompt = \"\"\" <|SYSTEM|># You are a Q&A assistant. Your goal is to answer questions as \n",
    "accurate as possible based on the instructions and context provided.\n",
    "\"\"\"\n",
    "\n",
    "# This will wrap the default prompts that are internal to llama-index\n",
    "query_wrapper_prompt = PromptTemplate(\"<|USER|>{query_str}<|ASSISTANT|>\")\n"
   ]
  },
  {
   "cell_type": "markdown",
   "id": "d00e535b",
   "metadata": {},
   "source": [
    "Loading Model"
   ]
  },
  {
   "cell_type": "code",
   "execution_count": null,
   "id": "92d027c8",
   "metadata": {},
   "outputs": [],
   "source": [
    "llm = HuggingFaceLLM(\n",
    "    context_window = 4096,\n",
    "    max_new_tokens = 256,\n",
    "    generate_kwargs = {\"temerature\":0.7, \"do_sample\":False},\n",
    "    system_prompt = system_prompt,\n",
    "    query_wrapper_prompt = query_wrapper_prompt,\n",
    "    tokenizer_name = \"mistralai/Mistral-7B-Instruct-v0.1\",\n",
    "    model_name = \"mistralai/Mistral-7B-Instruct-v0.1\",\n",
    "    device_map = \"auto\",\n",
    "    stopping_ids = [50278, 50279, 50277, 1, 0],\n",
    "    tokenizer_kwargs = {\"max_length\":4096},\n",
    "    # uncomment this if using CUDA to reduce memory usage\n",
    "    model_kwargs = {\"torch_dtype\": torch.folat16}\n",
    ")"
   ]
  },
  {
   "cell_type": "code",
   "execution_count": null,
   "id": "f63bbaa3",
   "metadata": {},
   "outputs": [],
   "source": [
    "embed_model = HuggingFaceEmbedding(model_name=\"sentence-transformers/all-mpnet-base-v2\")"
   ]
  },
  {
   "cell_type": "code",
   "execution_count": null,
   "id": "e7aa42f5",
   "metadata": {},
   "outputs": [],
   "source": [
    "service_context = ServiceContext.from_defaults(\n",
    "    chunk_size = 1024,\n",
    "    llm = llm,\n",
    "    embed_model = embed_model\n",
    ")"
   ]
  },
  {
   "cell_type": "code",
   "execution_count": null,
   "id": "abf76797",
   "metadata": {},
   "outputs": [],
   "source": [
    "index = VectorStoreIndex.from_documents(document, service_context=service_context)"
   ]
  },
  {
   "cell_type": "code",
   "execution_count": null,
   "id": "7390db71",
   "metadata": {},
   "outputs": [],
   "source": [
    "query_engine = index.as_query_engine()"
   ]
  },
  {
   "cell_type": "code",
   "execution_count": null,
   "id": "ace45fac",
   "metadata": {},
   "outputs": [],
   "source": [
    "query_engine.query(\"What is attention?\")"
   ]
  }
 ],
 "metadata": {
  "kernelspec": {
   "display_name": "base",
   "language": "python",
   "name": "python3"
  },
  "language_info": {
   "codemirror_mode": {
    "name": "ipython",
    "version": 3
   },
   "file_extension": ".py",
   "mimetype": "text/x-python",
   "name": "python",
   "nbconvert_exporter": "python",
   "pygments_lexer": "ipython3",
   "version": "3.11.7"
  }
 },
 "nbformat": 4,
 "nbformat_minor": 5
}
