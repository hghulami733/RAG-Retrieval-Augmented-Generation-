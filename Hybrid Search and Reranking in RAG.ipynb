{
 "cells": [
  {
   "cell_type": "code",
   "execution_count": null,
   "id": "fb7f6fd8",
   "metadata": {},
   "outputs": [],
   "source": [
    "! pip install weaviate-client langchain langchain_community bitsandbytes accelerate pypdf cohere transformers torch "
   ]
  },
  {
   "cell_type": "code",
   "execution_count": null,
   "id": "4a563829",
   "metadata": {},
   "outputs": [],
   "source": [
    "import weaviate\n",
    "from langchain.retrievers.weaviate_hybrid_search import WeaviateHybridSearchRetriever\n",
    "import torch\n",
    "from transformers import (AutoModelForCausalLM, AutoTokenizer, BitsAndBytesConfig, pipeline)\n",
    "from langchain import HuggingFacePipeline\n",
    "from langchain_community.document_loaders import PyPDFLoader\n",
    "from langchain.chains import RetrievalQA\n",
    "from langchain.retrievers import ContextualCompressionRetriever\n",
    "from langchain.retrievers.document_compressors import CohereRerank\n"
   ]
  },
  {
   "cell_type": "code",
   "execution_count": null,
   "id": "845a178d",
   "metadata": {},
   "outputs": [],
   "source": [
    "WEAVIATE_CLUSTER = \"WEAVIATE_CLUSTER\"\n",
    "WEAVIATE_API_KEY = \"WEAVIATE_API_KEY\"\n",
    "HF_TOKEN = \"HUGGINGFACE_TOKEN\""
   ]
  },
  {
   "cell_type": "code",
   "execution_count": null,
   "id": "e105fa54",
   "metadata": {},
   "outputs": [],
   "source": [
    "client = weaviate.Client(\n",
    "    url=WEAVIATE_CLUSTER, auth_client_secret=weaviate.AuthApiKey(WEAVIATE_API_KEY),\n",
    "    additional_headers={\n",
    "        \"X-HuggingFace-Api-Key\":HF_TOKEN\n",
    "    } \n",
    ")"
   ]
  },
  {
   "cell_type": "code",
   "execution_count": null,
   "id": "270c453d",
   "metadata": {},
   "outputs": [],
   "source": [
    "client.is_ready()"
   ]
  },
  {
   "cell_type": "code",
   "execution_count": null,
   "id": "d5e7a5cc",
   "metadata": {},
   "outputs": [],
   "source": [
    "schema = {\n",
    "    \"classes\": [\n",
    "        {\n",
    "            \"class\": \"RAG\",\n",
    "            \"description\": \"Documents for RAG\",\n",
    "            \"vectorizer\": \"text2vec-huggingface\",\n",
    "            \"moduleConfig\": {\"text2vec-huggingface\": {\"model\": \"sentence-transformers/all-MiniLM-L6-v2\", \"type\":\"text\", \"vectorizeClassName\": True}},\n",
    "            \"properties\": [\n",
    "                {\n",
    "\n",
    "                    \"dataType\": [\"text\"],\n",
    "                    \"description\": \"The content of the paragraph\",\n",
    "                    \"moduleConfig\": {\n",
    "                        \"text2vec-huggingface\": {\n",
    "                            \"skip\": False,\n",
    "                            \"vectorizePropertyName\": False,\n",
    "\n",
    "                        },\n",
    "\n",
    "                    },\n",
    "\n",
    "                    \"name\": \"content\",\n",
    "                },\n",
    "            ],\n",
    "        },\n",
    "    ]\n",
    "\n",
    "}"
   ]
  },
  {
   "cell_type": "code",
   "execution_count": null,
   "id": "afa0ef48",
   "metadata": {},
   "outputs": [],
   "source": [
    "client.schema.create(schema)"
   ]
  },
  {
   "cell_type": "code",
   "execution_count": null,
   "id": "a085db22",
   "metadata": {},
   "outputs": [],
   "source": [
    "client.schema.get()"
   ]
  },
  {
   "cell_type": "code",
   "execution_count": null,
   "id": "ebcb714c",
   "metadata": {},
   "outputs": [],
   "source": [
    "retriever = WeaviateHybridSearchRetriever(\n",
    "    client=client , # Keyword arguments to pass to the Weaviate client\n",
    "    index_name=\"RAG\", # The name of the index to use\n",
    "    text_key=\"content\",\n",
    "    alpha=0.5,\n",
    "    attributes=[],\n",
    "    create_schema_if_missing=True,\n",
    "    \n",
    ")"
   ]
  },
  {
   "cell_type": "code",
   "execution_count": null,
   "id": "961cada6",
   "metadata": {},
   "outputs": [],
   "source": [
    "model_name = \"HuggingFaceH4/zephyr-7b-beta\""
   ]
  },
  {
   "cell_type": "code",
   "execution_count": null,
   "id": "37550257",
   "metadata": {},
   "outputs": [],
   "source": [
    "# Function for loading 4-bit quantized model\n",
    "def load_quantized_model(model_name:str):\n",
    "\n",
    "    \"\"\"\n",
    "    model_name: Name or path of the model to be loaded.\n",
    "    return: Loaded quantized model.\n",
    "    \n",
    "    \"\"\"\n",
    "\n",
    "    bnb_config = BitsAndBytesConfig(\n",
    "        load_in_4bit=True,\n",
    "        bnb_4bit_use_double_quant=True,\n",
    "        bnb_4bit_quant_type=\"nf4\",\n",
    "        bnb_4bit_compute_dtype=torch.bfloat16,\n",
    "        low_cpu_mem_usage=True\n",
    "    )\n",
    "\n",
    "    model = AutoModelForCausalLM.from_pretraind(\n",
    "        model_name,\n",
    "        torch_dtype = torch.bfloat16,\n",
    "        quantization_config = bnb_confing\n",
    "    )\n",
    "\n",
    "    return model"
   ]
  },
  {
   "cell_type": "code",
   "execution_count": null,
   "id": "f918eaea",
   "metadata": {},
   "outputs": [],
   "source": [
    "# Initialize_tokenizer\n",
    "def initialize_tokenizer(model_name:str):\n",
    "    \"\"\"\n",
    "    model_name: Name or path of the model for tokenizer initialization.\n",
    "    return: Initialized tokenizer.\n",
    "\n",
    "    \"\"\"\n",
    "\n",
    "    tokenizer = AutoTokenizer.from_pretrained(model_name, return_token_type_id=False)\n",
    "    tokenizer.bos_token_id = 1 # Set beginning of sentence token id\n",
    "    return tokenizer"
   ]
  },
  {
   "cell_type": "code",
   "execution_count": null,
   "id": "3e2b0e01",
   "metadata": {},
   "outputs": [],
   "source": [
    "tokenizer = initialize_tokenizer(model_name=model_name)"
   ]
  },
  {
   "cell_type": "code",
   "execution_count": null,
   "id": "c05158a2",
   "metadata": {},
   "outputs": [],
   "source": [
    "model = load_quantized_model(model_name=model_name)"
   ]
  },
  {
   "cell_type": "code",
   "execution_count": null,
   "id": "1fdc5687",
   "metadata": {},
   "outputs": [],
   "source": [
    "pipeline = pipeline(\n",
    "    \"text-generation\",\n",
    "    model=model,\n",
    "    tokenizer=tokenizer,\n",
    "    use_cache=True,\n",
    "    device_map=\"auto\",\n",
    "    max_length=3000,\n",
    "    do_sample=True,\n",
    "    top_k = 5,\n",
    "    #max_new_tokens=100,\n",
    "    num_return_sequences=1,\n",
    "    eos_token_id=tokenizer.eos_token_id,\n",
    "    pad_token_id=tokenizer.pad_token_id\n",
    ")"
   ]
  },
  {
   "cell_type": "code",
   "execution_count": null,
   "id": "18e94a5f",
   "metadata": {},
   "outputs": [],
   "source": [
    "llm = HuggingFacePipeline(pipeline=pipeline)"
   ]
  },
  {
   "cell_type": "code",
   "execution_count": null,
   "id": "2b68a5a2",
   "metadata": {},
   "outputs": [],
   "source": [
    "doc_path = \"/content/Retrieval-Augmented-Generation-for-NLP.pdf\""
   ]
  },
  {
   "cell_type": "code",
   "execution_count": null,
   "id": "1e371ce7",
   "metadata": {},
   "outputs": [],
   "source": [
    "loader = PyPDFLoader(doc_path)"
   ]
  },
  {
   "cell_type": "code",
   "execution_count": null,
   "id": "e02ad4b1",
   "metadata": {},
   "outputs": [],
   "source": [
    "docs = loader.load()"
   ]
  },
  {
   "cell_type": "code",
   "execution_count": null,
   "id": "f739705f",
   "metadata": {},
   "outputs": [],
   "source": [
    "retriever.add_documents(docs)"
   ]
  },
  {
   "cell_type": "code",
   "execution_count": null,
   "id": "b7895175",
   "metadata": {},
   "outputs": [],
   "source": [
    "retriever.invoke(\"What is RAG Token?\",\n",
    "                 score=True)"
   ]
  },
  {
   "cell_type": "code",
   "execution_count": null,
   "id": "7c4a29ee",
   "metadata": {},
   "outputs": [],
   "source": [
    "hybrid_chain = RetrievalQA.from_chain_type(llm=llm, chain_type=\"stuff\", retriever=retriever)"
   ]
  },
  {
   "cell_type": "code",
   "execution_count": null,
   "id": "b02d9ed0",
   "metadata": {},
   "outputs": [],
   "source": [
    "result = hybrid_chain.invoke(\"What is RAG Token?\")"
   ]
  },
  {
   "cell_type": "code",
   "execution_count": 4,
   "id": "099d6d1c",
   "metadata": {},
   "outputs": [],
   "source": [
    "COHERE_API_KEY = \"COHERE_API_KEY\""
   ]
  },
  {
   "cell_type": "code",
   "execution_count": null,
   "id": "97083ec6",
   "metadata": {},
   "outputs": [],
   "source": [
    "compressor = CohereRerank(cohere_api_key=COHERE_API_KEY)"
   ]
  },
  {
   "cell_type": "code",
   "execution_count": null,
   "id": "03a72ebe",
   "metadata": {},
   "outputs": [],
   "source": [
    "compression_retriever = ContextualCompressionRetriever(\n",
    "    base_compressor=compressor, base_retriever=retriever\n",
    ")"
   ]
  },
  {
   "cell_type": "code",
   "execution_count": null,
   "id": "11e888b7",
   "metadata": {},
   "outputs": [],
   "source": [
    "compressod_docs = compression_retriever.get_relevant_documents(\"What is RAG Token?\")"
   ]
  },
  {
   "cell_type": "code",
   "execution_count": null,
   "id": "8d05beb0",
   "metadata": {},
   "outputs": [],
   "source": [
    "print(compressod_docs[0])"
   ]
  },
  {
   "cell_type": "code",
   "execution_count": null,
   "id": "55b4a5e7",
   "metadata": {},
   "outputs": [],
   "source": [
    "hybrid_chain_1 = RetrievalQA.from_chain_type(\n",
    "    llm=llm, chain_type=\"stuff\", retriever=compression_retriever\n",
    ")"
   ]
  },
  {
   "cell_type": "code",
   "execution_count": null,
   "id": "82fb0821",
   "metadata": {},
   "outputs": [],
   "source": [
    "response = hybrid_chain_1.invoke(\"What is Abstractive Question Answering?\")"
   ]
  },
  {
   "cell_type": "code",
   "execution_count": null,
   "id": "e886dee9",
   "metadata": {},
   "outputs": [],
   "source": []
  }
 ],
 "metadata": {
  "kernelspec": {
   "display_name": "base",
   "language": "python",
   "name": "python3"
  },
  "language_info": {
   "codemirror_mode": {
    "name": "ipython",
    "version": 3
   },
   "file_extension": ".py",
   "mimetype": "text/x-python",
   "name": "python",
   "nbconvert_exporter": "python",
   "pygments_lexer": "ipython3",
   "version": "3.11.7"
  }
 },
 "nbformat": 4,
 "nbformat_minor": 5
}
