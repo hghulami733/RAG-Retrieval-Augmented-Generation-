{
 "cells": [
  {
   "cell_type": "code",
   "execution_count": null,
   "id": "bb6e5c21",
   "metadata": {},
   "outputs": [],
   "source": [
    "! pip install --upgrade --quiet langchain langchain-community langchain-openai langchain-experimental wikipedia neo4j tiktoken yfiles_jupyter"
   ]
  },
  {
   "cell_type": "code",
   "execution_count": null,
   "id": "c54932f8",
   "metadata": {},
   "outputs": [],
   "source": [
    "from google.colan import userdata\n",
    "from langchain_community.graphs import Neo4jGraph\n",
    "from langchain.document_loaders import WikipediaLoader\n",
    "import os\n",
    "from langchain.text_splitter import TokenTextSplitter\n",
    "from langchain_openai import ChatOpenAI\n",
    "from langchain_experimental.graph_transformers import LLMGraphTransformer\n",
    "try:\n",
    "    import google.colab\n",
    "    from google.colab import output\n",
    "    output.enable_custom_widget_manager()\n",
    "\n",
    "except:\n",
    "    pass\n",
    "\n",
    "from yfiles_jupyter_graphs import GraphWidget\n",
    "from neo4j import GraphDatabase\n",
    "from langchain_openai import OpenAIEmbeddings\n",
    "from langchain_core.pydantic_v1 import BaseModel, Field\n",
    "from langchain_community.vectorstores.neo4j_vector import remove_lucene_chars\n",
    "from typing import Tuple, List, Optional\n",
    "from langchain_community.vectorstores import Neo4jVector\n",
    "from langchain_core.prompts import ChatPromptTemplate\n",
    "from langchain_core.prompts.prompt import PromptTemplate\n",
    "from langchain.schema.messages import HumanMessage, AIMessage\n",
    "from langchain_core.output_parsers import StrOutputParser\n",
    "from langchain_core.runnables import RunnablePassthrough, RunnableLambda, RunnableBranch, RunnableParallel\n"
   ]
  },
  {
   "cell_type": "code",
   "execution_count": null,
   "id": "c133baf6",
   "metadata": {},
   "outputs": [],
   "source": [
    "NEO4J_URL = \"neo4j+s://0ee1bc88.database.neo4j.io\"\n",
    "NEO4J_USERNAME = \"NEO4J_USERNAME\"\n",
    "NEO4J_PASSWORD = \"NEO4J_PASSWORD\""
   ]
  },
  {
   "cell_type": "code",
   "execution_count": null,
   "id": "dbeb0e1e",
   "metadata": {},
   "outputs": [],
   "source": [
    "OPENAI_API_KEY = userdata.get(\"OPENAI_API_KEY\")"
   ]
  },
  {
   "cell_type": "code",
   "execution_count": null,
   "id": "e0adf007",
   "metadata": {},
   "outputs": [],
   "source": [
    "os.environ[\"OPENAI_API_KEY\"] = OPENAI_API_KEY\n",
    "os.environ[\"NEO4J_URL\"] = NEO4J_URL\n",
    "os.environ[\"NEO4J_USERNAME\"] = NEO4J_USERNAME\n",
    "os.environ[\"NEO4J_PASSWORD\"] = NEO4J_PASSWORD"
   ]
  },
  {
   "cell_type": "code",
   "execution_count": null,
   "id": "b8762acb",
   "metadata": {},
   "outputs": [],
   "source": [
    "graph = Neo4jGraph()"
   ]
  },
  {
   "cell_type": "code",
   "execution_count": null,
   "id": "d1a1692b",
   "metadata": {},
   "outputs": [],
   "source": [
    "raw_documents = WikipediaLoader(query=\"Elizabeth I\").load()"
   ]
  },
  {
   "cell_type": "code",
   "execution_count": null,
   "id": "000e05bc",
   "metadata": {},
   "outputs": [],
   "source": [
    "text_splitter = TokenTextSplitter(chunk_size=512, chunk_overlap=24)\n",
    "documents = text_splitter.split_documents(raw_documents[:3])"
   ]
  },
  {
   "cell_type": "code",
   "execution_count": null,
   "id": "7308faf7",
   "metadata": {},
   "outputs": [],
   "source": [
    "model = ChatOpenAI(temperature=0, model=\"gpt-3.5-turbo-0125\")"
   ]
  },
  {
   "cell_type": "code",
   "execution_count": null,
   "id": "c3d5b91f",
   "metadata": {},
   "outputs": [],
   "source": [
    "llm_transformer = LLMGraphTransformer(llm=model)"
   ]
  },
  {
   "cell_type": "code",
   "execution_count": null,
   "id": "25aff27b",
   "metadata": {},
   "outputs": [],
   "source": [
    "graph_documents = llm_transformer.convert_to_graph_documents(documents)"
   ]
  },
  {
   "cell_type": "code",
   "execution_count": null,
   "id": "5d702791",
   "metadata": {},
   "outputs": [],
   "source": [
    "graph.add_graph_documents(\n",
    "    graph_documents,\n",
    "    baseEntityLabel=True,\n",
    "    include_source=True\n",
    ")"
   ]
  },
  {
   "cell_type": "code",
   "execution_count": null,
   "id": "42749a5e",
   "metadata": {},
   "outputs": [],
   "source": [
    "# Directly show the graph resulting from the given Cypher query\n",
    "default_cypher = \"MATCH (s)-[r:|MENTIONS]->(t) RETURN s,r,t LIMIT 50\""
   ]
  },
  {
   "cell_type": "code",
   "execution_count": null,
   "id": "7155d7f4",
   "metadata": {},
   "outputs": [],
   "source": [
    "def showgraph(cypher: str=default_cypher):\n",
    "    # Create a neo4j session to run queries\n",
    "    driver = GraphDatabase.driver(\n",
    "        uri = NEO4J_URL,\n",
    "        auth = (NEO4J_USERNAME, NEO4J_PASSWORD)\n",
    "    )\n",
    "\n",
    "    session = driver.session()\n",
    "    widget = GraphWidget(graph=session.run(cypher).graph())\n",
    "    widget.node_label_mapping = \"id\"\n",
    "    display(widget)\n",
    "\n",
    "    return widget"
   ]
  },
  {
   "cell_type": "code",
   "execution_count": null,
   "id": "0aa18de2",
   "metadata": {},
   "outputs": [],
   "source": [
    "showgraph()"
   ]
  },
  {
   "cell_type": "code",
   "execution_count": null,
   "id": "194da637",
   "metadata": {},
   "outputs": [],
   "source": [
    "vector_index = Neo4jVector.from_existing_graph(\n",
    "    OpenAIEmbeddings(),\n",
    "    search_type=\"hybrid\",\n",
    "    node_label = \"Document\",\n",
    "    text_node_properties=[\"text\"],\n",
    "    embedding_node_property=\"embedding\"\n",
    ")"
   ]
  },
  {
   "cell_type": "code",
   "execution_count": null,
   "id": "ddfa68e6",
   "metadata": {},
   "outputs": [],
   "source": [
    "# Extract entities from text\n",
    "class Entities(BaseModel):\n",
    "    \"\"\" Identifying Information about entities \"\"\"\n",
    "\n",
    "    name: List[str] = Field(\n",
    "        ...,\n",
    "        description=\"All people, organization or business entities that appear in the text\",\n",
    "    )"
   ]
  },
  {
   "cell_type": "code",
   "execution_count": null,
   "id": "2897dcbd",
   "metadata": {},
   "outputs": [],
   "source": [
    "prompt = ChatPromptTemplate.from_messages(\n",
    "    [\n",
    "        (\n",
    "            \"system\",\n",
    "            \"You are extracting organization and people entities from the text\"\n",
    "        ),\n",
    "\n",
    "        (\n",
    "            \"human\",\n",
    "            \"Use the given format to extract information from the following\"\n",
    "            \"input: {question}\",\n",
    "        ),\n",
    "    ]\n",
    ")"
   ]
  },
  {
   "cell_type": "code",
   "execution_count": null,
   "id": "867e9bfa",
   "metadata": {},
   "outputs": [],
   "source": [
    "entity_chain = prompt | model.with_structured_output(Entities)"
   ]
  },
  {
   "cell_type": "code",
   "execution_count": null,
   "id": "7e0797ad",
   "metadata": {},
   "outputs": [],
   "source": [
    "entity_chain.invoke({\"question\": \"Where was Amelia Earhart born?\"}).names"
   ]
  },
  {
   "cell_type": "code",
   "execution_count": null,
   "id": "d6dd33a8",
   "metadata": {},
   "outputs": [],
   "source": [
    "def generate_full_text_query(input:str) -> str:\n",
    "    full_text_query = \"\"\n",
    "    words = [el for el in remove_lucene_chars(input).split() if el]\n",
    "    for word in words[:-1]:\n",
    "        full_text_query += f\"{word}~2 AND\"\n",
    "\n",
    "    full_text_query += f\"{word[-1]}~2\"\n",
    "    return full_text_query.strip()"
   ]
  },
  {
   "cell_type": "code",
   "execution_count": 3,
   "id": "574e951e",
   "metadata": {},
   "outputs": [],
   "source": [
    "# Fulltext index query\n",
    "def structured_retriever(question: str) -> str:\n",
    "    result = \"\"\n",
    "    entities = entity_chain.invoke({\"question\": question})\n",
    "    \n",
    "    for entity in entities.names:\n",
    "        response = graph.query(\n",
    "            \"\"\"CALL db.index.fulltext.queryNodes(\"'entity', $query, (1imit:2})\n",
    "            YIELD node, score\n",
    "            CALL {\n",
    "            WITH node\n",
    "            MATCH (node)-[r: !MENTIONS]->(neighbor)\n",
    "            RETURN node.id + ' - '+ type(r) + \" -> ' + neighbor.id AS output\n",
    "            UNION ALL\n",
    "            WITH node\n",
    "            MATCH (node) <- [r: IMENTIONS]-(neighbor)\n",
    "            RETURN neighbor.id + ' - '+ type(r) + ' -> ' + node.id AS output\n",
    "\n",
    "            RETURN output LIMIT 50\n",
    "            \"\"\",\n",
    "            {\"query\": generate_full_text_query(entity)},\n",
    "        )\n",
    "        result += \"\\n\".join([el[\"output\"] for el in response])\n",
    "\n",
    "    return result"
   ]
  },
  {
   "cell_type": "code",
   "execution_count": null,
   "id": "374ec09f",
   "metadata": {},
   "outputs": [],
   "source": [
    "print(structured_retriever(\"Who is Elizabeth I\"))"
   ]
  },
  {
   "cell_type": "code",
   "execution_count": null,
   "id": "562ce570",
   "metadata": {},
   "outputs": [],
   "source": [
    "def retriever(question: str):\n",
    "    print(f\"search query: {question}\")\n",
    "    structured_data = structured_retriever(question)\n",
    "    unstructured_data = [el.page_content for el in vector_index.similarity_search(question)]\n",
    "    final_data = f\"\"\"\n",
    "\n",
    "            Structured data:\n",
    "            {structured_data}\n",
    "            Unstructured_data:\n",
    "            {\"#Document\".join(unstructured_data)}\n",
    "        \"\"\"\n",
    "    \n",
    "    return final_data"
   ]
  },
  {
   "cell_type": "code",
   "execution_count": null,
   "id": "e715ebb8",
   "metadata": {},
   "outputs": [],
   "source": [
    "template = \"\"\" \n",
    "\n",
    "        Given the following conversation and a follow up question, rephrase the follow up question to be a standalone question,\n",
    "        in its original language.\n",
    "        Chat History:\n",
    "        {chat_history}\n",
    "        Follow Up Input: {question}\n",
    "        Standalone question:\n",
    "\"\"\""
   ]
  },
  {
   "cell_type": "code",
   "execution_count": null,
   "id": "78fef16e",
   "metadata": {},
   "outputs": [],
   "source": [
    "CONDENSE_QUESTION_PROMPT = PromptTemplate.from_template(template)"
   ]
  },
  {
   "cell_type": "code",
   "execution_count": null,
   "id": "09ec267f",
   "metadata": {},
   "outputs": [],
   "source": [
    "def fromat_chat_history(chat_history: List[tuple[str, str]]) -> List:\n",
    "    buffer = []\n",
    "    for human, ai in chat_history:\n",
    "        buffer.append(HumanMessage(content=human))\n",
    "        buffer.append(AIMessage(content=ai))\n",
    "\n",
    "    return buffer"
   ]
  },
  {
   "cell_type": "code",
   "execution_count": null,
   "id": "9372e3aa",
   "metadata": {},
   "outputs": [],
   "source": [
    "_search_query = RunnableBranch(\n",
    "# If input includes chat_history, we condense it with the follow-up question\n",
    "(\n",
    "RunnableLambda(lambda x: bool(x.get(\"chat_history\"))).with_config(\n",
    "run_name=\"HasChatHistoryCheck\"\n",
    "), # Condense follow-up question and chat into a standalone_question\n",
    "RunnablePassthrough.assign(\n",
    "chat_history=lambda x: fromat_chat_history(x[\"chat_history\"])\n",
    "),\n",
    "\n",
    "CONDENSE_QUESTION_PROMPT\n",
    "| ChatOpenAI(temperature=0)\n",
    "| StrOutputParser(),\n",
    "),\n",
    "# Else, we have no chat history, so just pass through the question\n",
    "RunnableLambda(lambda x : x[\"question\"]),\n",
    "\n",
    ")\n"
   ]
  },
  {
   "cell_type": "code",
   "execution_count": null,
   "id": "1f8e2623",
   "metadata": {},
   "outputs": [],
   "source": [
    "template_1 = \"\"\"\n",
    "\n",
    "        Answer the question based only on the following context:\n",
    "        {context}\n",
    "\n",
    "        Question: {question}\n",
    "        Use natural language and be concise.\n",
    "        Answer:\n",
    "\"\"\""
   ]
  },
  {
   "cell_type": "code",
   "execution_count": null,
   "id": "9ba1cc0b",
   "metadata": {},
   "outputs": [],
   "source": [
    "prompt_1 = ChatPromptTemplate.from_template(template_1)"
   ]
  },
  {
   "cell_type": "code",
   "execution_count": null,
   "id": "ec58a265",
   "metadata": {},
   "outputs": [],
   "source": [
    "chain = (\n",
    "    RunnableParallel(\n",
    "        {\n",
    "            \"context\": _search_query | retriever,\n",
    "            \"question\": RunnablePassthrough(),\n",
    "        }\n",
    "    )\n",
    "\n",
    "    | prompt_1\n",
    "    | model\n",
    "    | StrOutputParser()\n",
    ")"
   ]
  },
  {
   "cell_type": "code",
   "execution_count": null,
   "id": "4047f357",
   "metadata": {},
   "outputs": [],
   "source": [
    "chain.invoke({\"question\": \"which house did Elizabeth I belong to?\"})"
   ]
  }
 ],
 "metadata": {
  "kernelspec": {
   "display_name": "base",
   "language": "python",
   "name": "python3"
  },
  "language_info": {
   "codemirror_mode": {
    "name": "ipython",
    "version": 3
   },
   "file_extension": ".py",
   "mimetype": "text/x-python",
   "name": "python",
   "nbconvert_exporter": "python",
   "pygments_lexer": "ipython3",
   "version": "3.11.7"
  }
 },
 "nbformat": 4,
 "nbformat_minor": 5
}
