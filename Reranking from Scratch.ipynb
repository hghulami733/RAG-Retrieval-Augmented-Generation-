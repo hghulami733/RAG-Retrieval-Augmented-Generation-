{
 "cells": [
  {
   "cell_type": "code",
   "execution_count": 1,
   "id": "ec3233be",
   "metadata": {},
   "outputs": [
    {
     "name": "stdout",
     "output_type": "stream",
     "text": [
      "Collecting sentence_transformers\n",
      "  Using cached sentence_transformers-4.1.0-py3-none-any.whl.metadata (13 kB)\n",
      "Collecting rank_bm25\n",
      "  Downloading rank_bm25-0.2.2-py3-none-any.whl.metadata (3.2 kB)\n",
      "Requirement already satisfied: cohere in c:\\users\\hamid\\anaconda\\lib\\site-packages (5.15.0)\n",
      "Requirement already satisfied: transformers<5.0.0,>=4.41.0 in c:\\users\\hamid\\anaconda\\lib\\site-packages (from sentence_transformers) (4.53.0)\n",
      "Requirement already satisfied: tqdm in c:\\users\\hamid\\anaconda\\lib\\site-packages (from sentence_transformers) (4.67.1)\n",
      "Requirement already satisfied: torch>=1.11.0 in c:\\users\\hamid\\anaconda\\lib\\site-packages (from sentence_transformers) (2.7.1)\n",
      "Requirement already satisfied: scikit-learn in c:\\users\\hamid\\anaconda\\lib\\site-packages (from sentence_transformers) (1.2.2)\n",
      "Requirement already satisfied: scipy in c:\\users\\hamid\\anaconda\\lib\\site-packages (from sentence_transformers) (1.11.4)\n",
      "Requirement already satisfied: huggingface-hub>=0.20.0 in c:\\users\\hamid\\anaconda\\lib\\site-packages (from sentence_transformers) (0.33.1)\n",
      "Requirement already satisfied: Pillow in c:\\users\\hamid\\anaconda\\lib\\site-packages (from sentence_transformers) (10.2.0)\n",
      "Requirement already satisfied: typing_extensions>=4.5.0 in c:\\users\\hamid\\anaconda\\lib\\site-packages (from sentence_transformers) (4.14.0)\n",
      "Requirement already satisfied: numpy in c:\\users\\hamid\\anaconda\\lib\\site-packages (from rank_bm25) (1.26.4)\n",
      "Requirement already satisfied: fastavro<2.0.0,>=1.9.4 in c:\\users\\hamid\\anaconda\\lib\\site-packages (from cohere) (1.11.1)\n",
      "Requirement already satisfied: httpx>=0.21.2 in c:\\users\\hamid\\anaconda\\lib\\site-packages (from cohere) (0.26.0)\n",
      "Requirement already satisfied: httpx-sse==0.4.0 in c:\\users\\hamid\\anaconda\\lib\\site-packages (from cohere) (0.4.0)\n",
      "Requirement already satisfied: pydantic>=1.9.2 in c:\\users\\hamid\\anaconda\\lib\\site-packages (from cohere) (2.11.7)\n",
      "Requirement already satisfied: pydantic-core<3.0.0,>=2.18.2 in c:\\users\\hamid\\anaconda\\lib\\site-packages (from cohere) (2.33.2)\n",
      "Requirement already satisfied: requests<3.0.0,>=2.0.0 in c:\\users\\hamid\\anaconda\\lib\\site-packages (from cohere) (2.32.4)\n",
      "Requirement already satisfied: tokenizers<1,>=0.15 in c:\\users\\hamid\\anaconda\\lib\\site-packages (from cohere) (0.21.2)\n",
      "Requirement already satisfied: types-requests<3.0.0,>=2.0.0 in c:\\users\\hamid\\anaconda\\lib\\site-packages (from cohere) (2.32.4.20250611)\n",
      "Requirement already satisfied: anyio in c:\\users\\hamid\\anaconda\\lib\\site-packages (from httpx>=0.21.2->cohere) (4.2.0)\n",
      "Requirement already satisfied: certifi in c:\\users\\hamid\\anaconda\\lib\\site-packages (from httpx>=0.21.2->cohere) (2024.7.4)\n",
      "Requirement already satisfied: httpcore==1.* in c:\\users\\hamid\\anaconda\\lib\\site-packages (from httpx>=0.21.2->cohere) (1.0.2)\n",
      "Requirement already satisfied: idna in c:\\users\\hamid\\anaconda\\lib\\site-packages (from httpx>=0.21.2->cohere) (3.4)\n",
      "Requirement already satisfied: sniffio in c:\\users\\hamid\\anaconda\\lib\\site-packages (from httpx>=0.21.2->cohere) (1.3.0)\n",
      "Requirement already satisfied: h11<0.15,>=0.13 in c:\\users\\hamid\\anaconda\\lib\\site-packages (from httpcore==1.*->httpx>=0.21.2->cohere) (0.14.0)\n",
      "Requirement already satisfied: filelock in c:\\users\\hamid\\anaconda\\lib\\site-packages (from huggingface-hub>=0.20.0->sentence_transformers) (3.13.1)\n",
      "Requirement already satisfied: fsspec>=2023.5.0 in c:\\users\\hamid\\anaconda\\lib\\site-packages (from huggingface-hub>=0.20.0->sentence_transformers) (2023.10.0)\n",
      "Requirement already satisfied: packaging>=20.9 in c:\\users\\hamid\\anaconda\\lib\\site-packages (from huggingface-hub>=0.20.0->sentence_transformers) (24.2)\n",
      "Requirement already satisfied: pyyaml>=5.1 in c:\\users\\hamid\\anaconda\\lib\\site-packages (from huggingface-hub>=0.20.0->sentence_transformers) (6.0.1)\n",
      "Requirement already satisfied: annotated-types>=0.6.0 in c:\\users\\hamid\\anaconda\\lib\\site-packages (from pydantic>=1.9.2->cohere) (0.7.0)\n",
      "Requirement already satisfied: typing-inspection>=0.4.0 in c:\\users\\hamid\\anaconda\\lib\\site-packages (from pydantic>=1.9.2->cohere) (0.4.1)\n",
      "Requirement already satisfied: charset_normalizer<4,>=2 in c:\\users\\hamid\\anaconda\\lib\\site-packages (from requests<3.0.0,>=2.0.0->cohere) (2.0.4)\n",
      "Requirement already satisfied: urllib3<3,>=1.21.1 in c:\\users\\hamid\\anaconda\\lib\\site-packages (from requests<3.0.0,>=2.0.0->cohere) (2.0.7)\n",
      "Requirement already satisfied: sympy>=1.13.3 in c:\\users\\hamid\\anaconda\\lib\\site-packages (from torch>=1.11.0->sentence_transformers) (1.14.0)\n",
      "Requirement already satisfied: networkx in c:\\users\\hamid\\anaconda\\lib\\site-packages (from torch>=1.11.0->sentence_transformers) (3.1)\n",
      "Requirement already satisfied: jinja2 in c:\\users\\hamid\\anaconda\\lib\\site-packages (from torch>=1.11.0->sentence_transformers) (3.1.3)\n",
      "Requirement already satisfied: colorama in c:\\users\\hamid\\anaconda\\lib\\site-packages (from tqdm->sentence_transformers) (0.4.6)\n",
      "Requirement already satisfied: regex!=2019.12.17 in c:\\users\\hamid\\anaconda\\lib\\site-packages (from transformers<5.0.0,>=4.41.0->sentence_transformers) (2023.10.3)\n",
      "Requirement already satisfied: safetensors>=0.4.3 in c:\\users\\hamid\\anaconda\\lib\\site-packages (from transformers<5.0.0,>=4.41.0->sentence_transformers) (0.5.3)\n",
      "Requirement already satisfied: joblib>=1.1.1 in c:\\users\\hamid\\anaconda\\lib\\site-packages (from scikit-learn->sentence_transformers) (1.2.0)\n",
      "Requirement already satisfied: threadpoolctl>=2.0.0 in c:\\users\\hamid\\anaconda\\lib\\site-packages (from scikit-learn->sentence_transformers) (2.2.0)\n",
      "Requirement already satisfied: mpmath<1.4,>=1.1.0 in c:\\users\\hamid\\anaconda\\lib\\site-packages (from sympy>=1.13.3->torch>=1.11.0->sentence_transformers) (1.3.0)\n",
      "Requirement already satisfied: MarkupSafe>=2.0 in c:\\users\\hamid\\anaconda\\lib\\site-packages (from jinja2->torch>=1.11.0->sentence_transformers) (2.1.3)\n",
      "Using cached sentence_transformers-4.1.0-py3-none-any.whl (345 kB)\n",
      "Downloading rank_bm25-0.2.2-py3-none-any.whl (8.6 kB)\n",
      "Installing collected packages: rank_bm25, sentence_transformers\n",
      "Successfully installed rank_bm25-0.2.2 sentence_transformers-4.1.0\n"
     ]
    },
    {
     "name": "stderr",
     "output_type": "stream",
     "text": [
      "\n",
      "[notice] A new release of pip is available: 24.2 -> 25.1.1\n",
      "[notice] To update, run: python.exe -m pip install --upgrade pip\n"
     ]
    }
   ],
   "source": [
    "! pip install sentence_transformers rank_bm25 cohere"
   ]
  },
  {
   "cell_type": "code",
   "execution_count": 3,
   "id": "4c9b41d1",
   "metadata": {},
   "outputs": [],
   "source": [
    "from sentence_transformers import SentenceTransformer\n",
    "import numpy as np\n",
    "from sklearn.metrics.pairwise import cosine_similarity\n",
    "from rank_bm25 import BM25Okapi\n",
    "from sentence_transformers import CrossEncoder\n",
    "from transformers import BertTokenizer, BertForSequenceClassification\n",
    "import torch\n",
    "import cohere\n"
   ]
  },
  {
   "cell_type": "code",
   "execution_count": null,
   "id": "94d743fe",
   "metadata": {},
   "outputs": [],
   "source": [
    "docunents = [\n",
    "\"This is a list which containing sample documents.\",\n",
    "\"Keywords are important for keyword-based search.\",\n",
    "\"Document analysis involves extracting keywords.\",\n",
    "\"Keyword-based search relies on sparse embeddings.\",\n",
    "\"Understanding document structure aids in keyword extraction.\",\n",
    "\"Efficient keyword extraction enhances search accuracy.\",\n",
    "\"Semantic similarity improves document retrieval performance.\",\n",
    "\"Machine learning algorithms can optimize keyword extraction methods.\"\n",
    "]"
   ]
  },
  {
   "cell_type": "code",
   "execution_count": null,
   "id": "c46887d6",
   "metadata": {},
   "outputs": [],
   "source": [
    "# Load pre-traind sentence transformer model\n",
    "model_name = \"sentence-transformers/paraphrase-xlm-r-multilingual-v1\""
   ]
  },
  {
   "cell_type": "code",
   "execution_count": null,
   "id": "30e7ca1e",
   "metadata": {},
   "outputs": [],
   "source": [
    "model = SentenceTransformer(model_name)"
   ]
  },
  {
   "cell_type": "code",
   "execution_count": null,
   "id": "6794e91b",
   "metadata": {},
   "outputs": [],
   "source": [
    "docunents_embeddings = model.encode(docunents)"
   ]
  },
  {
   "cell_type": "code",
   "execution_count": null,
   "id": "d9457034",
   "metadata": {},
   "outputs": [],
   "source": [
    "for i, embedding in enumerate(docunents_embeddings):\n",
    "    print(f\"Documents {i + 1} embedding: {embedding}\")"
   ]
  },
  {
   "cell_type": "code",
   "execution_count": null,
   "id": "aa39703d",
   "metadata": {},
   "outputs": [],
   "source": [
    "query = \"Natural Language Processing techniques enhance keyword extraction efficiency\""
   ]
  },
  {
   "cell_type": "code",
   "execution_count": null,
   "id": "ff541d75",
   "metadata": {},
   "outputs": [],
   "source": [
    "query_embedding = model.encode(query)"
   ]
  },
  {
   "cell_type": "code",
   "execution_count": null,
   "id": "7bb3173f",
   "metadata": {},
   "outputs": [],
   "source": [
    "print(\"Query embedding: \", query_embedding)"
   ]
  },
  {
   "cell_type": "code",
   "execution_count": null,
   "id": "83ada843",
   "metadata": {},
   "outputs": [],
   "source": [
    "similarities = cosine_similarity(np.array([query_embedding]), docunents_embeddings)"
   ]
  },
  {
   "cell_type": "code",
   "execution_count": null,
   "id": "ec33f41e",
   "metadata": {},
   "outputs": [],
   "source": [
    "similarities"
   ]
  },
  {
   "cell_type": "code",
   "execution_count": null,
   "id": "290f62e8",
   "metadata": {},
   "outputs": [],
   "source": [
    "most_similar_index = np.argmax(similarities)"
   ]
  },
  {
   "cell_type": "code",
   "execution_count": null,
   "id": "e232d3d7",
   "metadata": {},
   "outputs": [],
   "source": [
    "most_similar_index"
   ]
  },
  {
   "cell_type": "code",
   "execution_count": null,
   "id": "deba29d1",
   "metadata": {},
   "outputs": [],
   "source": [
    "most_similar_document = docunents[most_similar_index]"
   ]
  },
  {
   "cell_type": "code",
   "execution_count": null,
   "id": "36c34dea",
   "metadata": {},
   "outputs": [],
   "source": [
    "most_similar_document"
   ]
  },
  {
   "cell_type": "code",
   "execution_count": null,
   "id": "9c5b5144",
   "metadata": {},
   "outputs": [],
   "source": [
    "similarity_score = similarities[0][most_similar_index]"
   ]
  },
  {
   "cell_type": "code",
   "execution_count": null,
   "id": "de5eb955",
   "metadata": {},
   "outputs": [],
   "source": [
    "similarity_score"
   ]
  },
  {
   "cell_type": "code",
   "execution_count": null,
   "id": "a9d7d599",
   "metadata": {},
   "outputs": [],
   "source": [
    "sorted_indices = np.argsort(similarities[0])[::-1]"
   ]
  },
  {
   "cell_type": "code",
   "execution_count": null,
   "id": "60b82b81",
   "metadata": {},
   "outputs": [],
   "source": [
    "sorted_indices"
   ]
  },
  {
   "cell_type": "code",
   "execution_count": null,
   "id": "f208c9e4",
   "metadata": {},
   "outputs": [],
   "source": [
    "ranked_documents = [(docunents[i], similarities[0][i]) for i in sorted_indices]"
   ]
  },
  {
   "cell_type": "code",
   "execution_count": null,
   "id": "5b6277ee",
   "metadata": {},
   "outputs": [],
   "source": [
    "ranked_documents"
   ]
  },
  {
   "cell_type": "code",
   "execution_count": null,
   "id": "ae053d61",
   "metadata": {},
   "outputs": [],
   "source": [
    "print(\"Ranked Documents: \")\n",
    "for rank, (document, similarity) in enumerate(ranked_documents, start=1):\n",
    "    print(f\"Rank: {rank}, Document: {document}, Similarity: {similarity}\")"
   ]
  },
  {
   "cell_type": "code",
   "execution_count": null,
   "id": "efd99067",
   "metadata": {},
   "outputs": [],
   "source": [
    "print(\"Top 4 Documents: \")\n",
    "\n",
    "for rank, (document, similarity) in enumerate(ranked_documents[:4], start=1):\n",
    "    print(f\"Rank: {rank}, Documents: {document}, Similarity_score: {similarity}\")"
   ]
  },
  {
   "cell_type": "code",
   "execution_count": null,
   "id": "3cd950b4",
   "metadata": {},
   "outputs": [],
   "source": [
    "top_4_documents = [doc[0] for doc in ranked_documents[:4]]"
   ]
  },
  {
   "cell_type": "code",
   "execution_count": null,
   "id": "3b83474a",
   "metadata": {},
   "outputs": [],
   "source": [
    "tokenized_top_4_documents = [doc.split() for doc in top_4_documents]"
   ]
  },
  {
   "cell_type": "code",
   "execution_count": null,
   "id": "4ac8fae0",
   "metadata": {},
   "outputs": [],
   "source": [
    "tokenized_top_4_documents"
   ]
  },
  {
   "cell_type": "code",
   "execution_count": null,
   "id": "4093ddf7",
   "metadata": {},
   "outputs": [],
   "source": [
    "tokenized_query = query.split()"
   ]
  },
  {
   "cell_type": "code",
   "execution_count": null,
   "id": "7d9ff47b",
   "metadata": {},
   "outputs": [],
   "source": [
    "tokenized_query"
   ]
  },
  {
   "cell_type": "code",
   "execution_count": null,
   "id": "e99aa5e8",
   "metadata": {},
   "outputs": [],
   "source": [
    "bm25 = BM250kapi(tokenized_top_4_documents)"
   ]
  },
  {
   "cell_type": "code",
   "execution_count": null,
   "id": "7bdfd76d",
   "metadata": {},
   "outputs": [],
   "source": [
    "bm25_scores = bm25.get_scores(tokenized_query)"
   ]
  },
  {
   "cell_type": "code",
   "execution_count": null,
   "id": "a672b531",
   "metadata": {},
   "outputs": [],
   "source": [
    "bm25_scores"
   ]
  },
  {
   "cell_type": "code",
   "execution_count": null,
   "id": "dfb21831",
   "metadata": {},
   "outputs": [],
   "source": [
    "sorted_indices_2 = np.argsort(bm25_scores)[::-1]"
   ]
  },
  {
   "cell_type": "code",
   "execution_count": null,
   "id": "e5427ca1",
   "metadata": {},
   "outputs": [],
   "source": [
    "sorted_indices_2"
   ]
  },
  {
   "cell_type": "code",
   "execution_count": null,
   "id": "33d1a0c4",
   "metadata": {},
   "outputs": [],
   "source": [
    "reranked_documents = [(top_4_documents[i], bm25_scores[i]) for i in sorted_indices_2]"
   ]
  },
  {
   "cell_type": "code",
   "execution_count": null,
   "id": "a3b4df1d",
   "metadata": {},
   "outputs": [],
   "source": [
    "reranked_documents"
   ]
  },
  {
   "cell_type": "code",
   "execution_count": null,
   "id": "03aa2e01",
   "metadata": {},
   "outputs": [],
   "source": [
    "print(\"Top 4 Documents: \")\n",
    "\n",
    "for rank, (document, similarity) in enumerate(reranked_documents, start=1):\n",
    "    print(f\"Rank: {rank}, Documents: {document}, Similarity_score: {similarity}\")"
   ]
  },
  {
   "cell_type": "code",
   "execution_count": null,
   "id": "3428914f",
   "metadata": {},
   "outputs": [],
   "source": [
    "reranked_documents[:4]"
   ]
  },
  {
   "cell_type": "markdown",
   "id": "3eb0b560",
   "metadata": {},
   "source": [
    "Cross encoder"
   ]
  },
  {
   "cell_type": "code",
   "execution_count": null,
   "id": "b74b7a6a",
   "metadata": {},
   "outputs": [],
   "source": [
    "cross_encoder = CrossEncoder(\"cross-encoder/ms-marco-MiniLM-L-5-v2\")"
   ]
  },
  {
   "cell_type": "code",
   "execution_count": null,
   "id": "03646ada",
   "metadata": {},
   "outputs": [],
   "source": [
    "pairs = []\n",
    "\n",
    "for doc in top_4_documents:\n",
    "    pairs.append([query, doc])"
   ]
  },
  {
   "cell_type": "code",
   "execution_count": null,
   "id": "14c592df",
   "metadata": {},
   "outputs": [],
   "source": [
    "pairs"
   ]
  },
  {
   "cell_type": "code",
   "execution_count": null,
   "id": "02ff0cc8",
   "metadata": {},
   "outputs": [],
   "source": [
    "scores = cross_encoder.predict(pairs)\n",
    "scores"
   ]
  },
  {
   "cell_type": "code",
   "execution_count": null,
   "id": "9a50e28e",
   "metadata": {},
   "outputs": [],
   "source": [
    "scored_docs = zip(scores, top_4_documents)\n",
    "scored_docs"
   ]
  },
  {
   "cell_type": "code",
   "execution_count": null,
   "id": "1831fbda",
   "metadata": {},
   "outputs": [],
   "source": [
    "reranked_document_cross_encoder = sorted(scored_docs, reverse=True)"
   ]
  },
  {
   "cell_type": "code",
   "execution_count": null,
   "id": "62404f59",
   "metadata": {},
   "outputs": [],
   "source": [
    "reranked_document_cross_encoder"
   ]
  },
  {
   "cell_type": "markdown",
   "id": "9d0c4fbe",
   "metadata": {},
   "source": [
    "BM_25"
   ]
  },
  {
   "cell_type": "code",
   "execution_count": null,
   "id": "bc0dee5b",
   "metadata": {},
   "outputs": [],
   "source": [
    "reranked_documents"
   ]
  },
  {
   "cell_type": "code",
   "execution_count": null,
   "id": "eca6840b",
   "metadata": {},
   "outputs": [],
   "source": [
    "co = cohere.Client(\"COHERE_API_KEY\")"
   ]
  },
  {
   "cell_type": "code",
   "execution_count": null,
   "id": "d958218a",
   "metadata": {},
   "outputs": [],
   "source": [
    "response = co.rerank(\n",
    "    model=\"rerank-english-v3.0\",\n",
    "    query=\"Natural language processing techniques enhance keyword extraction efficiency \",\n",
    "    documents=top_4_documents,\n",
    "    return_documents=True\n",
    ")"
   ]
  },
  {
   "cell_type": "code",
   "execution_count": null,
   "id": "d9bcbd86",
   "metadata": {},
   "outputs": [],
   "source": [
    "print(response)"
   ]
  },
  {
   "cell_type": "code",
   "execution_count": null,
   "id": "1c69bfe4",
   "metadata": {},
   "outputs": [],
   "source": [
    "response.results[0].document.text"
   ]
  },
  {
   "cell_type": "code",
   "execution_count": null,
   "id": "6c9ebc42",
   "metadata": {},
   "outputs": [],
   "source": [
    "response.results[0].relevance_score"
   ]
  },
  {
   "cell_type": "code",
   "execution_count": null,
   "id": "6e911eb9",
   "metadata": {},
   "outputs": [],
   "source": [
    "for i in range(4):\n",
    "    print(f\"Text: {response.results[i].document.text}, Score: {response.results[i].relevance_score}\")"
   ]
  },
  {
   "cell_type": "code",
   "execution_count": null,
   "id": "67107d99",
   "metadata": {},
   "outputs": [],
   "source": [
    "# Initialize model and tokenizer\n",
    "model = BertForSequenceClassification.from_pretrained(\"bert-base-uncased\")\n",
    "tokenizer = BertTokenizer.from_pretrained(\"bert-base-uncased\")"
   ]
  },
  {
   "cell_type": "code",
   "execution_count": null,
   "id": "4c43a1f4",
   "metadata": {},
   "outputs": [],
   "source": [
    "sentence_a = \"The movie was fantastic\"\n",
    "sentence_b = \"I really enjoyed the film\""
   ]
  },
  {
   "cell_type": "code",
   "execution_count": null,
   "id": "e1f7f89e",
   "metadata": {},
   "outputs": [],
   "source": [
    "# Encode Input\n",
    "inputs = tokenizer(sentence_a, sentence_b, return_tensors=\"pt\", padding=True, truncation=True)"
   ]
  },
  {
   "cell_type": "code",
   "execution_count": null,
   "id": "4714c66f",
   "metadata": {},
   "outputs": [],
   "source": [
    "# Get model output\n",
    "outputs = model(**inputs)\n",
    "logits = outputs.logits "
   ]
  },
  {
   "cell_type": "code",
   "execution_count": null,
   "id": "f5e7e941",
   "metadata": {},
   "outputs": [],
   "source": [
    "# Convert logits to probabilities\n",
    "probs = torch.softmax(logits, dim=1)"
   ]
  },
  {
   "cell_type": "code",
   "execution_count": null,
   "id": "5309f0b2",
   "metadata": {},
   "outputs": [],
   "source": [
    "# Assuming a binary classification task (similarity score)\n",
    "similarity_score_1 = probs[0][1].item()\n",
    "print(f\"Similarity Score: {similarity_score_1}\")"
   ]
  },
  {
   "cell_type": "code",
   "execution_count": null,
   "id": "043b944b",
   "metadata": {},
   "outputs": [],
   "source": []
  },
  {
   "cell_type": "code",
   "execution_count": null,
   "id": "38540902",
   "metadata": {},
   "outputs": [],
   "source": []
  }
 ],
 "metadata": {
  "kernelspec": {
   "display_name": "base",
   "language": "python",
   "name": "python3"
  },
  "language_info": {
   "codemirror_mode": {
    "name": "ipython",
    "version": 3
   },
   "file_extension": ".py",
   "mimetype": "text/x-python",
   "name": "python",
   "nbconvert_exporter": "python",
   "pygments_lexer": "ipython3",
   "version": "3.11.7"
  }
 },
 "nbformat": 4,
 "nbformat_minor": 5
}
