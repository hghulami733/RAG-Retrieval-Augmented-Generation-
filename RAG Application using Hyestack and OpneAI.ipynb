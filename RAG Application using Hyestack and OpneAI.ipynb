{
 "cells": [
  {
   "cell_type": "code",
   "execution_count": null,
   "id": "777f362e",
   "metadata": {},
   "outputs": [],
   "source": [
    "%pip install haystack-ai datasets sentence-transformer"
   ]
  },
  {
   "cell_type": "code",
   "execution_count": null,
   "id": "fbedf837",
   "metadata": {},
   "outputs": [],
   "source": [
    "from haystack.document_stores.in_memory import InMemoryDocumentStore\n",
    "from datasett import load_dataset\n",
    "from haystack import Document\n",
    "from haystack.components.embedders import SentenceTransformerDocumentEmbedder\n",
    "from haystack.components.embedders import SentenceTransformerTextEmbedder\n",
    "from haystack.components.retrievers.in_memory import InMemoryEmbeddingRetriever\n",
    "from haystack.components.builders import PromptBuilder\n",
    "from haystack import Pipeline\n",
    "import os\n",
    "from getpass import getpass\n",
    "from haystack.components.generations import OpenAIGenerator"
   ]
  },
  {
   "cell_type": "code",
   "execution_count": null,
   "id": "04570fba",
   "metadata": {},
   "outputs": [],
   "source": [
    "document_store = InMemoryDocumentStore()"
   ]
  },
  {
   "cell_type": "code",
   "execution_count": null,
   "id": "ee386d78",
   "metadata": {},
   "outputs": [],
   "source": [
    "dataset = load_dataset(\"bilgeyucel/seven-wonders\", split=\"train\")"
   ]
  },
  {
   "cell_type": "code",
   "execution_count": null,
   "id": "749dfa70",
   "metadata": {},
   "outputs": [],
   "source": [
    "dataset"
   ]
  },
  {
   "cell_type": "code",
   "execution_count": null,
   "id": "ef18a7d0",
   "metadata": {},
   "outputs": [],
   "source": [
    "for doc in dataset:\n",
    "    print(doc[\"content\"])"
   ]
  },
  {
   "cell_type": "code",
   "execution_count": null,
   "id": "beceb078",
   "metadata": {},
   "outputs": [],
   "source": [
    "docs = [Document(content=doc[\"content\"], meta=doc[\"meta\"]) for doc in dataset]"
   ]
  },
  {
   "cell_type": "code",
   "execution_count": null,
   "id": "7e901861",
   "metadata": {},
   "outputs": [],
   "source": [
    "docs"
   ]
  },
  {
   "cell_type": "code",
   "execution_count": null,
   "id": "b608cf76",
   "metadata": {},
   "outputs": [],
   "source": [
    "doc_embedder = SentenceTransformerDocumentEmbedder(model=\"sentence-transformers/all-MiniLM-L6-v2\")\n",
    "doc_embedder.warm_up()"
   ]
  },
  {
   "cell_type": "code",
   "execution_count": null,
   "id": "eb9cc44d",
   "metadata": {},
   "outputs": [],
   "source": [
    "docs_with_embeddings = doc_embedder.run(docs)\n",
    "document_store.wirte_documents(docs_with_embeddings[\"documents\"])"
   ]
  },
  {
   "cell_type": "code",
   "execution_count": null,
   "id": "eba1e332",
   "metadata": {},
   "outputs": [],
   "source": [
    "text_embedder = SentenceTransformerTextEmbedder(model=\"sentence-transformers/all-MiniLM-L6-v2\")"
   ]
  },
  {
   "cell_type": "code",
   "execution_count": null,
   "id": "1926c67a",
   "metadata": {},
   "outputs": [],
   "source": [
    "retriever = InMemoryEmbeddingRetriever(document_store)"
   ]
  },
  {
   "cell_type": "code",
   "execution_count": null,
   "id": "8fd31a39",
   "metadata": {},
   "outputs": [],
   "source": [
    "template = \"\"\"\n",
    "\n",
    "Given the following information, answer the question.\n",
    "\n",
    "Context:\n",
    "{% for document in documents %}\n",
    "    {{ document.content}}\n",
    "\n",
    "{% endfor %}\n",
    "\n",
    "Question: {{question}}\n",
    "Answer:\n",
    "\"\"\"\n",
    "\n",
    "prompt_builder = PromptBuilder(template=template)"
   ]
  },
  {
   "cell_type": "code",
   "execution_count": null,
   "id": "ecfdd9b0",
   "metadata": {},
   "outputs": [],
   "source": [
    "if \"OPENAI_API_KEY\" not in os.environ:\n",
    "    os.environ[\"OPENAI_API_KEY\"] = getpass(\"Enter OpenAI API key: \")"
   ]
  },
  {
   "cell_type": "code",
   "execution_count": null,
   "id": "2a2ee399",
   "metadata": {},
   "outputs": [],
   "source": [
    "generator = OpenAIGenerator(model=\"gpt-3.5-turbo\")"
   ]
  },
  {
   "cell_type": "code",
   "execution_count": null,
   "id": "340f4d44",
   "metadata": {},
   "outputs": [],
   "source": [
    "basic_rag_pipeline = Pipeline()\n",
    "\n",
    "# Add components to the pipeline\n",
    "basic_rag_pipeline.add_component(\"text_embedder\", text_embedder)\n",
    "basic_rag_pipeline.add_component(\"retriever\", retriever)\n",
    "basic_rag_pipeline.add_component(\"prompt_builder\", prompt_builder)\n",
    "basic_rag_pipeline.add_component(\"llm\", generator)\n",
    "\n",
    "# Connect the component to each other\n",
    "basic_rag_pipeline.connect(\"text_embedder.embedding\", \"retriever.query_embedding\")\n",
    "basic_rag_pipeline.connect(\"retriever\", \"prompt_builder.documents\")\n",
    "basic_rag_pipeline.connect(\"prompt_builder\", \"llm\")"
   ]
  },
  {
   "cell_type": "code",
   "execution_count": null,
   "id": "a30e5d5b",
   "metadata": {},
   "outputs": [],
   "source": [
    "quetsion = \"What does Rhodes Statue look like?\""
   ]
  },
  {
   "cell_type": "code",
   "execution_count": null,
   "id": "71509525",
   "metadata": {},
   "outputs": [],
   "source": [
    "response = basic_rag_pipeline.run({\"text_embedder\" : {\"text\": question}, \"prompt_builder\": {\"question\":quetsion}})"
   ]
  },
  {
   "cell_type": "code",
   "execution_count": null,
   "id": "f429ba27",
   "metadata": {},
   "outputs": [],
   "source": [
    "response[\"llm\"][\"replies\"][0]"
   ]
  },
  {
   "cell_type": "code",
   "execution_count": null,
   "id": "d176b50f",
   "metadata": {},
   "outputs": [],
   "source": [
    "examples = [\n",
    "\"Where is Gardens of Babylon?\",\n",
    "\"Why did people build Great Pyramid of Giza?\",\n",
    "\"What does Rhodes Statue look like?\",\n",
    "\"Why did people visit the Temple of Artemis?\",\n",
    "\"What is the importance of Colossus of Rhodes?\",\n",
    "\"What happened to the Tomb of Mausolus?\",\n",
    "\"How did Colossus of Rhodes collapse?\",\n",
    "]"
   ]
  },
  {
   "cell_type": "code",
   "execution_count": null,
   "id": "09ecc155",
   "metadata": {},
   "outputs": [],
   "source": [
    "question = \"\"\" Why did people visit the Temple of Artemis? \"\"\""
   ]
  },
  {
   "cell_type": "code",
   "execution_count": null,
   "id": "609bf699",
   "metadata": {},
   "outputs": [],
   "source": [
    "response = basic_rag_pipeline.run({\"text_embedder\" : {\"text\": quetsion}, \"prompt_builder\": {\"question\":quetsion}})"
   ]
  },
  {
   "cell_type": "code",
   "execution_count": null,
   "id": "4b4ba988",
   "metadata": {},
   "outputs": [],
   "source": [
    "response[\"llm\"][\"replies\"][0]"
   ]
  }
 ],
 "metadata": {
  "kernelspec": {
   "display_name": "base",
   "language": "python",
   "name": "python3"
  },
  "language_info": {
   "codemirror_mode": {
    "name": "ipython",
    "version": 3
   },
   "file_extension": ".py",
   "mimetype": "text/x-python",
   "name": "python",
   "nbconvert_exporter": "python",
   "pygments_lexer": "ipython3",
   "version": "3.11.7"
  }
 },
 "nbformat": 4,
 "nbformat_minor": 5
}
