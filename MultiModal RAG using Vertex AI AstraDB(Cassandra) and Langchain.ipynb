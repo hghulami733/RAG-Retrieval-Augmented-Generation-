{
 "cells": [
  {
   "cell_type": "code",
   "execution_count": null,
   "id": "4534a3bc",
   "metadata": {},
   "outputs": [],
   "source": [
    "! pip install --upgrade --user google-cloud-aiplatform ragstack-ai"
   ]
  },
  {
   "cell_type": "code",
   "execution_count": null,
   "id": "cd81f665",
   "metadata": {},
   "outputs": [],
   "source": [
    "import getpass, os, requests, sys\n",
    "import vertexai, json\n",
    "from vertexai.preview.generative_models import (\n",
    "    GenerationConfig,\n",
    "    GenerativeModel,\n",
    "    HarmCategory,\n",
    "    HarmBlockThreshold,\n",
    "    Image,\n",
    "    Part\n",
    ")\n",
    "from astrapy.db import AstraDB, AstraDBCollection\n",
    "from google.colab import files\n",
    "from langchain_google_vertexai import ChatVertexAI\n",
    "from langchain.schema.messages import HumanMessage\n",
    "from PIL import Image, ImageFile\n",
    "import pandas as pd\n"
   ]
  },
  {
   "cell_type": "code",
   "execution_count": null,
   "id": "a4bf0ad9",
   "metadata": {},
   "outputs": [],
   "source": [
    "PROJECT_ID = 'red-delight-346705'\n",
    "LOCATION = 'us-central1'\n",
    "ASTRA_DB_API_ENDPOINT = 'ASTRA_DB_API_ENDPOINT'\n",
    "ASTRA_DB_APPLICTAION = 'ASTRA_DB_APPLICATION'"
   ]
  },
  {
   "cell_type": "code",
   "execution_count": null,
   "id": "c33a7261",
   "metadata": {},
   "outputs": [],
   "source": [
    "if \"GCP_PROJECT_ID\" not in os.environ:\n",
    "    os.environ[\"GCP_PROJECT_ID\"] = getpass.getpass(\"Provide your GCP Projcet ID\")\n",
    "\n",
    "if \"LOCATION\" not in os.environ:\n",
    "    os.environ[\"LOCATION\"] = getpass.getpass(\"Provide your GCP Location\")\n",
    "\n",
    "if \"ASTRA_DB_ENDPOINT\" not in os.environ:\n",
    "    os.environ[\"ASTRA_DB_ENDPOINT\"] = getpass.getpass(\"Provide your Astra DB Endpoint\")\n",
    "\n"
   ]
  },
  {
   "cell_type": "markdown",
   "id": "0baf6cc1",
   "metadata": {},
   "source": [
    "These three cells are for Colab only"
   ]
  },
  {
   "cell_type": "code",
   "execution_count": null,
   "id": "e9caffc3",
   "metadata": {},
   "outputs": [],
   "source": [
    "!gcloud confing set project {os.getenv(\"GCP_PROJECT_ID\")}"
   ]
  },
  {
   "cell_type": "code",
   "execution_count": null,
   "id": "3adc599a",
   "metadata": {},
   "outputs": [],
   "source": [
    "# Additional Authentication is required for Google Colab\n",
    "if \"google.colab\" in sys.modules:\n",
    "    # Authenticate user to Google Cloud\n",
    "    from google.colab import auth\n",
    "\n",
    "    auth.authenticate_user()"
   ]
  },
  {
   "cell_type": "code",
   "execution_count": null,
   "id": "9a6eb229",
   "metadata": {},
   "outputs": [],
   "source": [
    "! gcloud auth list"
   ]
  },
  {
   "cell_type": "markdown",
   "id": "e02ff78e",
   "metadata": {},
   "source": [
    "Set Google Cloud project information and initialize Vertex AI SDK"
   ]
  },
  {
   "cell_type": "code",
   "execution_count": null,
   "id": "66caa075",
   "metadata": {},
   "outputs": [],
   "source": [
    "# Define project information\n",
    "PROJECT_ID = os.getenv(\"GCP_PROJECT_ID\")\n",
    "LOCATION = os.getenv(\"LOCATION\")"
   ]
  },
  {
   "cell_type": "code",
   "execution_count": null,
   "id": "47feddf3",
   "metadata": {},
   "outputs": [],
   "source": [
    "# Initialize Vertex AI\n",
    "\n",
    "vertexai.init(project=PROJECT_ID, location = LOCATION)"
   ]
  },
  {
   "cell_type": "markdown",
   "id": "953cc6b1",
   "metadata": {},
   "source": [
    "Use Gemini 1.0 Pro Model"
   ]
  },
  {
   "cell_type": "code",
   "execution_count": null,
   "id": "cd8474ba",
   "metadata": {},
   "outputs": [],
   "source": [
    "model =GenerativeModel(\"gemini-1.0-pro\")"
   ]
  },
  {
   "cell_type": "markdown",
   "id": "3608410c",
   "metadata": {},
   "source": [
    "Generate text from text prompts"
   ]
  },
  {
   "cell_type": "code",
   "execution_count": null,
   "id": "07d428b7",
   "metadata": {},
   "outputs": [],
   "source": [
    "responses = model.generate_content(\"why is the sky blue?\", stream=True)\n",
    "\n",
    "for response in responses:\n",
    "    print(response.text, end=\"\")"
   ]
  },
  {
   "cell_type": "code",
   "execution_count": null,
   "id": "2ee4d370",
   "metadata": {},
   "outputs": [],
   "source": [
    "prompt = \"\"\"\n",
    "\n",
    "    Create a numbered list of 10 items. Each item in the list should be trend in the tech industry.\n",
    "    Each trend should be less than 5 words.\n",
    "\n",
    "\"\"\""
   ]
  },
  {
   "cell_type": "code",
   "execution_count": null,
   "id": "0c4b7c50",
   "metadata": {},
   "outputs": [],
   "source": [
    "responses_1 = model.generate_content(prompt, stream=True)"
   ]
  },
  {
   "cell_type": "code",
   "execution_count": null,
   "id": "f79b3b0a",
   "metadata": {},
   "outputs": [],
   "source": [
    "for response in responses_1:\n",
    "    print(response.text, end=\"\")"
   ]
  },
  {
   "cell_type": "markdown",
   "id": "8cd5c52e",
   "metadata": {},
   "source": [
    "Model parameters"
   ]
  },
  {
   "cell_type": "code",
   "execution_count": null,
   "id": "c835c08e",
   "metadata": {},
   "outputs": [],
   "source": [
    "generation_confing = GenerationConfig(\n",
    "    temperature=0.9,\n",
    "    top_p=1.0,\n",
    "    top_k=32,\n",
    "    candidate_count=1,\n",
    "    max_output_tokens=8192,\n",
    ")"
   ]
  },
  {
   "cell_type": "code",
   "execution_count": null,
   "id": "4240e8d6",
   "metadata": {},
   "outputs": [],
   "source": [
    "responses_2 = model.generate_content(\n",
    "    \"Why is the sky blue?\",\n",
    "    generation_confing=generation_confing,\n",
    "    stream=True,\n",
    ")"
   ]
  },
  {
   "cell_type": "code",
   "execution_count": null,
   "id": "4e6781c9",
   "metadata": {},
   "outputs": [],
   "source": [
    "for response in responses_2:\n",
    "    print(response.text, end=\"\")"
   ]
  },
  {
   "cell_type": "code",
   "execution_count": null,
   "id": "021ce19b",
   "metadata": {},
   "outputs": [],
   "source": [
    "source_img_data = requests.get(\"image_of_coffee_maker\")"
   ]
  },
  {
   "cell_type": "code",
   "execution_count": null,
   "id": "29b11300",
   "metadata": {},
   "outputs": [],
   "source": [
    "with open(\"coffee_maker_parts.png\", \"wb\") as handler:\n",
    "    handler.write(source_img_data)"
   ]
  },
  {
   "cell_type": "code",
   "execution_count": null,
   "id": "0b532e5e",
   "metadata": {},
   "outputs": [],
   "source": [
    "chat = ChatVertexAI(model_name=\"gemini-1.0-pro-vision\", safety_settings={\n",
    "    HarmCategory.HARM_CATEGORY_HATE_SPEECH: HarmBlockThreshold.BLOCK_LOW_AND_ABOVE\n",
    "},)"
   ]
  },
  {
   "cell_type": "code",
   "execution_count": null,
   "id": "0f439a3c",
   "metadata": {},
   "outputs": [],
   "source": [
    "image_message = {\n",
    "    \"type\": \"image_url\",\n",
    "    \"image_url\": {\"url\":\"coffee_maker_part.png\"},\n",
    "}\n",
    "\n",
    "text_message = {\n",
    "    \"type\":\"text\",\n",
    "    \"text\":\"What is this image? Share a link to purchase a replacement\"\n",
    "}"
   ]
  },
  {
   "cell_type": "code",
   "execution_count": null,
   "id": "c551197b",
   "metadata": {},
   "outputs": [],
   "source": [
    "message = HumanMessage(content=[text_message, image_message])\n",
    "\n",
    "output = chat([message])\n",
    "\n",
    "print(output.content)"
   ]
  },
  {
   "cell_type": "code",
   "execution_count": null,
   "id": "0f38aafb",
   "metadata": {},
   "outputs": [],
   "source": [
    "d = {'name': [\"Saucer\", \"Saucer Ceramic\", \"Milk Jug Assembly\", \"Handle Steam Wand Kit (New Version From 0735 PDC)\", \"Spout Juice Small (From 0637 tp 1041 PDC)\", \"Cleaning Steam Wand\", \"Jug Frothing\", \"Spoon Tamping 50mm\", \"Collar Grouphead\", \"and so on\"],\n",
    "'url': [\"https://www.breville.com/us/en/parts-accessories/parts/sp0014946.html?sku=SP0014946\", \"https://www.breville.com/us/en/parts-accessories/parts/sp0014914\"],\n",
    "'price': [\"10.95\", \"4.99\", \"14.95\", \"8.95\", \"10.95\", \"6.95\", \"24.95\", \"8.95\", \"6.95\", \"12.95\", \"12.95\", \"14.95\", \"10.95\", \"16.95\", \"11.95\"],\n",
    "'image': [\"https://www.breville.com/content/dam/breville/us/catalog/products/images/sp0/sp0014946/tile.jpg\", \"and so on\"]}\n",
    "\n",
    "df = pd.DataFrame(data=d)\n",
    "df"
   ]
  },
  {
   "cell_type": "code",
   "execution_count": null,
   "id": "a0d18a59",
   "metadata": {},
   "outputs": [],
   "source": [
    "from vertexai.preview.vision_models import MultiModalEmbeddingModel, Image"
   ]
  },
  {
   "cell_type": "code",
   "execution_count": null,
   "id": "60b4cb69",
   "metadata": {},
   "outputs": [],
   "source": [
    "model = MultiModalEmbeddingModel.from_pretrained(\"multimodalembedding@001\")"
   ]
  },
  {
   "cell_type": "code",
   "execution_count": null,
   "id": "66d26395",
   "metadata": {},
   "outputs": [],
   "source": [
    "# Initialize out vector db\n",
    "astra_db = AstraDB(token=os.getenv(\"ASTRA_DB_TOKEN\"), api_endpoint=os.getenv(\"ASTRA_DB_ENDPOINT\"))"
   ]
  },
  {
   "cell_type": "code",
   "execution_count": null,
   "id": "a48305ee",
   "metadata": {},
   "outputs": [],
   "source": [
    "collection = astra_db.create_collection(collection_name=\"coffee_shop_ecommerce\", dimention=1408)"
   ]
  },
  {
   "cell_type": "code",
   "execution_count": null,
   "id": "d1218ff3",
   "metadata": {},
   "outputs": [],
   "source": [
    "for i in range(len(df)):\n",
    "    name = df.loc[i, \"name\"]\n",
    "    image = df.loc[i, \"image\"]\n",
    "    price = df.loc[i, \"price\"]\n",
    "    url = df.loc[i, \"url\"]\n",
    "\n",
    "    # Download this product's image and save it to the Colab filesystem\n",
    "    # In production system this binary data would be stored in Google Cloud Storage\n",
    "    img_data = requests.get(image).content\n",
    "    with open(f\"{name}.png\", \"wb\") as handler:\n",
    "        handler.write(img_data)\n",
    "\n",
    "    # load the image from filesystem and compute the embedding value\n",
    "    img = Image.load_from_file(f\"{name}.png\")\n",
    "    embeddings = model.get_embeddings(image=img, contextual_text=name)\n",
    "\n",
    "    try:\n",
    "        # Add to AstraDB Vector Database\n",
    "        collection.insert_one({\n",
    "            \"_id\":i,\n",
    "            \"name\":name,\n",
    "            \"image\":image,\n",
    "            \"url\":url,\n",
    "            \"price\":price,\n",
    "            \"$vector\":embeddings.image_embedding,\n",
    "        })\n",
    "\n",
    "    except Exception as error:\n",
    "        # if you've already added this record, skip the error message\n",
    "        error_info = json.loads(str(error))\n",
    "        if error_info[0][\"errorCode\"] == \"DOCUMENT_ALREADY_EXISTS\":\n",
    "            print(\"Document already exists in the database. Skipping.\")"
   ]
  },
  {
   "cell_type": "code",
   "execution_count": null,
   "id": "498e4420",
   "metadata": {},
   "outputs": [],
   "source": [
    "# Embed the similar item \n",
    "img = Image.load_from_file(\"coffee_maker_part.png\")"
   ]
  },
  {
   "cell_type": "code",
   "execution_count": null,
   "id": "6342345e",
   "metadata": {},
   "outputs": [],
   "source": [
    "embeddings_1 = model.get_embeddings(image=img, contextual_text=\"A espresso machine part\")"
   ]
  },
  {
   "cell_type": "code",
   "execution_count": null,
   "id": "1f94f0b4",
   "metadata": {},
   "outputs": [],
   "source": [
    "embeddings_1"
   ]
  },
  {
   "cell_type": "code",
   "execution_count": null,
   "id": "6e2637bd",
   "metadata": {},
   "outputs": [],
   "source": [
    "# Perform the vector search against AstraDB Vector\n",
    "documents = collection.vector_find(\n",
    "    embeddings_1.image_embedding,\n",
    "    limit=3,\n",
    ")"
   ]
  },
  {
   "cell_type": "code",
   "execution_count": null,
   "id": "182e8100",
   "metadata": {},
   "outputs": [],
   "source": [
    "related_products_csv = \"name, image, price, url\\n\"\n",
    "for doc in documents:\n",
    "    related_products_csv += f\"{doc['name']}, {doc['image']}, {doc['price']}, {doc['url']},\\n\""
   ]
  },
  {
   "cell_type": "code",
   "execution_count": null,
   "id": "459422e8",
   "metadata": {},
   "outputs": [],
   "source": [
    "print(related_products_csv)"
   ]
  },
  {
   "cell_type": "code",
   "execution_count": null,
   "id": "db63613d",
   "metadata": {},
   "outputs": [],
   "source": [
    "image_message_1 = {\n",
    "    \"type\":\"image_url\",\n",
    "    \"image_url\":{\"url\":\"/content/coffee_part.png\"},\n",
    "}\n",
    "\n",
    "text_message_1 = {\n",
    "    \"type\":\"text\",\n",
    "    \"text\":f\"What we have in this image? share the URL and price to purchase a replacement. Here are related products {related_products_csv}\"\n",
    "}"
   ]
  },
  {
   "cell_type": "code",
   "execution_count": null,
   "id": "92086fc4",
   "metadata": {},
   "outputs": [],
   "source": [
    "message_1 = HumanMessage(content=[text_message_1, image_message_1])"
   ]
  },
  {
   "cell_type": "code",
   "execution_count": null,
   "id": "058dadbf",
   "metadata": {},
   "outputs": [],
   "source": [
    "chat_1 = ChatVertexAI(model_name=\"gemini-1.0-pro-vision\", safety_settings={\n",
    "    HarmCategory.HARM_CATEGORY_HATE_SPEECH: HarmBlockThreshold.BLOCK_LOW_AND_ABOVE\n",
    "},)"
   ]
  },
  {
   "cell_type": "code",
   "execution_count": null,
   "id": "ad0265de",
   "metadata": {},
   "outputs": [],
   "source": [
    "output_1 = chat_1([message_1])"
   ]
  },
  {
   "cell_type": "code",
   "execution_count": null,
   "id": "661452a5",
   "metadata": {},
   "outputs": [],
   "source": [
    "print(output_1)"
   ]
  }
 ],
 "metadata": {
  "kernelspec": {
   "display_name": "base",
   "language": "python",
   "name": "python3"
  },
  "language_info": {
   "codemirror_mode": {
    "name": "ipython",
    "version": 3
   },
   "file_extension": ".py",
   "mimetype": "text/x-python",
   "name": "python",
   "nbconvert_exporter": "python",
   "pygments_lexer": "ipython3",
   "version": "3.11.7"
  }
 },
 "nbformat": 4,
 "nbformat_minor": 5
}
