{
 "cells": [
  {
   "cell_type": "code",
   "execution_count": null,
   "id": "a7a6b848",
   "metadata": {},
   "outputs": [],
   "source": [
    "! pip install langchain_google_genai langchain_community chromadb "
   ]
  },
  {
   "cell_type": "code",
   "execution_count": null,
   "id": "a5c67db7",
   "metadata": {},
   "outputs": [],
   "source": [
    "import warnings \n",
    "import os\n",
    "from google.colab import userdata\n",
    "from langchain_google_genai import GoogleGenerativeAIEmbeddings, ChatGoogleGenerativeAI\n",
    "from langchain_community.document_loaders import WebBaseLoader\n",
    "from langchain.text_splitter import RecursiveCharacterTextSplitter\n",
    "from langchain_community.vectorstores import Chroma\n",
    "from langchain.prompts import ChatPromptTemplate\n"
   ]
  },
  {
   "cell_type": "code",
   "execution_count": null,
   "id": "3ecd9b8c",
   "metadata": {},
   "outputs": [],
   "source": [
    "# Ignore all warnings \n",
    "warnings.filterwarnings(\"ignore\")\n",
    "\n",
    "GOOGLE_API_KEY = userdata.get(\"GOOGLE_API_KEY\")\n",
    "os.environ[\"GOOGLE_API_KEY\"] = GOOGLE_API_KEY"
   ]
  },
  {
   "cell_type": "code",
   "execution_count": null,
   "id": "ec2091c8",
   "metadata": {},
   "outputs": [],
   "source": [
    "# Create a ChatGoogleGenerativeAI object and convert system messages to human-readable format\n",
    "llm = ChatGoogleGenerativeAI(model=\"gemini-pro\", convert_system_message_to_human=True)\n",
    "\n",
    "# Create a GoogleGenerativeAIEmbeddings object for embedding our prompt and documents\n",
    "embeddings = GoogleGenerativeAIEmbeddings(model=\"models/embedding-001\")"
   ]
  },
  {
   "cell_type": "code",
   "execution_count": null,
   "id": "5b5f148b",
   "metadata": {},
   "outputs": [],
   "source": [
    "loader = WebBaseLoader(\"https://lilianweng.github.io/posts/2023-03-15-prompt-engineering/\")\n",
    "\n",
    "# # load the blog post \n",
    "docs = loader.load()"
   ]
  },
  {
   "cell_type": "code",
   "execution_count": null,
   "id": "4f999e40",
   "metadata": {},
   "outputs": [],
   "source": [
    "print(docs[0])"
   ]
  },
  {
   "cell_type": "code",
   "execution_count": null,
   "id": "bbdc41a9",
   "metadata": {},
   "outputs": [],
   "source": [
    "# Chunk size and overlap\n",
    "text_splitter = RecursiveCharacterTextSplitter(chunk_size=300, chunk_overlap=50)\n",
    "\n",
    "# Store the resulting splits in the 'splits' variable\n",
    "splits = text_splitter.split_documents(docs)"
   ]
  },
  {
   "cell_type": "code",
   "execution_count": null,
   "id": "9043588d",
   "metadata": {},
   "outputs": [],
   "source": [
    "# Passing the HYDE embeddings to create and store embeddings \n",
    "vector_store = Chroma.from_documents(\n",
    "    documents=splits,\n",
    "    collection_name=\"my_collection\",\n",
    "    embedding=embeddings\n",
    ")\n",
    "\n",
    "# Creating retriever \n",
    "retriever = vector_store.as_retriever(search_type=\"similarity\", search_kwargs={\"k\":4})"
   ]
  },
  {
   "cell_type": "code",
   "execution_count": null,
   "id": "b6b0ab16",
   "metadata": {},
   "outputs": [],
   "source": [
    "template = \"\"\"\n",
    "\n",
    "For the given question try to generate a hypothetical answer\\\n",
    "Only generate the answer and nothing else:\n",
    "Question: {question}\n",
    "\n",
    "\"\"\""
   ]
  },
  {
   "cell_type": "code",
   "execution_count": null,
   "id": "1b371589",
   "metadata": {},
   "outputs": [],
   "source": [
    "prompt = ChatPromptTemplate.from_template(template=template)\n",
    "query = prompt.format(question=\"What are different chain of thought(CoT) Prompting?\")"
   ]
  },
  {
   "cell_type": "code",
   "execution_count": null,
   "id": "ddb2ba68",
   "metadata": {},
   "outputs": [],
   "source": [
    "hypothetical_answer = llm.invoke(query).content\n",
    "print(hypothetical_answer)"
   ]
  },
  {
   "cell_type": "code",
   "execution_count": null,
   "id": "dbab6ac3",
   "metadata": {},
   "outputs": [],
   "source": [
    "# Retrieval wiht hypothetical answer/document\n",
    "similar_docs_1 = retriever.get_relevant_documents(hypothetical_answer)"
   ]
  },
  {
   "cell_type": "code",
   "execution_count": null,
   "id": "9d125ff4",
   "metadata": {},
   "outputs": [],
   "source": [
    "for doc in similar_docs_1:\n",
    "    print(doc.page_content)\n",
    "    print()"
   ]
  },
  {
   "cell_type": "code",
   "execution_count": null,
   "id": "5ee64c34",
   "metadata": {},
   "outputs": [],
   "source": [
    "question=\"What are different chain of thought(CoT) Prompting?\""
   ]
  },
  {
   "cell_type": "code",
   "execution_count": null,
   "id": "99184c7a",
   "metadata": {},
   "outputs": [],
   "source": [
    "similar_docs_2 = retriever.get_relevant_documents(question)\n",
    "\n",
    "for doc in similar_docs_2:\n",
    "    print(doc.page_content)\n",
    "    print()"
   ]
  },
  {
   "cell_type": "code",
   "execution_count": null,
   "id": "67090740",
   "metadata": {},
   "outputs": [],
   "source": [
    "template_1 = \"\"\"\n",
    "\n",
    "Answer the following question in detailed based on this context:\n",
    "{context}\n",
    "Question: {question}\n",
    "\n",
    "\"\"\"\n",
    "\n",
    "prompt_1 = ChatPromptTemplate(template_1)"
   ]
  },
  {
   "cell_type": "code",
   "execution_count": null,
   "id": "a4c1de23",
   "metadata": {},
   "outputs": [],
   "source": [
    "def format_docs(docs):\n",
    "    return \"\\n\\n\".join(doc.page_content for doc in docs)"
   ]
  },
  {
   "cell_type": "code",
   "execution_count": null,
   "id": "d842f992",
   "metadata": {},
   "outputs": [],
   "source": [
    "formatted_docs_1 = format_docs(similar_docs_1)"
   ]
  },
  {
   "cell_type": "code",
   "execution_count": null,
   "id": "1f8f9269",
   "metadata": {},
   "outputs": [],
   "source": [
    "formatted_docs_2 = format_docs(similar_docs_2)"
   ]
  },
  {
   "cell_type": "code",
   "execution_count": null,
   "id": "894f86f0",
   "metadata": {},
   "outputs": [],
   "source": [
    "query_prompt_1 = prompt.format(context=formatted_docs_1,\n",
    "                               question=question)\n",
    "\n",
    "print(query_prompt_1)"
   ]
  },
  {
   "cell_type": "code",
   "execution_count": null,
   "id": "b252bdfb",
   "metadata": {},
   "outputs": [],
   "source": [
    "query_prompt_2 = prompt.format(context=formatted_docs_2,\n",
    "                               question=question)\n",
    "\n",
    "print(query_prompt_2)"
   ]
  },
  {
   "cell_type": "code",
   "execution_count": null,
   "id": "45df1cb8",
   "metadata": {},
   "outputs": [],
   "source": [
    "response_1 = llm.invoke(query_prompt_1)"
   ]
  },
  {
   "cell_type": "code",
   "execution_count": null,
   "id": "b8de5778",
   "metadata": {},
   "outputs": [],
   "source": [
    "print(response_1.content)"
   ]
  },
  {
   "cell_type": "code",
   "execution_count": null,
   "id": "aa972323",
   "metadata": {},
   "outputs": [],
   "source": [
    "response_2 = llm.invoke(query_prompt_2)"
   ]
  },
  {
   "cell_type": "code",
   "execution_count": null,
   "id": "acf13cd6",
   "metadata": {},
   "outputs": [],
   "source": [
    "print(response_2.content)"
   ]
  }
 ],
 "metadata": {
  "kernelspec": {
   "display_name": "base",
   "language": "python",
   "name": "python3"
  },
  "language_info": {
   "codemirror_mode": {
    "name": "ipython",
    "version": 3
   },
   "file_extension": ".py",
   "mimetype": "text/x-python",
   "name": "python",
   "nbconvert_exporter": "python",
   "pygments_lexer": "ipython3",
   "version": "3.11.7"
  }
 },
 "nbformat": 4,
 "nbformat_minor": 5
}
