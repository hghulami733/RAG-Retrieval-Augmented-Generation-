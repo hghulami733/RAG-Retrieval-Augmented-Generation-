{
 "cells": [
  {
   "cell_type": "code",
   "execution_count": 4,
   "id": "47738143",
   "metadata": {},
   "outputs": [],
   "source": [
    "from collections import Counter\n",
    "import math"
   ]
  },
  {
   "cell_type": "code",
   "execution_count": 3,
   "id": "fdf92543",
   "metadata": {},
   "outputs": [],
   "source": [
    "1\n",
    "\n",
    "corpus_of_documents = [\n",
    "\"Take a leisurely walk in the park and enjoy the fresh air.\",\n",
    "\"Visit a local museum and discover something new.\",\n",
    "\"Attend a live music concert and feel the rhythm.\",\n",
    "\"Go for a hike and admire the natural scenery.\",\n",
    "\"Have a picnic with friends and share some laughs.\",\n",
    "\"Explore a new cuisine by dining at an ethnic restaurant.\",\n",
    "\"Take a yoga class and stretch your body and mind.\",\n",
    "\"Join a local sports league and enjoy some friendly competition.\",\n",
    "\"Attend a workshop or lecture on a topic you're interested in.\",\n",
    "\"Visit an amusement park and ride the roller coasters.\"\n",
    "]"
   ]
  },
  {
   "cell_type": "markdown",
   "id": "4742c519",
   "metadata": {},
   "source": [
    "Cosine similarity"
   ]
  },
  {
   "cell_type": "code",
   "execution_count": 1,
   "id": "ff53bdb1",
   "metadata": {},
   "outputs": [],
   "source": [
    "user_query = \"I am an AI engineer and i love learning new things in this filed\""
   ]
  },
  {
   "cell_type": "code",
   "execution_count": 2,
   "id": "160fb2c5",
   "metadata": {},
   "outputs": [],
   "source": [
    "document = \"AI is a great and awesome filed for student who wants to learn about technology\""
   ]
  },
  {
   "cell_type": "code",
   "execution_count": 9,
   "id": "9edeb762",
   "metadata": {},
   "outputs": [],
   "source": [
    "query_tokens = user_query.lower().split(\" \")"
   ]
  },
  {
   "cell_type": "code",
   "execution_count": 10,
   "id": "d77ba6d8",
   "metadata": {},
   "outputs": [],
   "source": [
    "document_tokens = document.lower().split(\" \")"
   ]
  },
  {
   "cell_type": "code",
   "execution_count": 11,
   "id": "f957ab4f",
   "metadata": {},
   "outputs": [
    {
     "data": {
      "text/plain": [
       "(['i',\n",
       "  'am',\n",
       "  'an',\n",
       "  'ai',\n",
       "  'engineer',\n",
       "  'and',\n",
       "  'i',\n",
       "  'love',\n",
       "  'learning',\n",
       "  'new',\n",
       "  'things',\n",
       "  'in',\n",
       "  'this',\n",
       "  'filed'],\n",
       " ['ai',\n",
       "  'is',\n",
       "  'a',\n",
       "  'great',\n",
       "  'and',\n",
       "  'awesome',\n",
       "  'filed',\n",
       "  'for',\n",
       "  'student',\n",
       "  'who',\n",
       "  'wants',\n",
       "  'to',\n",
       "  'learn',\n",
       "  'about',\n",
       "  'technology'])"
      ]
     },
     "execution_count": 11,
     "metadata": {},
     "output_type": "execute_result"
    }
   ],
   "source": [
    "query_tokens, document_tokens"
   ]
  },
  {
   "cell_type": "code",
   "execution_count": 21,
   "id": "60c0fc2a",
   "metadata": {},
   "outputs": [
    {
     "data": {
      "text/plain": [
       "Counter({'i': 2,\n",
       "         'am': 1,\n",
       "         'an': 1,\n",
       "         'ai': 1,\n",
       "         'engineer': 1,\n",
       "         'and': 1,\n",
       "         'love': 1,\n",
       "         'learning': 1,\n",
       "         'new': 1,\n",
       "         'things': 1,\n",
       "         'in': 1,\n",
       "         'this': 1,\n",
       "         'filed': 1})"
      ]
     },
     "execution_count": 21,
     "metadata": {},
     "output_type": "execute_result"
    }
   ],
   "source": [
    "query_counter = Counter(query_tokens)\n",
    "query_counter"
   ]
  },
  {
   "cell_type": "code",
   "execution_count": 15,
   "id": "85c252d5",
   "metadata": {},
   "outputs": [],
   "source": [
    "documents_counter = Counter(document_tokens)"
   ]
  },
  {
   "cell_type": "code",
   "execution_count": 23,
   "id": "6d25c532",
   "metadata": {},
   "outputs": [
    {
     "data": {
      "text/plain": [
       "[2, 1, 1, 1, 1, 1, 1, 1, 1, 1, 1, 1, 1]"
      ]
     },
     "execution_count": 23,
     "metadata": {},
     "output_type": "execute_result"
    }
   ],
   "source": [
    "lst = []\n",
    "\n",
    "for token in query_counter.keys():\n",
    "    lst.append(query_counter[token])\n",
    "\n",
    "#Sentence vector\n",
    "lst"
   ]
  },
  {
   "cell_type": "code",
   "execution_count": 43,
   "id": "8381a148",
   "metadata": {},
   "outputs": [
    {
     "data": {
      "text/plain": [
       "[1, 1, 1, 1, 1, 1, 1, 1, 1, 1, 1, 1, 1, 1, 1]"
      ]
     },
     "execution_count": 43,
     "metadata": {},
     "output_type": "execute_result"
    }
   ],
   "source": [
    "lst_2 = []\n",
    "for token in documents_counter.keys():\n",
    "    lst_2.append(documents_counter[token])\n",
    "\n",
    "lst_2"
   ]
  },
  {
   "cell_type": "code",
   "execution_count": 36,
   "id": "05e607aa",
   "metadata": {},
   "outputs": [
    {
     "name": "stdout",
     "output_type": "stream",
     "text": [
      "ai\n",
      "filed\n",
      "and\n"
     ]
    }
   ],
   "source": [
    "same_token_list = []\n",
    "\n",
    "for tokens in query_counter.keys() & documents_counter.keys():\n",
    "    print(tokens)\n",
    "    same_token_list.append(query_counter[tokens] * documents_counter[tokens])"
   ]
  },
  {
   "cell_type": "markdown",
   "id": "746085b8",
   "metadata": {},
   "source": [
    "Dot product of the vectors"
   ]
  },
  {
   "cell_type": "code",
   "execution_count": 44,
   "id": "f0f5decd",
   "metadata": {},
   "outputs": [],
   "source": [
    "dot_product = sum(same_token_list)"
   ]
  },
  {
   "cell_type": "markdown",
   "id": "981fd239",
   "metadata": {},
   "source": [
    "Magnitude of the vectors"
   ]
  },
  {
   "cell_type": "code",
   "execution_count": 39,
   "id": "fe1d1483",
   "metadata": {},
   "outputs": [],
   "source": [
    "query_magnitude = math.sqrt(sum(query_counter[token] ** 2 for token in query_counter))"
   ]
  },
  {
   "cell_type": "code",
   "execution_count": 40,
   "id": "4ff6cfb3",
   "metadata": {},
   "outputs": [
    {
     "data": {
      "text/plain": [
       "4.0"
      ]
     },
     "execution_count": 40,
     "metadata": {},
     "output_type": "execute_result"
    }
   ],
   "source": [
    "query_magnitude"
   ]
  },
  {
   "cell_type": "code",
   "execution_count": 42,
   "id": "b974d5b0",
   "metadata": {},
   "outputs": [
    {
     "data": {
      "text/plain": [
       "3.872983346207417"
      ]
     },
     "execution_count": 42,
     "metadata": {},
     "output_type": "execute_result"
    }
   ],
   "source": [
    "document_magnitude = math.sqrt(sum(documents_counter[tokens] ** 2 for tokens in documents_counter))\n",
    "\n",
    "document_magnitude"
   ]
  },
  {
   "cell_type": "markdown",
   "id": "894a0036",
   "metadata": {},
   "source": [
    "final Cosine similarity"
   ]
  },
  {
   "cell_type": "code",
   "execution_count": 45,
   "id": "0ed5fa4c",
   "metadata": {},
   "outputs": [
    {
     "data": {
      "text/plain": [
       "0.19364916731037085"
      ]
     },
     "execution_count": 45,
     "metadata": {},
     "output_type": "execute_result"
    }
   ],
   "source": [
    "final_cosin_similarity = dot_product / (query_magnitude * document_magnitude)\n",
    "\n",
    "final_cosin_similarity"
   ]
  },
  {
   "cell_type": "code",
   "execution_count": 47,
   "id": "e2b2921d",
   "metadata": {},
   "outputs": [],
   "source": [
    "def cosine_similarity(query, document):\n",
    "    # Tokenize and convert to lowercase\n",
    "    query_token = query.lower().split(\" \")\n",
    "    document_token = document.lower().split(\" \")\n",
    "\n",
    "    # Create counters for query and documents\n",
    "    query_counter = Counter(query_token)\n",
    "    document_counter = Counter(document_token)\n",
    "\n",
    "    # Calculate the dot product\n",
    "    dot_product = sum(query_counter[token] * document_counter[token] for token in query_counter)\n",
    "\n",
    "    # Calculate magnitude \n",
    "    query_magnitude = math.sqrt(sum(query_counter[token] ** 2 for token in query_counter))\n",
    "    document_magnitude = math.sqrt(sum(document_counter[token] ** 2 for token in document_counter))\n",
    "\n",
    "    # Cosine similarity\n",
    "    cosine_similarity = dot_product / (query_magnitude * document_magnitude)\n",
    "\n",
    "    return cosine_similarity"
   ]
  },
  {
   "cell_type": "code",
   "execution_count": 48,
   "id": "79fd4ca8",
   "metadata": {},
   "outputs": [],
   "source": [
    "user_query_1 = \"Is playing video games healthy for body?\"\n",
    "document_1 = \"Playing video games for a long time during the day can be really harmful for body\"\n"
   ]
  },
  {
   "cell_type": "code",
   "execution_count": 49,
   "id": "5c3ca841",
   "metadata": {},
   "outputs": [
    {
     "data": {
      "text/plain": [
       "0.44543540318737396"
      ]
     },
     "execution_count": 49,
     "metadata": {},
     "output_type": "execute_result"
    }
   ],
   "source": [
    "cosine_similarity(user_query_1, document_1)"
   ]
  },
  {
   "cell_type": "code",
   "execution_count": 51,
   "id": "250c0d5a",
   "metadata": {},
   "outputs": [],
   "source": [
    "def return_response(query, corpus):\n",
    "    similarites = []\n",
    "    for doc in corpus:\n",
    "        similarity = cosine_similarity(query, doc)\n",
    "        similarites.append(similarity)\n",
    "\n",
    "    return corpus_of_documents[similarites.index(max(similarites))]"
   ]
  },
  {
   "cell_type": "code",
   "execution_count": 53,
   "id": "3377fc62",
   "metadata": {},
   "outputs": [
    {
     "data": {
      "text/plain": [
       "['Take a leisurely walk in the park and enjoy the fresh air.',\n",
       " 'Visit a local museum and discover something new.',\n",
       " 'Attend a live music concert and feel the rhythm.',\n",
       " 'Go for a hike and admire the natural scenery.',\n",
       " 'Have a picnic with friends and share some laughs.',\n",
       " 'Explore a new cuisine by dining at an ethnic restaurant.',\n",
       " 'Take a yoga class and stretch your body and mind.',\n",
       " 'Join a local sports league and enjoy some friendly competition.',\n",
       " \"Attend a workshop or lecture on a topic you're interested in.\",\n",
       " 'Visit an amusement park and ride the roller coasters.']"
      ]
     },
     "execution_count": 53,
     "metadata": {},
     "output_type": "execute_result"
    }
   ],
   "source": [
    "corpus_of_documents"
   ]
  },
  {
   "cell_type": "code",
   "execution_count": 56,
   "id": "905a4ba7",
   "metadata": {},
   "outputs": [],
   "source": [
    "user_input = \"how can i enjoy sport?\""
   ]
  },
  {
   "cell_type": "code",
   "execution_count": 58,
   "id": "37ea26d5",
   "metadata": {},
   "outputs": [],
   "source": [
    "relevant_document = return_response(user_input, corpus_of_documents)"
   ]
  },
  {
   "cell_type": "markdown",
   "id": "c41a65ff",
   "metadata": {},
   "source": [
    "Augment the response by using LLAMA2 model"
   ]
  },
  {
   "cell_type": "code",
   "execution_count": null,
   "id": "add0133d",
   "metadata": {},
   "outputs": [],
   "source": [
    "import json\n",
    "import requests\n",
    "\n",
    "full_response = []\n",
    "\n",
    "prompt = \"\"\"\n",
    "\n",
    "You are a bot that makes reommendations for activities. You answer in very short sentences and do not include extra information.\n",
    "This is the recommended activity: {relevant_document}\n",
    "The user input is: {user_input}\n",
    "compile a recommendation to the user bases on the recommended activity and the user input\n",
    "\n",
    "\"\"\"\n",
    "\n",
    "url = \"https://localhost:11434/api/generate\"\n",
    "data = {\n",
    "    \"model\":\"llama2\",\n",
    "    \"prompt\": prompt.format(user_input=user_input, relevant_doocument=relevant_document)\n",
    "\n",
    "}\n",
    "\n",
    "headers = {\"Content-Type\": \"application/json\"}\n",
    "response = requests.post(url, data=json.dumps(data), headers=headers, stream=True)\n",
    "try:\n",
    "    for line in response.iter_lines():\n",
    "        # filter out keep-alive new lines\n",
    "        if line:\n",
    "            decoded_line = json.loads(line.decode(\"utf-8\"))\n",
    "            # print(decoded_line[\"response\"]) # Uncomment to results, token by token\n",
    "            full_response.append(decoded_line[\"response\"])\n",
    "\n",
    "finally:\n",
    "    response.close()\n",
    "\n",
    "print(\"\".join(full_response))"
   ]
  },
  {
   "cell_type": "code",
   "execution_count": null,
   "id": "d4368b2e",
   "metadata": {},
   "outputs": [],
   "source": []
  },
  {
   "cell_type": "code",
   "execution_count": null,
   "id": "83e8be60",
   "metadata": {},
   "outputs": [],
   "source": []
  },
  {
   "cell_type": "code",
   "execution_count": null,
   "id": "2855cdd6",
   "metadata": {},
   "outputs": [],
   "source": []
  },
  {
   "cell_type": "code",
   "execution_count": null,
   "id": "d82fe483",
   "metadata": {},
   "outputs": [],
   "source": []
  },
  {
   "cell_type": "code",
   "execution_count": null,
   "id": "03f2bf26",
   "metadata": {},
   "outputs": [],
   "source": []
  },
  {
   "cell_type": "code",
   "execution_count": null,
   "id": "6df12822",
   "metadata": {},
   "outputs": [],
   "source": []
  }
 ],
 "metadata": {
  "kernelspec": {
   "display_name": "base",
   "language": "python",
   "name": "python3"
  },
  "language_info": {
   "codemirror_mode": {
    "name": "ipython",
    "version": 3
   },
   "file_extension": ".py",
   "mimetype": "text/x-python",
   "name": "python",
   "nbconvert_exporter": "python",
   "pygments_lexer": "ipython3",
   "version": "3.11.7"
  }
 },
 "nbformat": 4,
 "nbformat_minor": 5
}
