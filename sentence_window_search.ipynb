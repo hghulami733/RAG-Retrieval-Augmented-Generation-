{
 "cells": [
  {
   "cell_type": "code",
   "execution_count": null,
   "id": "23d709d4",
   "metadata": {},
   "outputs": [],
   "source": [
    "! pip install llama_index llama-index-embeddings-huggingface llama-index-vector-stores-qdrant "
   ]
  },
  {
   "cell_type": "code",
   "execution_count": null,
   "id": "b2126dda",
   "metadata": {},
   "outputs": [],
   "source": [
    "! pip install llama-index-llms-gemini "
   ]
  },
  {
   "cell_type": "code",
   "execution_count": null,
   "id": "6fa539bf",
   "metadata": {},
   "outputs": [],
   "source": [
    "! pip install -q llama-index google-generativeai "
   ]
  },
  {
   "cell_type": "code",
   "execution_count": null,
   "id": "8ff1b704",
   "metadata": {},
   "outputs": [],
   "source": [
    "import os\n",
    "import sys\n",
    "import pprint\n",
    "from llama_index.core import (\n",
    "    VectorStoreIndex,\n",
    "    SimpleDirectoryReader,\n",
    "    load_index_from_storage,\n",
    "    StorageContext,\n",
    "    ServiceContext,\n",
    "    Document\n",
    ")\n",
    "from llama_index.core.node_parser import SentenceWindowNodeParser\n",
    "from llama_index.core.text_splitter import SenteceSplitter\n",
    "from llama_index.embeddings.huggingface import HuggingFaceEmbedding\n",
    "from llama_index.core.schema import MetadataMode\n",
    "from llama_index.core.postprocessor import MetadataReplacementPostProcessor\n",
    "import google.generativeai as genai\n",
    "from llama_index.llms.gemini import Gemini\n",
    "from llama_index.core.llms import ChatMessage\n",
    "from llama_index.core import Settings\n",
    "from llama_index.vector_stores.qdrant import QdrantVectorStore\n",
    "import qdrant_clinet\n"
   ]
  },
  {
   "cell_type": "code",
   "execution_count": null,
   "id": "0a2b2b49",
   "metadata": {},
   "outputs": [],
   "source": [
    "%load_ext autoreload\n",
    "%autoreload 2"
   ]
  },
  {
   "cell_type": "code",
   "execution_count": null,
   "id": "d2248c1d",
   "metadata": {},
   "outputs": [],
   "source": [
    "# Loading embedding model\n",
    "embed_model = HuggingFaceEmbedding(model_name=\"sentence-transformers/all-mpnet-base-v2\", max_length=512)"
   ]
  },
  {
   "cell_type": "code",
   "execution_count": null,
   "id": "f05fba49",
   "metadata": {},
   "outputs": [],
   "source": [
    "GOOGLE_API_KEY = \"GOOGLE_API_KEY\" # Add your api key here\n",
    "os.environ[\"GOOGLE_API_KEY\"] = GOOGLE_API_KEY"
   ]
  },
  {
   "cell_type": "code",
   "execution_count": null,
   "id": "dd2caba7",
   "metadata": {},
   "outputs": [],
   "source": [
    "for m in genai.list_models():\n",
    "    if \"generateContent\" in m.supported_generation_methods:\n",
    "        print(m.name)"
   ]
  },
  {
   "cell_type": "code",
   "execution_count": null,
   "id": "9e588a71",
   "metadata": {},
   "outputs": [],
   "source": [
    "llm = Gemini(model=\"models/gimini-pro\")"
   ]
  },
  {
   "cell_type": "code",
   "execution_count": null,
   "id": "b20722b1",
   "metadata": {},
   "outputs": [],
   "source": [
    "messages = [\n",
    "    ChatMessage(role=\"user\", content=\"Hello friend!\"),\n",
    "    # ChatMessage(role=\"assistant\", content=\"Yarr what is shakin' matey?\"),\n",
    "    # ChatMessage(role=\"user\", content=\"Help me decide what to have for dinner.\")\n",
    "]\n",
    "\n",
    "response = llm.chat(messages)\n",
    "print(response)"
   ]
  },
  {
   "cell_type": "code",
   "execution_count": null,
   "id": "541dc8b3",
   "metadata": {},
   "outputs": [],
   "source": [
    "\"\"\"# create local directory and retrieve file from external source\n",
    "!mkdir -p 'my_data'\n",
    "!wget 'https://www.gutenberg.org/cache/epub/72306/pg72306.txt' -0 './my_data/teahistory.txt'\n",
    "!wget 'https://www.gutenberg.org/cache/epub/11367/pg11367.txt' -0 './my_data/chinahistory.txt'\n",
    "\n",
    "\"\"\""
   ]
  },
  {
   "cell_type": "code",
   "execution_count": null,
   "id": "eb4a2044",
   "metadata": {},
   "outputs": [],
   "source": [
    "documents = SimpleDirectoryReader(input_files=[\"/content/my_data/got_book.txt\"]).load_data()"
   ]
  },
  {
   "cell_type": "code",
   "execution_count": null,
   "id": "fa0d7e86",
   "metadata": {},
   "outputs": [],
   "source": [
    "documents"
   ]
  },
  {
   "cell_type": "code",
   "execution_count": null,
   "id": "2fbedb3c",
   "metadata": {},
   "outputs": [],
   "source": [
    "# Inspect documents\n",
    "print(\"length of doc: \" + str(len(documents)))\n",
    "print(\"-----\")\n",
    "# pprint(documents)"
   ]
  },
  {
   "cell_type": "code",
   "execution_count": null,
   "id": "b7201bd7",
   "metadata": {},
   "outputs": [],
   "source": [
    "documents[0].metadata"
   ]
  },
  {
   "cell_type": "code",
   "execution_count": null,
   "id": "1b5c10b4",
   "metadata": {},
   "outputs": [],
   "source": [
    "# Create the sentence window node parser w/ default settings\n",
    "sentence_node_parser = SentenceWindowNodeParser.from_defaults(\n",
    "    window_size=3,\n",
    "    window_metadata_key=\"window\",\n",
    "    original_text_metadata_key=\"original_text\"\n",
    ")"
   ]
  },
  {
   "cell_type": "code",
   "execution_count": null,
   "id": "c359d12d",
   "metadata": {},
   "outputs": [],
   "source": [
    "nodes = sentence_node_parser.get_nodes_from_documents(documents)"
   ]
  },
  {
   "cell_type": "code",
   "execution_count": null,
   "id": "e98fccec",
   "metadata": {},
   "outputs": [],
   "source": [
    "base_node_parser = SenteceSplitter()"
   ]
  },
  {
   "cell_type": "code",
   "execution_count": null,
   "id": "3dfabddf",
   "metadata": {},
   "outputs": [],
   "source": [
    "base_nodes = base_node_parser.get_nodes_from_documents(documents)"
   ]
  },
  {
   "cell_type": "code",
   "execution_count": null,
   "id": "ef3e3a87",
   "metadata": {},
   "outputs": [],
   "source": [
    "Settings.llm = llm\n",
    "Settings.embed_model = embed_model\n",
    "Settings.text_splitter = base_node_parser"
   ]
  },
  {
   "cell_type": "code",
   "execution_count": null,
   "id": "351119c5",
   "metadata": {},
   "outputs": [],
   "source": [
    "len(nodes)"
   ]
  },
  {
   "cell_type": "code",
   "execution_count": null,
   "id": "678291d6",
   "metadata": {},
   "outputs": [],
   "source": [
    "len(base_nodes)"
   ]
  },
  {
   "cell_type": "code",
   "execution_count": null,
   "id": "656bbb72",
   "metadata": {},
   "outputs": [],
   "source": [
    "print(\"---------\")\n",
    "print(\"SENTENCE NODES\")\n",
    "print(\"--------\")\n",
    "print(nodes[7])\n",
    "print(\"---------\")\n",
    "print(\"BASE NODES\")\n",
    "print(\"---------\")\n",
    "print(base_nodes[7])"
   ]
  },
  {
   "cell_type": "code",
   "execution_count": null,
   "id": "c227ec36",
   "metadata": {},
   "outputs": [],
   "source": [
    "nodes[7].text"
   ]
  },
  {
   "cell_type": "code",
   "execution_count": null,
   "id": "0e6e155d",
   "metadata": {},
   "outputs": [],
   "source": [
    "base_nodes[7].text"
   ]
  },
  {
   "cell_type": "code",
   "execution_count": null,
   "id": "3241576c",
   "metadata": {},
   "outputs": [],
   "source": [
    "dict(nodes[7])"
   ]
  },
  {
   "cell_type": "code",
   "execution_count": null,
   "id": "6b8b580c",
   "metadata": {},
   "outputs": [],
   "source": [
    "ctx_sentence = ServiceContext.from_defaults(llm=llm, embed_model=embed_model, node_parser=sentence_node_parser)"
   ]
  },
  {
   "cell_type": "code",
   "execution_count": null,
   "id": "15f8bf96",
   "metadata": {},
   "outputs": [],
   "source": [
    "ctx_base = ServiceContext.from_defaults(llm=llm, embed_model=embed_model, node_parser=base_node_parser)"
   ]
  },
  {
   "cell_type": "code",
   "execution_count": null,
   "id": "989cd4c4",
   "metadata": {},
   "outputs": [],
   "source": [
    "client = qdrant_clinet.QdrantClient(\n",
    "    \"Qdrant_url\",\n",
    "    api_key=\"qdrant_api_key\", # for qarant Cloud, None for local\n",
    ")"
   ]
  },
  {
   "cell_type": "code",
   "execution_count": null,
   "id": "c3b75d6a",
   "metadata": {},
   "outputs": [],
   "source": [
    "'''client = qdrant_client.QdrantClient(\n",
    "# you can use :memory: mode for fast and light-weight experiments,\n",
    "# it does not require to have Qdrant deployed anywhere\n",
    "# but requires qdrant-client >= 1.1.1\n",
    "# location=\":memory:\"\n",
    "# otherwise set Qdrant instance address with:\n",
    "# url=\"http://<host> ;< port>\"\n",
    "# otherwise set Qdrant instance with host and port:\n",
    "host=\"localhost\",\n",
    "port=6333\n",
    "# set API KEY for Qdrant Cloud\n",
    "# api_key=\"<qdrant-api-key>\",\n",
    ")\n",
    "'''"
   ]
  },
  {
   "cell_type": "code",
   "execution_count": null,
   "id": "d2b0cf8e",
   "metadata": {},
   "outputs": [],
   "source": [
    "vector_store = QdrantVectorStore(client=client, collection_name=\"got_sent_node\")"
   ]
  },
  {
   "cell_type": "code",
   "execution_count": null,
   "id": "ff7ada25",
   "metadata": {},
   "outputs": [],
   "source": [
    "storage_context = StorageContext.from_defaults(vector_store=vector_store)"
   ]
  },
  {
   "cell_type": "code",
   "execution_count": null,
   "id": "e23f4285",
   "metadata": {},
   "outputs": [],
   "source": [
    "index = VectorStoreIndex.from_documents(documents, storage_context=storage_context, service_context=ctx_sentence)"
   ]
  },
  {
   "cell_type": "code",
   "execution_count": null,
   "id": "63dffb77",
   "metadata": {},
   "outputs": [],
   "source": [
    "vector_store_2 = QdrantVectorStore(client=client, collection_name=\"got_base_node\")"
   ]
  },
  {
   "cell_type": "code",
   "execution_count": null,
   "id": "858e41d3",
   "metadata": {},
   "outputs": [],
   "source": [
    "storage_context_2 = StorageContext.from_defaults(vector_store=vector_store_2)"
   ]
  },
  {
   "cell_type": "code",
   "execution_count": null,
   "id": "ba1c1d25",
   "metadata": {},
   "outputs": [],
   "source": [
    "index_2 = VectorStoreIndex.from_documents(documents, storage_context=storage_context_2, service_context=ctx_base)"
   ]
  },
  {
   "cell_type": "code",
   "execution_count": null,
   "id": "cafcbc77",
   "metadata": {},
   "outputs": [],
   "source": [
    "#sentence_indes = VectorStoreIndex(nodes, service_context=ctx_sentence, service_context=ctx_base)"
   ]
  },
  {
   "cell_type": "code",
   "execution_count": null,
   "id": "bfccc74d",
   "metadata": {},
   "outputs": [],
   "source": [
    "#base_index = VectorStoreIndex(base_node, service_context=ctx_base)"
   ]
  },
  {
   "cell_type": "code",
   "execution_count": null,
   "id": "fa9f1400",
   "metadata": {},
   "outputs": [],
   "source": [
    "\"\"\"\n",
    "sentence_index.storage_context.persist(persist_dir='./sentence_index')\n",
    "base_index.storage_context.persist(persist_dir='./base_index')\n",
    "\n",
    "\"\"\""
   ]
  },
  {
   "cell_type": "code",
   "execution_count": null,
   "id": "19f35d16",
   "metadata": {},
   "outputs": [],
   "source": [
    "# Download to own computer for backup\n",
    "\"\"\"\n",
    "!zip -r ./indexes.zip ./*_index\n",
    "\n",
    "from google.colab import files\n",
    "files.download(*./indexes.zip)\n",
    "\n",
    "\"\"\""
   ]
  },
  {
   "cell_type": "code",
   "execution_count": null,
   "id": "cd45947d",
   "metadata": {},
   "outputs": [],
   "source": [
    "'''# rebuild storage context\n",
    "SC_retrieved_sentence = StorageContext.from_defaults(persist_dir=\"./sentence_index\")\n",
    "SC_retrieved_base = StorageContext.from_defaults(persist_dir=\"./base_index\")'''"
   ]
  },
  {
   "cell_type": "code",
   "execution_count": null,
   "id": "fad60414",
   "metadata": {},
   "outputs": [],
   "source": [
    "'''# load index\n",
    "retrieved_sentence_index = load_index_from_storage(SC_retrieved_sentence)\n",
    "retrieved_base_index = load_index_from_storage(SC_retrieved_base)'''\n"
   ]
  },
  {
   "cell_type": "code",
   "execution_count": null,
   "id": "033ed2d9",
   "metadata": {},
   "outputs": [],
   "source": [
    "'''sentence_query_engine = sentence_index.as_query_engine(\n",
    "    similarity_top_k=5,\n",
    "    verbose=True,\n",
    "    # the target key defaults to 'window' to match the node_parser's default\n",
    "    node_postprocessors=[\n",
    "        MetadataReplacementPostProcessor(target_metadata_key=\"window\")\n",
    "    ],\n",
    ")\n",
    "'''"
   ]
  },
  {
   "cell_type": "code",
   "execution_count": null,
   "id": "bf7905a0",
   "metadata": {},
   "outputs": [],
   "source": [
    "'''\n",
    "base_query_engine = base_index.as_query_engine(\n",
    "    similarity_top_k=5,\n",
    "    verbose=True\n",
    "    )\n",
    "\n",
    "'''"
   ]
  },
  {
   "cell_type": "code",
   "execution_count": null,
   "id": "78c6ff8a",
   "metadata": {},
   "outputs": [],
   "source": [
    "sentence_query_engine = index.as_query_engine(\n",
    "    similarity_top_k=3,\n",
    "    verbose=True,\n",
    "    # The target key defaults to 'window' to match the node_parser's default\n",
    "    node_postprocessors=[\n",
    "        MetadataReplacementPostProcessor(target_metadata_key=\"window\")\n",
    "    ],\n",
    ")"
   ]
  },
  {
   "cell_type": "code",
   "execution_count": null,
   "id": "4bd2eb2f",
   "metadata": {},
   "outputs": [],
   "source": [
    "base_query_engine = index_2.as_query_engine(\n",
    "    similarity_top_k=3,\n",
    "    verbose=True\n",
    ")"
   ]
  },
  {
   "cell_type": "markdown",
   "id": "73985008",
   "metadata": {},
   "source": [
    "Generation of the data"
   ]
  },
  {
   "cell_type": "code",
   "execution_count": null,
   "id": "c28eacab",
   "metadata": {},
   "outputs": [],
   "source": [
    "question = \"How long have Gared and Will been part of the Night's Watch?\""
   ]
  },
  {
   "cell_type": "code",
   "execution_count": null,
   "id": "1fc999ef",
   "metadata": {},
   "outputs": [],
   "source": [
    "base_response = base_query_engine.query(\n",
    "    question\n",
    ")\n",
    "\n",
    "print(base_response)"
   ]
  },
  {
   "cell_type": "code",
   "execution_count": null,
   "id": "b32df5bc",
   "metadata": {},
   "outputs": [],
   "source": [
    "sentence_response = sentence_query_engine.query(\n",
    "    question\n",
    ")\n",
    "print(sentence_response)"
   ]
  }
 ],
 "metadata": {
  "kernelspec": {
   "display_name": "base",
   "language": "python",
   "name": "python3"
  },
  "language_info": {
   "codemirror_mode": {
    "name": "ipython",
    "version": 3
   },
   "file_extension": ".py",
   "mimetype": "text/x-python",
   "name": "python",
   "nbconvert_exporter": "python",
   "pygments_lexer": "ipython3",
   "version": "3.11.7"
  }
 },
 "nbformat": 4,
 "nbformat_minor": 5
}
