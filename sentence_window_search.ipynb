{
 "cells": [
  {
   "cell_type": "code",
   "execution_count": null,
   "id": "23d709d4",
   "metadata": {},
   "outputs": [],
   "source": [
    "! pip install llama_index llama-index-embeddings-huggingface llama-index-vector-stores-qdrant "
   ]
  },
  {
   "cell_type": "code",
   "execution_count": null,
   "id": "b2126dda",
   "metadata": {},
   "outputs": [],
   "source": [
    "! pip install llama-index-llms-gemini "
   ]
  },
  {
   "cell_type": "code",
   "execution_count": null,
   "id": "6fa539bf",
   "metadata": {},
   "outputs": [],
   "source": [
    "! pip install -q llama-index google-generativeai "
   ]
  },
  {
   "cell_type": "code",
   "execution_count": null,
   "id": "8ff1b704",
   "metadata": {},
   "outputs": [],
   "source": [
    "import os\n",
    "import sys\n",
    "import pprint\n",
    "from llama_index.core import (\n",
    "    VectorStoreIndex,\n",
    "    SimpleDirectoryReader,\n",
    "    load_index_from_storage,\n",
    "    StorageContext,\n",
    "    ServiceContext,\n",
    "    Document\n",
    ")\n",
    "from llama_index.core.node_parser import SentenceWindowNodeParser\n",
    "from llama_index.core.text_splitter import SenteceSplitter\n",
    "from llama_index.embeddings.huggingface import HuggingFaceEmbedding\n",
    "from llama_index.core.schema import MetadataMode\n",
    "from llama_index.core.postprocessor import MetadataReplacementPostProcessor\n",
    "import google.generativeai as genai\n",
    "from llama_index.llms.gemini import Gemini\n",
    "from llama_index.core.llms import ChatMessage\n"
   ]
  },
  {
   "cell_type": "code",
   "execution_count": null,
   "id": "0a2b2b49",
   "metadata": {},
   "outputs": [],
   "source": [
    "%load_ext autoreload\n",
    "%autoreload 2"
   ]
  },
  {
   "cell_type": "code",
   "execution_count": null,
   "id": "d2248c1d",
   "metadata": {},
   "outputs": [],
   "source": [
    "# Loading embedding model\n",
    "embed_model = HuggingFaceEmbedding(model_name=\"sentence-transformers/all-mpnet-base-v2\", max_length=512)"
   ]
  },
  {
   "cell_type": "code",
   "execution_count": null,
   "id": "f05fba49",
   "metadata": {},
   "outputs": [],
   "source": [
    "GOOGLE_API_KEY = \"GOOGLE_API_KEY\" # Add your api key here\n",
    "os.environ[\"GOOGLE_API_KEY\"] = GOOGLE_API_KEY"
   ]
  },
  {
   "cell_type": "code",
   "execution_count": null,
   "id": "dd2caba7",
   "metadata": {},
   "outputs": [],
   "source": [
    "for m in genai.list_models():\n",
    "    if \"generateContent\" in m.supported_generation_methods:\n",
    "        print(m.name)"
   ]
  },
  {
   "cell_type": "code",
   "execution_count": null,
   "id": "9e588a71",
   "metadata": {},
   "outputs": [],
   "source": [
    "llm = Gemini(model=\"models/gimini-pro\")"
   ]
  },
  {
   "cell_type": "code",
   "execution_count": null,
   "id": "b20722b1",
   "metadata": {},
   "outputs": [],
   "source": [
    "messages = [\n",
    "    ChatMessage(role=\"user\", content=\"Hello friend!\"),\n",
    "    # ChatMessage(role=\"assistant\", content=\"Yarr what is shakin' matey?\"),\n",
    "    # ChatMessage(role=\"user\", content=\"Help me decide what to have for dinner.\")\n",
    "]\n",
    "\n",
    "response = llm.chat(messages)\n",
    "print(response)"
   ]
  },
  {
   "cell_type": "code",
   "execution_count": null,
   "id": "541dc8b3",
   "metadata": {},
   "outputs": [],
   "source": [
    "\"\"\"# create local directory and retrieve file from external source\n",
    "!mkdir -p 'my_data'\n",
    "!wget 'https://www.gutenberg.org/cache/epub/72306/pg72306.txt' -0 './my_data/teahistory.txt'\n",
    "!wget 'https://www.gutenberg.org/cache/epub/11367/pg11367.txt' -0 './my_data/chinahistory.txt'\n",
    "\n",
    "\"\"\""
   ]
  },
  {
   "cell_type": "code",
   "execution_count": null,
   "id": "eb4a2044",
   "metadata": {},
   "outputs": [],
   "source": [
    "documents = SimpleDirectoryReader(input_files=[\"/content/my_data/got_book.txt\"]).load_data()"
   ]
  },
  {
   "cell_type": "code",
   "execution_count": null,
   "id": "fa0d7e86",
   "metadata": {},
   "outputs": [],
   "source": [
    "documents"
   ]
  },
  {
   "cell_type": "code",
   "execution_count": null,
   "id": "2fbedb3c",
   "metadata": {},
   "outputs": [],
   "source": [
    "# Inspect documents\n",
    "print(\"length of doc: \" + str(len(documents)))\n",
    "print(\"-----\")\n",
    "# pprint(documents)"
   ]
  },
  {
   "cell_type": "code",
   "execution_count": null,
   "id": "b7201bd7",
   "metadata": {},
   "outputs": [],
   "source": [
    "documents[0].metadata"
   ]
  },
  {
   "cell_type": "code",
   "execution_count": null,
   "id": "1b5c10b4",
   "metadata": {},
   "outputs": [],
   "source": []
  },
  {
   "cell_type": "code",
   "execution_count": null,
   "id": "c359d12d",
   "metadata": {},
   "outputs": [],
   "source": []
  },
  {
   "cell_type": "code",
   "execution_count": null,
   "id": "e98fccec",
   "metadata": {},
   "outputs": [],
   "source": []
  },
  {
   "cell_type": "code",
   "execution_count": null,
   "id": "3dfabddf",
   "metadata": {},
   "outputs": [],
   "source": []
  },
  {
   "cell_type": "code",
   "execution_count": null,
   "id": "ef3e3a87",
   "metadata": {},
   "outputs": [],
   "source": []
  },
  {
   "cell_type": "code",
   "execution_count": null,
   "id": "351119c5",
   "metadata": {},
   "outputs": [],
   "source": []
  },
  {
   "cell_type": "code",
   "execution_count": null,
   "id": "678291d6",
   "metadata": {},
   "outputs": [],
   "source": []
  },
  {
   "cell_type": "code",
   "execution_count": null,
   "id": "656bbb72",
   "metadata": {},
   "outputs": [],
   "source": []
  },
  {
   "cell_type": "code",
   "execution_count": null,
   "id": "bfccc74d",
   "metadata": {},
   "outputs": [],
   "source": []
  }
 ],
 "metadata": {
  "kernelspec": {
   "display_name": "base",
   "language": "python",
   "name": "python3"
  },
  "language_info": {
   "codemirror_mode": {
    "name": "ipython",
    "version": 3
   },
   "file_extension": ".py",
   "mimetype": "text/x-python",
   "name": "python",
   "nbconvert_exporter": "python",
   "pygments_lexer": "ipython3",
   "version": "3.11.7"
  }
 },
 "nbformat": 4,
 "nbformat_minor": 5
}
