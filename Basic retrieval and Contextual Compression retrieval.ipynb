{
 "cells": [
  {
   "cell_type": "code",
   "execution_count": null,
   "id": "2b9310a2",
   "metadata": {},
   "outputs": [],
   "source": [
    "! pip install langchain_community langchain_openai faiss_cpu"
   ]
  },
  {
   "cell_type": "code",
   "execution_count": null,
   "id": "dec6c651",
   "metadata": {},
   "outputs": [],
   "source": [
    "from langchain_community.document_loaders import TextLoader\n",
    "from langchain_community.vectorstores import FAISS\n",
    "from langchain_openai import OpenAIEmbeddings, ChatOpenAI\n",
    "from langchain_text_splitters import CharacterTextSplitter\n",
    "from google.colab import userdata\n",
    "import os\n",
    "from langchain.retrievers import ContextualCompressionRetriever\n",
    "from langchain.retrievers.document_compressors import LLMChainExtractor, DocumentCompressorPipeline\n",
    "from langchain_openai import OpenAI, ChatOpenAI, OpenAIEmbeddings\n",
    "from langchain.chains import RetrievalQA\n",
    "from langchain.retrievers.document_compressors import LLMChainFilter\n",
    "from langchain.retrievers.document_compressors import EmbeddingsFilter\n",
    "from langchain_community.document_transformers import EmbeddingsRedundantFilter\n",
    "from langchain_text_splitters import CharacterTextSplitter\n"
   ]
  },
  {
   "cell_type": "code",
   "execution_count": null,
   "id": "adba61ca",
   "metadata": {},
   "outputs": [],
   "source": [
    "documents = TextLoader(\"/content/state_of_the_union.txt\").load()"
   ]
  },
  {
   "cell_type": "code",
   "execution_count": null,
   "id": "09d171a3",
   "metadata": {},
   "outputs": [],
   "source": [
    "text_splitter = CharacterTextSplitter(chunk_size=500, chunk_overlap=100)"
   ]
  },
  {
   "cell_type": "code",
   "execution_count": null,
   "id": "636dcda0",
   "metadata": {},
   "outputs": [],
   "source": [
    "texts = text_splitter.split_documents(documents)"
   ]
  },
  {
   "cell_type": "code",
   "execution_count": null,
   "id": "49896adc",
   "metadata": {},
   "outputs": [],
   "source": [
    "OPENAI_API_KEY = userdata.get(\"OPENAI_API_KEY\")"
   ]
  },
  {
   "cell_type": "code",
   "execution_count": null,
   "id": "2b084237",
   "metadata": {},
   "outputs": [],
   "source": [
    "os.environ[\"OPENAI_API_KEY\"] = OPENAI_API_KEY"
   ]
  },
  {
   "cell_type": "code",
   "execution_count": null,
   "id": "504dd9be",
   "metadata": {},
   "outputs": [],
   "source": [
    "retriever = FAISS.from_documents(texts, OpenAIEmbeddings()).as_retriever()"
   ]
  },
  {
   "cell_type": "code",
   "execution_count": null,
   "id": "7a9ece7b",
   "metadata": {},
   "outputs": [],
   "source": [
    "docs = retriever.invoke(\"What did the president say about Ketanji Brown Jackson?\")"
   ]
  },
  {
   "cell_type": "code",
   "execution_count": null,
   "id": "fcb18200",
   "metadata": {},
   "outputs": [],
   "source": [
    "# Helper function for printing docs\n",
    " \n",
    "def pretty_print_docs(docs):\n",
    "    print( \n",
    "        f\"\\n{'-' * 100}\\n\".join(\n",
    "            [f\"Document {i+1}:\\n\\n\" + d.page_content for i, d in enumerate(docs)]\n",
    "        )\n",
    "    )"
   ]
  },
  {
   "cell_type": "code",
   "execution_count": null,
   "id": "26af9341",
   "metadata": {},
   "outputs": [],
   "source": [
    "pretty_print_docs(docs)"
   ]
  },
  {
   "cell_type": "code",
   "execution_count": null,
   "id": "dc2a4a21",
   "metadata": {},
   "outputs": [],
   "source": [
    "query = \"What were the top tree priorities in the most recent State of the Union address?\""
   ]
  },
  {
   "cell_type": "code",
   "execution_count": null,
   "id": "e18f18ef",
   "metadata": {},
   "outputs": [],
   "source": [
    "llm = OpenAI(temperature=0)"
   ]
  },
  {
   "cell_type": "code",
   "execution_count": null,
   "id": "13544298",
   "metadata": {},
   "outputs": [],
   "source": [
    "chain = RetrievalQA.from_chain_type(llm=llm, retriever=retriever)"
   ]
  },
  {
   "cell_type": "code",
   "execution_count": null,
   "id": "4032e3c8",
   "metadata": {},
   "outputs": [],
   "source": [
    "print(chain.invoke(query)[\"text\"])"
   ]
  },
  {
   "cell_type": "code",
   "execution_count": null,
   "id": "580971c0",
   "metadata": {},
   "outputs": [],
   "source": [
    "compressor = LLMChainExtractor.from_llm(llm)"
   ]
  },
  {
   "cell_type": "code",
   "execution_count": null,
   "id": "3474eb55",
   "metadata": {},
   "outputs": [],
   "source": [
    "compressor_retriever = ContextualCompressionRetriever(base_compressor=compressor, base_retriever=retriever)"
   ]
  },
  {
   "cell_type": "code",
   "execution_count": null,
   "id": "9e004111",
   "metadata": {},
   "outputs": [],
   "source": [
    "compressor_docs = compressor_retriever.invoke(query)"
   ]
  },
  {
   "cell_type": "code",
   "execution_count": null,
   "id": "f71551e1",
   "metadata": {},
   "outputs": [],
   "source": [
    "pretty_print_docs(compressor_docs)"
   ]
  },
  {
   "cell_type": "code",
   "execution_count": null,
   "id": "81fed95b",
   "metadata": {},
   "outputs": [],
   "source": [
    "_filter = LLMChainFilter.from_llm(llm)"
   ]
  },
  {
   "cell_type": "code",
   "execution_count": null,
   "id": "aa6d65ae",
   "metadata": {},
   "outputs": [],
   "source": [
    "compressor_retriever_2 = ContextualCompressionRetriever(base_compressor=_filter, base_retriever=retriever)"
   ]
  },
  {
   "cell_type": "code",
   "execution_count": null,
   "id": "191df279",
   "metadata": {},
   "outputs": [],
   "source": [
    "compressor_docs_2 = compressor_retriever_2.invoke(query)"
   ]
  },
  {
   "cell_type": "code",
   "execution_count": null,
   "id": "4650b2ff",
   "metadata": {},
   "outputs": [],
   "source": [
    "pretty_print_docs(compressor_docs_2)"
   ]
  },
  {
   "cell_type": "code",
   "execution_count": null,
   "id": "958837b4",
   "metadata": {},
   "outputs": [],
   "source": [
    "original_contexts_len = len(\"\\n\\n\".join([d.page_content for i, d in enumerate(docs)]))"
   ]
  },
  {
   "cell_type": "code",
   "execution_count": null,
   "id": "496a1453",
   "metadata": {},
   "outputs": [],
   "source": [
    "original_contexts_len"
   ]
  },
  {
   "cell_type": "code",
   "execution_count": null,
   "id": "6892cedd",
   "metadata": {},
   "outputs": [],
   "source": [
    "compressor_contexts_len = len(\"\\n\\n\".join([d.page_content for i, d in enumerate(compressor_docs)]))"
   ]
  },
  {
   "cell_type": "code",
   "execution_count": null,
   "id": "d0410971",
   "metadata": {},
   "outputs": [],
   "source": [
    "print(\"Compressed Ratio: \", f\"{original_contexts_len/ (compressor_contexts_len + 1e-5):.2f}x\")"
   ]
  },
  {
   "cell_type": "code",
   "execution_count": null,
   "id": "2462c646",
   "metadata": {},
   "outputs": [],
   "source": [
    "embeddings = OpenAIEmbeddings()"
   ]
  },
  {
   "cell_type": "code",
   "execution_count": null,
   "id": "5dfc0fdb",
   "metadata": {},
   "outputs": [],
   "source": [
    "embeddings_filter = EmbeddingsFilter(embeddings=embeddings, similarity_threshold=0.76)"
   ]
  },
  {
   "cell_type": "code",
   "execution_count": null,
   "id": "8024c1d1",
   "metadata": {},
   "outputs": [],
   "source": [
    "compressor_retriever_3 = ContextualCompressionRetriever(base_compressor=embeddings_filter, base_retriever=retriever)"
   ]
  },
  {
   "cell_type": "code",
   "execution_count": null,
   "id": "b39023b4",
   "metadata": {},
   "outputs": [],
   "source": [
    "pretty_print_docs(compressor_retriever_3)"
   ]
  },
  {
   "cell_type": "code",
   "execution_count": null,
   "id": "52502ed3",
   "metadata": {},
   "outputs": [],
   "source": [
    "compressor_docs_3 = compressor_retriever_3.invoke(query)"
   ]
  },
  {
   "cell_type": "code",
   "execution_count": null,
   "id": "c4abd02f",
   "metadata": {},
   "outputs": [],
   "source": [
    "pretty_print_docs(compressor_docs_3)"
   ]
  },
  {
   "cell_type": "code",
   "execution_count": null,
   "id": "91d8b899",
   "metadata": {},
   "outputs": [],
   "source": [
    "compressor_contexts_len_2 = len(\"\\n\\n\".join([d.page_content for i, d in enumerate(compressor_docs_3)]))"
   ]
  },
  {
   "cell_type": "code",
   "execution_count": null,
   "id": "fa4071e0",
   "metadata": {},
   "outputs": [],
   "source": [
    "print(\"Compressed context length: \", compressor_contexts_len_2)"
   ]
  },
  {
   "cell_type": "code",
   "execution_count": null,
   "id": "3c623cd1",
   "metadata": {},
   "outputs": [],
   "source": [
    "print(\"Compressed Ratio: \", f\"{original_contexts_len/ (compressor_contexts_len_2 + 1e-5):.2f}x\")"
   ]
  },
  {
   "cell_type": "code",
   "execution_count": null,
   "id": "dddb3b1a",
   "metadata": {},
   "outputs": [],
   "source": [
    "splitter = CharacterTextSplitter(chunk_size=300, chunk_overlap=0, separator=\". \")"
   ]
  },
  {
   "cell_type": "code",
   "execution_count": null,
   "id": "dab491eb",
   "metadata": {},
   "outputs": [],
   "source": [
    "redundant_filter = EmbeddingsRedundantFilter(embeddings=embeddings)"
   ]
  },
  {
   "cell_type": "code",
   "execution_count": null,
   "id": "c6721e99",
   "metadata": {},
   "outputs": [],
   "source": [
    "relevant_filter = EmbeddingsFilter(embeddings=embeddings, similarity_threshold=0.76)"
   ]
  },
  {
   "cell_type": "code",
   "execution_count": null,
   "id": "3e2d04a0",
   "metadata": {},
   "outputs": [],
   "source": [
    "pipeline_compressor = DocumentCompressorPipeline(transformers=[splitter, redundant_filter, redundant_filter])"
   ]
  },
  {
   "cell_type": "code",
   "execution_count": null,
   "id": "84677946",
   "metadata": {},
   "outputs": [],
   "source": [
    "compressor_retriever_4 = ContextualCompressionRetriever(base_compressor=pipeline_compressor, base_retriever=retriever)"
   ]
  },
  {
   "cell_type": "code",
   "execution_count": null,
   "id": "701a6d65",
   "metadata": {},
   "outputs": [],
   "source": [
    "compressor_docs_4 = compressor_retriever_4.invoke(query)"
   ]
  },
  {
   "cell_type": "code",
   "execution_count": null,
   "id": "d7ddeea6",
   "metadata": {},
   "outputs": [],
   "source": [
    "pretty_print_docs(compressor_docs_4)"
   ]
  },
  {
   "cell_type": "code",
   "execution_count": null,
   "id": "56fc8e72",
   "metadata": {},
   "outputs": [],
   "source": [
    "chain_1 = RetrievalQA.from_chain_type(llm=llm, retriever=compressor_docs_4)"
   ]
  },
  {
   "cell_type": "code",
   "execution_count": null,
   "id": "c9ef319d",
   "metadata": {},
   "outputs": [],
   "source": [
    "chain_1.invoke(query)"
   ]
  },
  {
   "cell_type": "code",
   "execution_count": null,
   "id": "cff1077a",
   "metadata": {},
   "outputs": [],
   "source": [
    "print(chain_1.invoke(query)[\"result\"])"
   ]
  }
 ],
 "metadata": {
  "kernelspec": {
   "display_name": "base",
   "language": "python",
   "name": "python3"
  },
  "language_info": {
   "codemirror_mode": {
    "name": "ipython",
    "version": 3
   },
   "file_extension": ".py",
   "mimetype": "text/x-python",
   "name": "python",
   "nbconvert_exporter": "python",
   "pygments_lexer": "ipython3",
   "version": "3.11.7"
  }
 },
 "nbformat": 4,
 "nbformat_minor": 5
}
