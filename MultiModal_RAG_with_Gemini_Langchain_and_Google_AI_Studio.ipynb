{
 "cells": [
  {
   "cell_type": "code",
   "execution_count": null,
   "id": "c70b54f4",
   "metadata": {},
   "outputs": [],
   "source": [
    "! pip install --upgrade langchain langchain-google-genai \"langchain[docarray]\" faiss-cpu pypdf"
   ]
  },
  {
   "cell_type": "code",
   "execution_count": null,
   "id": "9b1fc3bb",
   "metadata": {},
   "outputs": [],
   "source": [
    "import os\n",
    "import requests\n",
    "from PIL import Image\n",
    "import matplotlib.pyplot as plt\n",
    "import matplotlib.image as mpimg\n",
    "from IPython.display import display, Markdown\n",
    "from langchain_google_genai import ChatGoogleGenerativeAI\n",
    "from langchain_core.messages import HumanMessage, SystemMessage\n",
    "from langchain.vectorstores import DocArrayInMemorySearch\n",
    "from langchain_google_genai import GoogleGenerativeAIEmbeddings\n",
    "from langchain_core.output_parsers import StrOutputParser\n",
    "from langchain_core.prompts import ChatPromptTemplate\n",
    "from langchain.schema.document import Document\n",
    "from langchain_community.document_loaders import TextLoader\n",
    "from langchain_text_splitters import CharacterTextSplitter\n",
    "from langchain_community.vectorstores import FAISS\n",
    "from google.colab import userdata\n",
    "from langchain_core.runnables import RunnableLambda, RunnablePassthrough"
   ]
  },
  {
   "cell_type": "code",
   "execution_count": null,
   "id": "b81cd438",
   "metadata": {},
   "outputs": [],
   "source": [
    "GOOGLE_API_KEY = userdata.get(\"GOOGLE_API_KEY\")\n",
    "os.environ[\"GOOGLE_API_KEY\"] = GOOGLE_API_KEY"
   ]
  },
  {
   "cell_type": "code",
   "execution_count": 3,
   "id": "e1e41d6b",
   "metadata": {},
   "outputs": [],
   "source": [
    "def load_model(model_natm):\n",
    "    if model_natm == \"gemini-pro\":\n",
    "        llm = ChatGoogleGenerativeAI(model=\"gemini-pro\")\n",
    "\n",
    "    else:\n",
    "        llm = ChatGoogleGenerativeAI(model=\"gemini-pro-vision\")\n",
    "\n",
    "    return llm"
   ]
  },
  {
   "cell_type": "code",
   "execution_count": null,
   "id": "b0f95d96",
   "metadata": {},
   "outputs": [],
   "source": [
    "model_for_text = load_model(\"gemini-pro\")"
   ]
  },
  {
   "cell_type": "code",
   "execution_count": null,
   "id": "3cc762cc",
   "metadata": {},
   "outputs": [],
   "source": [
    "model_for_text.invoke(\"Tell me about AI\").content"
   ]
  },
  {
   "cell_type": "code",
   "execution_count": null,
   "id": "64a5c080",
   "metadata": {},
   "outputs": [],
   "source": [
    "model_for_text(\n",
    "    [\n",
    "        HumanMessage(content=\"Tell me about AI\")\n",
    "    ]\n",
    ").content"
   ]
  },
  {
   "cell_type": "markdown",
   "id": "54bdeade",
   "metadata": {},
   "source": [
    "Method for Loading Images"
   ]
  },
  {
   "cell_type": "code",
   "execution_count": null,
   "id": "e71bb6f7",
   "metadata": {},
   "outputs": [],
   "source": [
    "def get_image(url, file_name, extension):\n",
    "    content = requests.get(url).content\n",
    "\n",
    "    with open(f\"/content/{file_name}.{extension}\", \"wb\") as f:\n",
    "        f.write(content)\n",
    "\n",
    "    image = Image.open(f\"/content/{file_name}.{extension}\")\n",
    "    image.show()\n",
    "\n",
    "    return image"
   ]
  },
  {
   "cell_type": "code",
   "execution_count": null,
   "id": "afc379f3",
   "metadata": {},
   "outputs": [],
   "source": [
    "image = get_image(\"use any image URL here\")"
   ]
  },
  {
   "cell_type": "code",
   "execution_count": null,
   "id": "8a499ee7",
   "metadata": {},
   "outputs": [],
   "source": [
    "plt.imshow(image)\n",
    "plt.show()"
   ]
  },
  {
   "cell_type": "code",
   "execution_count": null,
   "id": "f4afbd5f",
   "metadata": {},
   "outputs": [],
   "source": [
    "vision_model = load_model(\"gemini-pro-vision\")"
   ]
  },
  {
   "cell_type": "code",
   "execution_count": null,
   "id": "17672dd1",
   "metadata": {},
   "outputs": [],
   "source": [
    "prompt = \"Provide me summary of the image in 5 words\""
   ]
  },
  {
   "cell_type": "code",
   "execution_count": null,
   "id": "511ba3c4",
   "metadata": {},
   "outputs": [],
   "source": [
    "message = HumanMessage(\n",
    "    content=[\n",
    "        {\n",
    "            \"type\": \"text\",\n",
    "            \"text\": prompt,\n",
    "        },\n",
    "        {\n",
    "            \"type\": \"image_url\", \"image_url\": image\n",
    "        }\n",
    "    ]\n",
    ")"
   ]
  },
  {
   "cell_type": "code",
   "execution_count": null,
   "id": "e32ac05f",
   "metadata": {},
   "outputs": [],
   "source": [
    "print(vision_model.invoke([message]).content)"
   ]
  },
  {
   "cell_type": "code",
   "execution_count": null,
   "id": "8e21a400",
   "metadata": {},
   "outputs": [],
   "source": [
    "data_loader = TextLoader(\"/content/nike_shoes.txt\")\n",
    "print(data_loader.load()[0].page_content)"
   ]
  },
  {
   "cell_type": "code",
   "execution_count": null,
   "id": "4bc5eac3",
   "metadata": {},
   "outputs": [],
   "source": [
    "text = data_loader.load()[0].page_content"
   ]
  },
  {
   "cell_type": "code",
   "execution_count": null,
   "id": "4f8a39f8",
   "metadata": {},
   "outputs": [],
   "source": [
    "def get_text_chunks_langchain(text):\n",
    "\n",
    "    text_splitter = CharacterTextSplitter(chunk_size=20, chunk_overlap=10)\n",
    "    docs = [Document(page_content=x) for x in text_splitter.split_text(text)]\n",
    "\n",
    "    return docs"
   ]
  },
  {
   "cell_type": "code",
   "execution_count": null,
   "id": "5b832ae3",
   "metadata": {},
   "outputs": [],
   "source": [
    "docs = get_text_chunks_langchain(text)"
   ]
  },
  {
   "cell_type": "code",
   "execution_count": null,
   "id": "90cd20b7",
   "metadata": {},
   "outputs": [],
   "source": [
    "embeddings = GoogleGenerativeAIEmbeddings(model = \"models/embedding-001\")"
   ]
  },
  {
   "cell_type": "code",
   "execution_count": null,
   "id": "8d9467ad",
   "metadata": {},
   "outputs": [],
   "source": [
    "vector_store = FAISS.from_documents(docs, embedding=embeddings)"
   ]
  },
  {
   "cell_type": "code",
   "execution_count": null,
   "id": "12658e13",
   "metadata": {},
   "outputs": [],
   "source": [
    "retriever = vector_store.as_retriever()"
   ]
  },
  {
   "cell_type": "code",
   "execution_count": null,
   "id": "4885396d",
   "metadata": {},
   "outputs": [],
   "source": [
    "retriever.invoke(\"Nike slide/sandal.\")"
   ]
  },
  {
   "cell_type": "code",
   "execution_count": null,
   "id": "d0b9fe32",
   "metadata": {},
   "outputs": [],
   "source": [
    "vision_model = load_model(\"gemini-pro-vision\")"
   ]
  },
  {
   "cell_type": "code",
   "execution_count": null,
   "id": "5f2ac0a3",
   "metadata": {},
   "outputs": [],
   "source": [
    "llm_model =load_model(\"gemini-pro\")"
   ]
  },
  {
   "cell_type": "code",
   "execution_count": null,
   "id": "28204a9c",
   "metadata": {},
   "outputs": [],
   "source": [
    "template = \"\"\" \n",
    "\n",
    "'''\n",
    "{context}\n",
    "'''\n",
    "\n",
    "{query}\n",
    "\n",
    "Provide berif information and store location\n",
    "\n",
    "\"\"\""
   ]
  },
  {
   "cell_type": "code",
   "execution_count": null,
   "id": "7f1e3549",
   "metadata": {},
   "outputs": [],
   "source": [
    "prompt = ChatPromptTemplate.from_template(template=template)"
   ]
  },
  {
   "cell_type": "code",
   "execution_count": null,
   "id": "63c210c6",
   "metadata": {},
   "outputs": [],
   "source": [
    "RAG_CHAIN = (\n",
    "    {\"context\": retriever, \"query\": RunnablePassthrough()}\n",
    "    | prompt\n",
    "    | llm_model\n",
    "    | StrOutputParser()\n",
    ")"
   ]
  },
  {
   "cell_type": "code",
   "execution_count": null,
   "id": "0af7a9c1",
   "metadata": {},
   "outputs": [],
   "source": [
    "result = RAG_CHAIN.invoke(\"Provide detail about nike sandal\")"
   ]
  },
  {
   "cell_type": "code",
   "execution_count": null,
   "id": "d8915280",
   "metadata": {},
   "outputs": [],
   "source": [
    "display(Markdown(result))"
   ]
  },
  {
   "cell_type": "markdown",
   "id": "913ea563",
   "metadata": {},
   "source": [
    "Include Vision Model to RAG System"
   ]
  },
  {
   "cell_type": "code",
   "execution_count": null,
   "id": "5cca0e07",
   "metadata": {},
   "outputs": [],
   "source": [
    "FULL_CHAIN = (\n",
    "    RunnablePassthrough() | vision_model | StrOutputParser() | RAG_CHAIN\n",
    ")"
   ]
  },
  {
   "cell_type": "code",
   "execution_count": null,
   "id": "7908171d",
   "metadata": {},
   "outputs": [],
   "source": [
    "url = \"image_of_nike_shoe\""
   ]
  },
  {
   "cell_type": "code",
   "execution_count": null,
   "id": "d70b3462",
   "metadata": {},
   "outputs": [],
   "source": [
    "image = get_image(url, \"nike3\", \"png\")"
   ]
  },
  {
   "cell_type": "code",
   "execution_count": null,
   "id": "d10f278e",
   "metadata": {},
   "outputs": [],
   "source": [
    "plt.imshow(image)\n",
    "plt.show()"
   ]
  },
  {
   "cell_type": "code",
   "execution_count": null,
   "id": "6ade55f9",
   "metadata": {},
   "outputs": [],
   "source": [
    "message = HumanMessage(\n",
    "\n",
    "    content=[\n",
    "        {\n",
    "        # exact answers with respect to data\n",
    "        \"type\": \"text\",\n",
    "        \"text\": \"Provide information on givin image and model of given image.\"\n",
    "        },\n",
    "\n",
    "        # You can optionally provide text parts\n",
    "        {\"type\": \"image_url\", \"image_url\":image},\n",
    "    ]\n",
    ")"
   ]
  },
  {
   "cell_type": "code",
   "execution_count": null,
   "id": "1310a9fb",
   "metadata": {},
   "outputs": [],
   "source": [
    "result = FULL_CHAIN.invoke([message])"
   ]
  },
  {
   "cell_type": "code",
   "execution_count": null,
   "id": "95c2fc08",
   "metadata": {},
   "outputs": [],
   "source": [
    "display(Markdown(result))"
   ]
  }
 ],
 "metadata": {
  "kernelspec": {
   "display_name": "base",
   "language": "python",
   "name": "python3"
  },
  "language_info": {
   "codemirror_mode": {
    "name": "ipython",
    "version": 3
   },
   "file_extension": ".py",
   "mimetype": "text/x-python",
   "name": "python",
   "nbconvert_exporter": "python",
   "pygments_lexer": "ipython3",
   "version": "3.11.7"
  }
 },
 "nbformat": 4,
 "nbformat_minor": 5
}
