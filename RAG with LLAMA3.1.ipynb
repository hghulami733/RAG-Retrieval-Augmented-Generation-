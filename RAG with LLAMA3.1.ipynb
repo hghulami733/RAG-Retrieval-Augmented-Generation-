{
 "cells": [
  {
   "cell_type": "code",
   "execution_count": null,
   "id": "d742b202",
   "metadata": {},
   "outputs": [],
   "source": [
    "! pip install langchain sentence-transformers faiss-gpu pypdf langchain_ollama "
   ]
  },
  {
   "cell_type": "code",
   "execution_count": null,
   "id": "faaa37f0",
   "metadata": {},
   "outputs": [],
   "source": [
    "! pip install -U langchain-community "
   ]
  },
  {
   "cell_type": "code",
   "execution_count": null,
   "id": "9e84d453",
   "metadata": {},
   "outputs": [],
   "source": [
    "! pip install colab-xterm\n",
    "%load_ext colabxterm"
   ]
  },
  {
   "cell_type": "code",
   "execution_count": null,
   "id": "a8a01f95",
   "metadata": {},
   "outputs": [],
   "source": [
    "%xterm"
   ]
  },
  {
   "cell_type": "code",
   "execution_count": null,
   "id": "71960a47",
   "metadata": {},
   "outputs": [],
   "source": [
    "from langchain.document_loaders import PyPDFLoader\n",
    "from langchain.text_splitter import CharacterTextSplitter\n",
    "from langchain.embeddings import HuggingFaceEmbeddings\n",
    "from langchain.vectorstores import FAISS\n",
    "from langchain.chains import RetrievalQA\n",
    "from langchain_community.llms import Ollama\n"
   ]
  },
  {
   "cell_type": "code",
   "execution_count": null,
   "id": "ac524a82",
   "metadata": {},
   "outputs": [],
   "source": [
    "loader = PyPDFLoader(\"/content/got.pdf\")\n",
    "documents = loader.load()"
   ]
  },
  {
   "cell_type": "code",
   "execution_count": null,
   "id": "f95647d8",
   "metadata": {},
   "outputs": [],
   "source": [
    "text_splitter = CharacterTextSplitter(chunk_size=1000, chunk_overlap=30, separator=\"\\n\")\n",
    "\n",
    "docs = text_splitter.split_documents(documents=documents)"
   ]
  },
  {
   "cell_type": "code",
   "execution_count": null,
   "id": "1935042a",
   "metadata": {},
   "outputs": [],
   "source": [
    "# Loading the embedding model from huggingface\n",
    "\n",
    "embedding_model = \"sentence-transformers/all-mpnet-base-v2\"\n",
    "model_kwargs = {\"device\":\"cuda\"}\n",
    "embeddings = HuggingFaceEmbeddings(\n",
    "    model_name=embedding_model,\n",
    "    model_kwargs=model_kwargs\n",
    ")"
   ]
  },
  {
   "cell_type": "code",
   "execution_count": null,
   "id": "929dfc94",
   "metadata": {},
   "outputs": [],
   "source": [
    "\"\"\"\n",
    "vector_store = FAISS.from_documents(text_chunks, embeddings)\n",
    "retriever = vector_store.as_retriever()\n",
    "\n",
    "\"\"\""
   ]
  },
  {
   "cell_type": "code",
   "execution_count": null,
   "id": "37ed9a7f",
   "metadata": {},
   "outputs": [],
   "source": [
    "# Loading data and correspond embedding into FAISS\n",
    "vector_store = FAISS.from_documents(documents=docs, embedding=embeddings)"
   ]
  },
  {
   "cell_type": "code",
   "execution_count": null,
   "id": "78930349",
   "metadata": {},
   "outputs": [],
   "source": [
    "# Persist the vector locally on disk\n",
    "vector_store.save_local(\"faiss_index_\")"
   ]
  },
  {
   "cell_type": "code",
   "execution_count": null,
   "id": "5acc16ec",
   "metadata": {},
   "outputs": [],
   "source": [
    "# Load from local sotrage\n",
    "persisted_vector_store = FAISS.load_local(\"faiss_index_\", embeddings=embeddings, allow_dangerous_deserialization=True)"
   ]
  },
  {
   "cell_type": "code",
   "execution_count": null,
   "id": "c733941f",
   "metadata": {},
   "outputs": [],
   "source": [
    "# Create a retriever on top of database\n",
    "retriever = persisted_vector_store.as_retriever()"
   ]
  },
  {
   "cell_type": "code",
   "execution_count": null,
   "id": "fe931373",
   "metadata": {},
   "outputs": [],
   "source": [
    "# Initialize an instance of the Ollama model\n",
    "llm = Ollama(model=\"llama3.1\")"
   ]
  },
  {
   "cell_type": "code",
   "execution_count": null,
   "id": "81ba5898",
   "metadata": {},
   "outputs": [],
   "source": [
    "# Invoke the model to generate responses \n",
    "response = llm.invoke(\"Tell me about AI\")\n",
    "print(response)"
   ]
  },
  {
   "cell_type": "code",
   "execution_count": null,
   "id": "9cc20afa",
   "metadata": {},
   "outputs": [],
   "source": [
    "\"\"\"\n",
    "from langchain_ollama.llms import OllamaLLM\n",
    "# Loading Ollama model\n",
    "model = OllamaLLM(model='llama3.1')\n",
    "\n",
    "\"\"\""
   ]
  },
  {
   "cell_type": "code",
   "execution_count": null,
   "id": "49d79c37",
   "metadata": {},
   "outputs": [],
   "source": [
    "# Use RetrivelQA chain for orchestration\n",
    "qa = RetrievalQA.from_chain_type(llm=llm, chain_type=\"stuff\", retriever=retriever)"
   ]
  },
  {
   "cell_type": "code",
   "execution_count": null,
   "id": "ee1d0d6e",
   "metadata": {},
   "outputs": [],
   "source": [
    "while True:\n",
    "    query = input(\"Type your query if you want to exit type Exit: \\n\")\n",
    "    query = query.lower()\n",
    "\n",
    "    if query == \"Exit\":\n",
    "        break\n",
    "\n",
    "    result_1 = qa.run(query)\n",
    "    print(result_1)"
   ]
  },
  {
   "cell_type": "code",
   "execution_count": null,
   "id": "c0d64296",
   "metadata": {},
   "outputs": [],
   "source": [
    "# Some queries for testing \n",
    "query_1 = \"Describe the relationship and dynamic between Will, Gared and Ser Waymar Royce\"\n",
    "query_2 = \"How long have Gared and Will been part of the Night's watch?\""
   ]
  }
 ],
 "metadata": {
  "kernelspec": {
   "display_name": "base",
   "language": "python",
   "name": "python3"
  },
  "language_info": {
   "codemirror_mode": {
    "name": "ipython",
    "version": 3
   },
   "file_extension": ".py",
   "mimetype": "text/x-python",
   "name": "python",
   "nbconvert_exporter": "python",
   "pygments_lexer": "ipython3",
   "version": "3.11.7"
  }
 },
 "nbformat": 4,
 "nbformat_minor": 5
}
