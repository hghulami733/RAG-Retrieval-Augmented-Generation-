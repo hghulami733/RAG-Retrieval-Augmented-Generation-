{
 "cells": [
  {
   "cell_type": "code",
   "execution_count": null,
   "id": "45b4fc24",
   "metadata": {},
   "outputs": [],
   "source": [
    "! pip -q install langchain, huggingface_hub tiktoken pypdf google-generativeai chromadb sentence_transformers "
   ]
  },
  {
   "cell_type": "code",
   "execution_count": null,
   "id": "9c4029eb",
   "metadata": {},
   "outputs": [],
   "source": [
    "! pip install -U langchain-community unstructured"
   ]
  },
  {
   "cell_type": "code",
   "execution_count": null,
   "id": "ef9e3869",
   "metadata": {},
   "outputs": [],
   "source": [
    "! pip install --upgrade --quiet langchain-google-genai"
   ]
  },
  {
   "cell_type": "code",
   "execution_count": null,
   "id": "3788f09c",
   "metadata": {},
   "outputs": [],
   "source": [
    "import textwrap\n",
    "import os\n",
    "from google.colab import userdata\n",
    "from langchain_google_genai import ChatGoogleGenerativeAI\n",
    "from langchain.text_splitter import RecursiveCharacterTextSplitter\n",
    "from langchain.vectorstores.chroma import Chroma\n",
    "import langchain\n",
    "from langchain.document_loaders import DirectoryLoader, TextLoader\n",
    "from langchain.embeddings import HuggingFaceBgeEmbeddings\n",
    "from operator import itemgetter\n",
    "from langchain.prompts import (ChatPromptTemplate, ChatMessagePromptTemplate,\n",
    "                                PromptTemplate, SystemMessagePromptTemplate,\n",
    "                                  HumanMessagePromptTemplate)\n",
    "from langchain.schema.output_parser import StrOutputParser\n",
    "from langchain.schema.runnable import RunnableLambda, RunnablePassthrough\n",
    "\n",
    "from langchain.load import dumps, loads\n"
   ]
  },
  {
   "cell_type": "code",
   "execution_count": null,
   "id": "6a99e7e7",
   "metadata": {},
   "outputs": [],
   "source": [
    "def wrap_text(text, width=90): # Preseve_newlines\n",
    "    # Split input text into lines based on newline characters\n",
    "    lines = text.split(\"\\n\")\n",
    "\n",
    "    # Wrap each line individually\n",
    "    wrapped_lines = [textwrap.fill(line, width=width) for line in lines]\n",
    "\n",
    "    # Join the wrapped lines back together using newline characters\n",
    "    wrapped_text = \"\\n\".join(wrapped_lines)\n",
    "\n",
    "    return wrapped_text"
   ]
  },
  {
   "cell_type": "code",
   "execution_count": null,
   "id": "6ee0dae6",
   "metadata": {},
   "outputs": [],
   "source": [
    "GOOGLE_API_KEY = userdata.get(\"GOOGLE_API_KEY\")\n",
    "os.environ[\"GOOGLE_API_KEY\"] = GOOGLE_API_KEY"
   ]
  },
  {
   "cell_type": "code",
   "execution_count": null,
   "id": "3442ef36",
   "metadata": {},
   "outputs": [],
   "source": [
    "llm = ChatGoogleGenerativeAI(model=\"gemini-1.5-pro\")\n",
    "results = llm.invoke(\"Write a ballad about Langchain\")\n",
    "\n",
    "print(results.content)"
   ]
  },
  {
   "cell_type": "code",
   "execution_count": null,
   "id": "5c7107f1",
   "metadata": {},
   "outputs": [],
   "source": [
    "data_path = \"/content/drive/MyDrive/English\""
   ]
  },
  {
   "cell_type": "code",
   "execution_count": null,
   "id": "2933ce54",
   "metadata": {},
   "outputs": [],
   "source": [
    "loader = DirectoryLoader(data_path, glob=\".txt\", show_progress=True)\n",
    "docs = loader.load()"
   ]
  },
  {
   "cell_type": "code",
   "execution_count": null,
   "id": "b419ea5c",
   "metadata": {},
   "outputs": [],
   "source": [
    "docs = docs[:50]"
   ]
  },
  {
   "cell_type": "code",
   "execution_count": null,
   "id": "23794b72",
   "metadata": {},
   "outputs": [],
   "source": [
    "print(docs[0].page_content)"
   ]
  },
  {
   "cell_type": "code",
   "execution_count": null,
   "id": "67d149cb",
   "metadata": {},
   "outputs": [],
   "source": [
    "raw_text = \"\"\n",
    "\n",
    "for i, doc in enumerate(docs):\n",
    "    text = doc.page_content\n",
    "    if text:\n",
    "        raw_text += text"
   ]
  },
  {
   "cell_type": "code",
   "execution_count": null,
   "id": "6aa27926",
   "metadata": {},
   "outputs": [],
   "source": [
    "print(raw_text)"
   ]
  },
  {
   "cell_type": "code",
   "execution_count": null,
   "id": "a269775b",
   "metadata": {},
   "outputs": [],
   "source": [
    "text_splitter = RecursiveCharacterTextSplitter(\n",
    "    chunk_size=500,\n",
    "    chunk_overlap=100,\n",
    "    length_function=len,\n",
    "    is_separator_regex=False\n",
    ")"
   ]
  },
  {
   "cell_type": "code",
   "execution_count": null,
   "id": "c3f0b391",
   "metadata": {},
   "outputs": [],
   "source": [
    "texts = text_splitter.split_text(raw_text)"
   ]
  },
  {
   "cell_type": "code",
   "execution_count": null,
   "id": "c38ede53",
   "metadata": {},
   "outputs": [],
   "source": [
    "len(texts)"
   ]
  },
  {
   "cell_type": "code",
   "execution_count": null,
   "id": "48ad2177",
   "metadata": {},
   "outputs": [],
   "source": [
    "model_name = \"BAAI/bge-small-en-v1.5\"\n",
    "encode_kwargs = {\"normalize_embeddings\":True} # set true to cumpute cosine similarity"
   ]
  },
  {
   "cell_type": "code",
   "execution_count": null,
   "id": "13356adf",
   "metadata": {},
   "outputs": [],
   "source": [
    "embedding_function = HuggingFaceBgeEmbeddings(\n",
    "    model_name=model_name,\n",
    "    # model_kwargs={\"device\": \"cuda\"},\n",
    "    encode_kwargs=encode_kwargs,\n",
    "    \n",
    ")"
   ]
  },
  {
   "cell_type": "code",
   "execution_count": null,
   "id": "edbea379",
   "metadata": {},
   "outputs": [],
   "source": [
    "# Make chroma and persiste to disk\n",
    "db = Chroma.from_texts(texts, embedding_function, persist_directory=\"./chroma_db\")"
   ]
  },
  {
   "cell_type": "code",
   "execution_count": null,
   "id": "ae8d4a0d",
   "metadata": {},
   "outputs": [],
   "source": [
    "query = \"Tell me about Universal Studios Singapore\"\n",
    "db.similarity_search(query, k=5)"
   ]
  },
  {
   "cell_type": "code",
   "execution_count": null,
   "id": "4a90df67",
   "metadata": {},
   "outputs": [],
   "source": [
    "retriever = db.as_retriever() # can add mmr fetch_k=20, search_type=\"mmr\"\n",
    "\n",
    "retriever.get_relevant_documents(query)"
   ]
  },
  {
   "cell_type": "code",
   "execution_count": null,
   "id": "7f550531",
   "metadata": {},
   "outputs": [],
   "source": [
    "template = \"\"\"\n",
    "\n",
    "    Answer the question based only on the following context:\n",
    "    {context}\n",
    "\n",
    "    Question:{question}\n",
    "\"\"\""
   ]
  },
  {
   "cell_type": "code",
   "execution_count": null,
   "id": "4fd237cf",
   "metadata": {},
   "outputs": [],
   "source": [
    "prompt = ChatPromptTemplate.from_template(template)"
   ]
  },
  {
   "cell_type": "code",
   "execution_count": null,
   "id": "1fa37383",
   "metadata": {},
   "outputs": [],
   "source": [
    "chain = (\n",
    "    {\"context\": retriever, \"question\":RunnablePassthrough()}\n",
    "\n",
    "    | prompt\n",
    "    | llm\n",
    "    | StrOutputParser()\n",
    ")"
   ]
  },
  {
   "cell_type": "code",
   "execution_count": null,
   "id": "6b98dd56",
   "metadata": {},
   "outputs": [],
   "source": [
    "text_reply = chain.invoke(\"Tell me about Universal Studio Singapore\")\n",
    "\n",
    "print(wrap_text(text_reply))"
   ]
  },
  {
   "cell_type": "code",
   "execution_count": null,
   "id": "454b2023",
   "metadata": {},
   "outputs": [],
   "source": [
    "prompt_1 = ChatPromptTemplate(input_variables=[\"original_query\"],\n",
    "                              messages=[SystemMessagePromptTemplate(prompt=PromptTemplate(input_variables=[], template=\"You are a helpful assistant that generates multiple search queries based on a single input query\")),\n",
    "                              HumanMessagePromptTemplate(prompt=PromptTemplate(input_variables=[\"original_query\"], template=\"Generate multiple search queries related to: {question} \\n OUTPUT (4 queries):\"))])"
   ]
  },
  {
   "cell_type": "code",
   "execution_count": null,
   "id": "ff83121c",
   "metadata": {},
   "outputs": [],
   "source": [
    "'''\n",
    "prompt = ChatPromptTemplate. from_messages([\n",
    "(\"system\", \"You are a helpful assistant that generates multiple search queries based on a single input query.\"),\n",
    "(\"user\", \"Generate multiple search queries related to: {question}/n OUTPUT (4 queries):\"),\n",
    "])\n",
    "'''"
   ]
  },
  {
   "cell_type": "code",
   "execution_count": null,
   "id": "eddfe52a",
   "metadata": {},
   "outputs": [],
   "source": [
    "original_query = \"universal Studios Singapore\""
   ]
  },
  {
   "cell_type": "code",
   "execution_count": null,
   "id": "4cad8016",
   "metadata": {},
   "outputs": [],
   "source": [
    "generate_queries = (\n",
    "    prompt_1 | llm | StrOutputParser() | (lambda x : x.split(\"\\n\"))\n",
    ")"
   ]
  },
  {
   "cell_type": "code",
   "execution_count": null,
   "id": "397d225b",
   "metadata": {},
   "outputs": [],
   "source": [
    "generate_queries"
   ]
  },
  {
   "cell_type": "code",
   "execution_count": null,
   "id": "bded613d",
   "metadata": {},
   "outputs": [],
   "source": [
    "def reciprocal_rank_fusion(results: list[list], k=60):\n",
    "    fused_scores = {}\n",
    "    for docs in results:\n",
    "        # Assume the docs are returned in sorted order of relevance\n",
    "        for rank, doc in enumerate(docs):\n",
    "            doc_str = dumps(doc)\n",
    "            if doc_str not in fused_scores:\n",
    "                fused_scores[doc_str] = 0\n",
    "\n",
    "            previous_score = fused_scores[doc_str]\n",
    "            fused_scores[doc_str] += 1 / (rank + k)\n",
    "\n",
    "    reranked_results = [\n",
    "        (loads(doc), score)\n",
    "        for doc, score in sorted(fused_scores.items(), key=lambda x: x[1], reverse=True)\n",
    "    ]\n",
    "\n",
    "    return reranked_results"
   ]
  },
  {
   "cell_type": "code",
   "execution_count": null,
   "id": "d3f4f35e",
   "metadata": {},
   "outputs": [],
   "source": [
    "rag_fusion_chain = generate_queries | retriever.map() | reciprocal_rank_fusion"
   ]
  },
  {
   "cell_type": "code",
   "execution_count": null,
   "id": "44bf4181",
   "metadata": {},
   "outputs": [],
   "source": [
    "langchain.debug = True"
   ]
  },
  {
   "cell_type": "code",
   "execution_count": null,
   "id": "b70f01aa",
   "metadata": {},
   "outputs": [],
   "source": [
    "rag_fusion_chain.input_schema.schema()"
   ]
  },
  {
   "cell_type": "code",
   "execution_count": null,
   "id": "d2970237",
   "metadata": {},
   "outputs": [],
   "source": [
    "rag_fusion_chain.invoke({\"question\": original_query})"
   ]
  },
  {
   "cell_type": "code",
   "execution_count": null,
   "id": "973b568c",
   "metadata": {},
   "outputs": [],
   "source": [
    "full_rag_fusion_chain = (\n",
    "    {\n",
    "        \"context\": rag_fusion_chain,\n",
    "        \"question\": RunnablePassthrough()\n",
    "    }\n",
    "\n",
    "    | prompt_1\n",
    "    | llm\n",
    "    | StrOutputParser()\n",
    ")"
   ]
  },
  {
   "cell_type": "code",
   "execution_count": null,
   "id": "9112423f",
   "metadata": {},
   "outputs": [],
   "source": [
    "full_rag_fusion_chain.input_schema.schema()"
   ]
  },
  {
   "cell_type": "code",
   "execution_count": null,
   "id": "50f87d52",
   "metadata": {},
   "outputs": [],
   "source": [
    "full_rag_fusion_chain.invoke({\"question\": \"Tell me about Singapore's nightlife scene?\"})"
   ]
  }
 ],
 "metadata": {
  "kernelspec": {
   "display_name": "base",
   "language": "python",
   "name": "python3"
  },
  "language_info": {
   "codemirror_mode": {
    "name": "ipython",
    "version": 3
   },
   "file_extension": ".py",
   "mimetype": "text/x-python",
   "name": "python",
   "nbconvert_exporter": "python",
   "pygments_lexer": "ipython3",
   "version": "3.11.7"
  }
 },
 "nbformat": 4,
 "nbformat_minor": 5
}
