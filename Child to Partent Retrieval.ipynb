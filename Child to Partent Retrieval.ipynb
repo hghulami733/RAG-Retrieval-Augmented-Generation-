{
 "cells": [
  {
   "cell_type": "code",
   "execution_count": null,
   "id": "83296e6d",
   "metadata": {},
   "outputs": [],
   "source": [
    "! pip install langchain langchain-community sentence-transformers langchain_chroma "
   ]
  },
  {
   "cell_type": "code",
   "execution_count": null,
   "id": "256d6ad3",
   "metadata": {},
   "outputs": [],
   "source": [
    "from langchain_community.document_loaders import TextLoader\n",
    "from langchain.storage import InMemoryStore\n",
    "from langchain_chroma import Chroma\n",
    "from langchain.retrievers import ParentDocumentRetriever\n",
    "from langchain_text_splitters import RecursiveCharacterTextSplitter\n",
    "from langchain.embeddings import HuggingFaceEmbeddings\n",
    "import os\n",
    "from google.colab import userdata\n",
    "from langchain_google_genai import GoogleGenerativeAIEmbeddings, ChatGoogleGenerativeAI\n",
    "from langchain.chains import RetrievalQA\n",
    "from langchain.llms import OpenAI\n"
   ]
  },
  {
   "cell_type": "code",
   "execution_count": null,
   "id": "3db9fd5a",
   "metadata": {},
   "outputs": [],
   "source": [
    "GOOGLE_API_KEY = userdata.get(\"GOOGLE_API_KEY\")\n",
    "os.environ[\"GOOGLE_API_KEY\"] = GOOGLE_API_KEY"
   ]
  },
  {
   "cell_type": "code",
   "execution_count": null,
   "id": "87a528c2",
   "metadata": {},
   "outputs": [],
   "source": [
    "loaders = [\n",
    "    TextLoader(\"/content/data/paul_graham_essay.txt\"),\n",
    "    TextLoader(\"/content/data/state_of_the_union.txt\")\n",
    "]"
   ]
  },
  {
   "cell_type": "code",
   "execution_count": null,
   "id": "0a147932",
   "metadata": {},
   "outputs": [],
   "source": [
    "docs = []\n",
    "\n",
    "for loader in loaders:\n",
    "    docs.append(loader.load())"
   ]
  },
  {
   "cell_type": "code",
   "execution_count": null,
   "id": "30342bc4",
   "metadata": {},
   "outputs": [],
   "source": [
    "child_splitter = RecursiveCharacterTextSplitter(chunk_size=400)"
   ]
  },
  {
   "cell_type": "code",
   "execution_count": null,
   "id": "d8084765",
   "metadata": {},
   "outputs": [],
   "source": [
    "parent_splitter = RecursiveCharacterTextSplitter(chunk_size=2000)"
   ]
  },
  {
   "cell_type": "markdown",
   "id": "a2c5f0ba",
   "metadata": {},
   "source": [
    "Specify embedding model (Using huggingface sentence transformers or Gemini)"
   ]
  },
  {
   "cell_type": "code",
   "execution_count": null,
   "id": "1c42c462",
   "metadata": {},
   "outputs": [],
   "source": [
    "embedding_model_name = \"sentence-transformers/all-mpnet-base-v2\"\n",
    "\n",
    "model_kwargs = {\"device\":\"cuda\"}\n",
    "\n",
    "embeddings = HuggingFaceEmbeddings(\n",
    "    model_name=embedding_model_name,\n",
    "    model_kwargs=model_kwargs\n",
    ")"
   ]
  },
  {
   "cell_type": "markdown",
   "id": "be2e82af",
   "metadata": {},
   "source": [
    "OR USING GEMINI"
   ]
  },
  {
   "cell_type": "code",
   "execution_count": null,
   "id": "13d3d999",
   "metadata": {},
   "outputs": [],
   "source": [
    "gemini_embeddings = GoogleGenerativeAIEmbeddings(model=\"models/embedding-001\")"
   ]
  },
  {
   "cell_type": "code",
   "execution_count": null,
   "id": "b47354af",
   "metadata": {},
   "outputs": [],
   "source": [
    "llm = ChatGoogleGenerativeAI(model=\"gemini-1.5-pro\")\n",
    "\n",
    "result = llm.invoke(\"Write a ballad about Langchain\")\n",
    "print(result)"
   ]
  },
  {
   "cell_type": "code",
   "execution_count": null,
   "id": "070e5c0d",
   "metadata": {},
   "outputs": [],
   "source": [
    "vector_store = Chroma(\n",
    "    collection_name=\"full_documents\", embedding_function=gemini_embeddings # Or embeddings from Huggingface\n",
    ")"
   ]
  },
  {
   "cell_type": "code",
   "execution_count": null,
   "id": "b2c4c37e",
   "metadata": {},
   "outputs": [],
   "source": [
    "store = InMemoryStore()"
   ]
  },
  {
   "cell_type": "code",
   "execution_count": null,
   "id": "7c48bcd9",
   "metadata": {},
   "outputs": [],
   "source": [
    "retriever = ParentDocumentRetriever(\n",
    "    vectorstore=vector_store,\n",
    "    docstore=store,\n",
    "    child_splitter=child_splitter,\n",
    "    parent_splitter=parent_splitter\n",
    ")"
   ]
  },
  {
   "cell_type": "code",
   "execution_count": null,
   "id": "10b4c647",
   "metadata": {},
   "outputs": [],
   "source": [
    "retriever.add_documents(docs, ids=None)"
   ]
  },
  {
   "cell_type": "code",
   "execution_count": null,
   "id": "14d56d52",
   "metadata": {},
   "outputs": [],
   "source": [
    "list(store.yield_keys())"
   ]
  },
  {
   "cell_type": "code",
   "execution_count": null,
   "id": "51ac7f70",
   "metadata": {},
   "outputs": [],
   "source": [
    "query_0 = \"What did the president say about Ketanji Brown Jackson?\""
   ]
  },
  {
   "cell_type": "code",
   "execution_count": null,
   "id": "84bcfd50",
   "metadata": {},
   "outputs": [],
   "source": [
    "retriever.invoke(query_0)"
   ]
  },
  {
   "cell_type": "code",
   "execution_count": null,
   "id": "3ca09749",
   "metadata": {},
   "outputs": [],
   "source": [
    "vector_store.similarity_search()"
   ]
  },
  {
   "cell_type": "code",
   "execution_count": null,
   "id": "0374ec3b",
   "metadata": {},
   "outputs": [],
   "source": [
    "result_1 = llm.invoke(\"Write a ballad about Langchain\")"
   ]
  },
  {
   "cell_type": "code",
   "execution_count": null,
   "id": "2350640d",
   "metadata": {},
   "outputs": [],
   "source": [
    "print(result_1.content)"
   ]
  },
  {
   "cell_type": "code",
   "execution_count": null,
   "id": "b6699583",
   "metadata": {},
   "outputs": [],
   "source": [
    "qa = RetrievalQA.from_chain_type(\n",
    "    llm=llm,\n",
    "    chain_type=\"stuff\",\n",
    "    retriever=retriever\n",
    ")"
   ]
  },
  {
   "cell_type": "code",
   "execution_count": null,
   "id": "1061f675",
   "metadata": {},
   "outputs": [],
   "source": [
    "qa.run(query_0)"
   ]
  }
 ],
 "metadata": {
  "kernelspec": {
   "display_name": "base",
   "language": "python",
   "name": "python3"
  },
  "language_info": {
   "name": "python",
   "version": "3.11.7"
  }
 },
 "nbformat": 4,
 "nbformat_minor": 5
}
