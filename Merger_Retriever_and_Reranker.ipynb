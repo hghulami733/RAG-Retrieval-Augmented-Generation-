{
 "cells": [
  {
   "cell_type": "code",
   "execution_count": null,
   "id": "b853c4f4",
   "metadata": {},
   "outputs": [],
   "source": [
    "! pip install -qU langchain chromadb huggingface_hub sentence_transformers pypdf openai tiktoken langchain-community"
   ]
  },
  {
   "cell_type": "code",
   "execution_count": null,
   "id": "80191d84",
   "metadata": {},
   "outputs": [],
   "source": [
    "! pip install llama-cpp-python"
   ]
  },
  {
   "cell_type": "markdown",
   "id": "0210a4c2",
   "metadata": {},
   "source": [
    "Loading Data"
   ]
  },
  {
   "cell_type": "code",
   "execution_count": null,
   "id": "db93e9ab",
   "metadata": {},
   "outputs": [],
   "source": [
    "from langchain.document_loaders import PyPDFLoader\n",
    "from langchain.text_splitter import RecursiveCharacterTextSplitter\n",
    "from langchain.embeddings import HuggingFaceBgeEmbeddings, OpenAIEmbeddings, HuggingFaceBgeEmbeddings\n",
    "from google.colab import userdata\n",
    "from langchain.vectorstores import Chroma\n",
    "import chromadb\n",
    "import os\n",
    "from langchain.retrievers.merger_retriever import MergerRetriever\n",
    "from langchain.document_transformers import (\n",
    "    EmbeddingsClusteringFilter,\n",
    "    EmbeddingsRedundantFilter,\n",
    ")\n",
    "from langchain.retrievers.document_compressors import DocumentCompressorPipeline\n",
    "from langchain.retrievers import ContextualCompressionRetriever\n",
    "from langchain.document_transformers import LongContextReorder\n",
    "from re import search\n",
    "from langchain.llms import LlamaCpp\n",
    "from langchain.chains import RetrievalQA\n"
   ]
  },
  {
   "cell_type": "code",
   "execution_count": null,
   "id": "0f7c1bc5",
   "metadata": {},
   "outputs": [],
   "source": [
    "harrypotter_loader = PyPDFLoader(\"/content/harry_potter_book.pdf\")"
   ]
  },
  {
   "cell_type": "code",
   "execution_count": null,
   "id": "5309defe",
   "metadata": {},
   "outputs": [],
   "source": [
    "harrypotter_documents = harrypotter_loader.load()"
   ]
  },
  {
   "cell_type": "code",
   "execution_count": null,
   "id": "583681b5",
   "metadata": {},
   "outputs": [],
   "source": [
    "print(len(harrypotter_documents))"
   ]
  },
  {
   "cell_type": "code",
   "execution_count": null,
   "id": "091a96fe",
   "metadata": {},
   "outputs": [],
   "source": [
    "got_loader = PyPDFLoader(\"/content/got_book.pdf\")"
   ]
  },
  {
   "cell_type": "code",
   "execution_count": null,
   "id": "029c9d4c",
   "metadata": {},
   "outputs": [],
   "source": [
    "got_documents = got_loader.load()"
   ]
  },
  {
   "cell_type": "code",
   "execution_count": null,
   "id": "0ab86f56",
   "metadata": {},
   "outputs": [],
   "source": [
    "print(len(got_documents))"
   ]
  },
  {
   "cell_type": "markdown",
   "id": "b83f3815",
   "metadata": {},
   "source": [
    "Creating Text Splitter for Chunking"
   ]
  },
  {
   "cell_type": "code",
   "execution_count": null,
   "id": "cb88bc98",
   "metadata": {},
   "outputs": [],
   "source": [
    "text_splitter =RecursiveCharacterTextSplitter(chunk_size=500, chunk_overlap=100)"
   ]
  },
  {
   "cell_type": "code",
   "execution_count": null,
   "id": "6d0bc4aa",
   "metadata": {},
   "outputs": [],
   "source": [
    "harrypotter_text = text_splitter.split_documents(harrypotter_documents)"
   ]
  },
  {
   "cell_type": "code",
   "execution_count": null,
   "id": "4ff914a1",
   "metadata": {},
   "outputs": [],
   "source": [
    "got_text = text_splitter.split_documents(got_documents)"
   ]
  },
  {
   "cell_type": "code",
   "execution_count": null,
   "id": "0061010a",
   "metadata": {},
   "outputs": [],
   "source": [
    "print(len(harrypotter_text)), print(len(got_text))"
   ]
  },
  {
   "cell_type": "markdown",
   "id": "11baeb86",
   "metadata": {},
   "source": [
    "Load Embedding Model to Conver the Data into Vector"
   ]
  },
  {
   "cell_type": "code",
   "execution_count": null,
   "id": "e06bf6a0",
   "metadata": {},
   "outputs": [],
   "source": [
    "hf_embeddings = HuggingFaceBgeEmbeddings(model_name=\"sentence-transformers/all-MiniLM-L6-v2\")"
   ]
  },
  {
   "cell_type": "code",
   "execution_count": null,
   "id": "c2c824d8",
   "metadata": {},
   "outputs": [],
   "source": [
    "hf_bge_embeddings = HuggingFaceBgeEmbeddings(model_name=\"BAAI/bge-Large-en\")"
   ]
  },
  {
   "cell_type": "code",
   "execution_count": null,
   "id": "197a6ac3",
   "metadata": {},
   "outputs": [],
   "source": [
    "OPENAI_API_KEY = userdata.get(\"OPENAI_API_KEY\")"
   ]
  },
  {
   "cell_type": "code",
   "execution_count": null,
   "id": "4eec720d",
   "metadata": {},
   "outputs": [],
   "source": [
    "openai_embeddings = OpenAIEmbeddings(openai_api_type=OPENAI_API_KEY)"
   ]
  },
  {
   "cell_type": "markdown",
   "id": "695d9d33",
   "metadata": {},
   "source": [
    "Ingest Data into Chroma Database"
   ]
  },
  {
   "cell_type": "code",
   "execution_count": null,
   "id": "f55fdd6d",
   "metadata": {},
   "outputs": [],
   "source": [
    "os.getcwd()"
   ]
  },
  {
   "cell_type": "code",
   "execution_count": null,
   "id": "b2b48ee9",
   "metadata": {},
   "outputs": [],
   "source": [
    "CURRENT_DIR = os.path.dirname(os.path.abspath(\".\"))"
   ]
  },
  {
   "cell_type": "code",
   "execution_count": null,
   "id": "93b4f769",
   "metadata": {},
   "outputs": [],
   "source": [
    "DB_DIR = os.path.join(CURRENT_DIR, \"/content/db\")"
   ]
  },
  {
   "cell_type": "code",
   "execution_count": null,
   "id": "b4b2c63e",
   "metadata": {},
   "outputs": [],
   "source": [
    "client_settings = chromadb.config.Settings(\n",
    "    is_persistent = True,\n",
    "    persist_directory=DB_DIR,\n",
    "    anonymized_telemetry=False,\n",
    ")"
   ]
  },
  {
   "cell_type": "code",
   "execution_count": null,
   "id": "b9b25932",
   "metadata": {},
   "outputs": [],
   "source": [
    "harrypotter_vectorstore = Chroma.from_documents(\n",
    "    harrypotter_text,\n",
    "    hf_bge_embeddings,\n",
    "    client_settings=client_settings,\n",
    "    collection_name=\"Harrypotter\",\n",
    "    collection_metadata={\"hnsw\":\"cosine\"},\n",
    "    persist_directory=\"/store/harrypotter\"\n",
    ")"
   ]
  },
  {
   "cell_type": "code",
   "execution_count": null,
   "id": "2cf32fd0",
   "metadata": {},
   "outputs": [],
   "source": [
    "got_vectorstore = Chroma.from_documents(\n",
    "    got_text,\n",
    "    hf_bge_embeddings,\n",
    "    client_settings=client_settings,\n",
    "    collection_name=\"got\",\n",
    "    collection_metadata={\"hnsw\":\"cosine\"},\n",
    "    persist_directory=\"/store/got\"\n",
    ")"
   ]
  },
  {
   "cell_type": "markdown",
   "id": "777af8ff",
   "metadata": {},
   "source": [
    "Now Create Retriever"
   ]
  },
  {
   "cell_type": "code",
   "execution_count": null,
   "id": "3efe6d69",
   "metadata": {},
   "outputs": [],
   "source": [
    "harrypotter_retriever = harrypotter_vectorstore.as_retriever(search_type=\"mmr\", search_kwargs={\"k\":5, \"include_metadata\":True})"
   ]
  },
  {
   "cell_type": "code",
   "execution_count": null,
   "id": "49a5f3d2",
   "metadata": {},
   "outputs": [],
   "source": [
    "got_retriever = got_vectorstore.as_retriever(search_type=\"mmr\", search_kwargs={\"k\":5, \"include_metadata\":True})"
   ]
  },
  {
   "cell_type": "markdown",
   "id": "ed5ed1b7",
   "metadata": {},
   "source": [
    "Merge both Retriever \n",
    "(It is also called lord of retriever(LOTR))"
   ]
  },
  {
   "cell_type": "code",
   "execution_count": null,
   "id": "242e7d15",
   "metadata": {},
   "outputs": [],
   "source": [
    "lotr = MergerRetriever(retrivers=[harrypotter_retriever, got_retriever])"
   ]
  },
  {
   "cell_type": "code",
   "execution_count": null,
   "id": "f79e98fb",
   "metadata": {},
   "outputs": [],
   "source": [
    "for chunks in lotr.get_relevant_documents(\"Who was jon snow?\"):\n",
    "    print(chunks.page_content)"
   ]
  },
  {
   "cell_type": "code",
   "execution_count": null,
   "id": "9dec65e2",
   "metadata": {},
   "outputs": [],
   "source": [
    "for chunks in lotr.get_relevant_documents(\"Who is Harry potter?\"):\n",
    "    print(chunks.page_content)"
   ]
  },
  {
   "cell_type": "markdown",
   "id": "8e688088",
   "metadata": {},
   "source": [
    "Now after understanding step by step, time to create a pipeline for LLM"
   ]
  },
  {
   "cell_type": "code",
   "execution_count": null,
   "id": "b3606940",
   "metadata": {},
   "outputs": [],
   "source": [
    "_filter = EmbeddingsRedundantFilter(embeddings=hf_bge_embeddings)\n",
    "reordering = LongContextReorder()\n",
    "pipeline = DocumentCompressorPipeline(transformers=[_filter, reordering])\n",
    "compression_retriever_reordered = ContextualCompressionRetriever(\n",
    "    base_compressor=pipeline, base_retriever=lotr, search_kwargs={\"k\":3, \"include_metadata\":True}\n",
    ")"
   ]
  },
  {
   "cell_type": "code",
   "execution_count": null,
   "id": "e8d4c790",
   "metadata": {},
   "outputs": [],
   "source": [
    "docs = compression_retriever_reordered.get_relevant_documents(\"What is esops?\")\n",
    "print(len(docs))\n",
    "\n",
    "print(docs[0].page_content)"
   ]
  },
  {
   "cell_type": "markdown",
   "id": "efd7da91",
   "metadata": {},
   "source": [
    "Loading Model from HuggingFace"
   ]
  },
  {
   "cell_type": "code",
   "execution_count": null,
   "id": "54529e66",
   "metadata": {},
   "outputs": [],
   "source": [
    "llms = LlamaCpp(\n",
    "    streaming=True,\n",
    "    model_path=\"/content/drive/MyDrive/zephyr-7b-beta.Q4_K_M.gguf\",\n",
    "    max_tokens=1500,\n",
    "    temperature=0.75,\n",
    "    top_p=1,\n",
    "    gpu_layers=0,\n",
    "    stream=True,\n",
    "    verbose=True,\n",
    "    n_threads=int(os.cpu_count()/2),\n",
    "    n_ctx=4096\n",
    ")"
   ]
  },
  {
   "cell_type": "code",
   "execution_count": null,
   "id": "e5048b6a",
   "metadata": {},
   "outputs": [],
   "source": [
    "qa = RetrievalQA.from_chain_type(\n",
    "    llm=llms,\n",
    "    chain_type=\"stuff\",\n",
    "    retriver=compression_retriever_reordered,\n",
    "    return_source_documents = True\n",
    ")"
   ]
  },
  {
   "cell_type": "code",
   "execution_count": null,
   "id": "c4772cca",
   "metadata": {},
   "outputs": [],
   "source": [
    "query = \"Who is jon Snow?\"\n",
    "results = qa(query)\n",
    "print(results[\"result\"])\n",
    "print(results[\"source_documents\"])"
   ]
  },
  {
   "cell_type": "code",
   "execution_count": null,
   "id": "ed58315d",
   "metadata": {},
   "outputs": [],
   "source": [
    "results_1 = qa(\"Who is Harry Potter?\")\n",
    "print(results_1[\"result\"])\n",
    "\n",
    "print(results_1[\"source_documents\"])\n",
    "\n",
    "for source in results_1[\"source_documents\"]:\n",
    "    print(source.metadata)"
   ]
  },
  {
   "cell_type": "code",
   "execution_count": null,
   "id": "78817a4d",
   "metadata": {},
   "outputs": [],
   "source": [
    "results_2 = qa.invoke(\"How does Jon Snow's relationship with Stark family?\")"
   ]
  },
  {
   "cell_type": "code",
   "execution_count": null,
   "id": "ae39f585",
   "metadata": {},
   "outputs": [],
   "source": [
    "results_2"
   ]
  },
  {
   "cell_type": "code",
   "execution_count": null,
   "id": "5f993cd9",
   "metadata": {},
   "outputs": [],
   "source": [
    "print(results_2[\"result\"])"
   ]
  },
  {
   "cell_type": "code",
   "execution_count": null,
   "id": "8133c61f",
   "metadata": {},
   "outputs": [],
   "source": [
    "print(results_2[\"source_documents\"])"
   ]
  },
  {
   "cell_type": "code",
   "execution_count": null,
   "id": "ed21cd13",
   "metadata": {},
   "outputs": [],
   "source": [
    "for source in results_2[\"source_documents\"]:\n",
    "    print(source.metadata)"
   ]
  }
 ],
 "metadata": {
  "kernelspec": {
   "display_name": "base",
   "language": "python",
   "name": "python3"
  },
  "language_info": {
   "codemirror_mode": {
    "name": "ipython",
    "version": 3
   },
   "file_extension": ".py",
   "mimetype": "text/x-python",
   "name": "python",
   "nbconvert_exporter": "python",
   "pygments_lexer": "ipython3",
   "version": "3.11.7"
  }
 },
 "nbformat": 4,
 "nbformat_minor": 5
}
