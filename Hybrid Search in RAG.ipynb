{
 "cells": [
  {
   "cell_type": "code",
   "execution_count": null,
   "id": "005c9a08",
   "metadata": {},
   "outputs": [
    {
     "name": "stdout",
     "output_type": "stream",
     "text": [
      "^C\n"
     ]
    }
   ],
   "source": [
    "! pip install pypdf langchain_community chromadb rank_bm25 bitsandbytes accelerate"
   ]
  },
  {
   "cell_type": "code",
   "execution_count": null,
   "id": "04abd580",
   "metadata": {},
   "outputs": [],
   "source": [
    "from sklearn.feature_extraction.text import TfidfVectorizer\n",
    "from sklearn.metrics.pairwise import cosine_similarity\n",
    "import numpy as np\n",
    "import re\n",
    "from langchain_community.document_loaders import PyPDFLoader\n",
    "from langchain.text_splitter import RecursiveCharacterTextSplitter\n",
    "from langchain.embeddings import HuggingFaceInferenceAPIEmbeddings\n",
    "from langchain.vectorstores import Chroma\n",
    "from langchain.retrievers import BM25Retriever, EnsembleRetriever\n",
    "import torch\n",
    "from transformers import (AutoModelForCausalLM, AutoTokenizer, BitsAndBytesConfing, pipeline)\n",
    "from langchain import HuggingFacePipeline\n",
    "from langchain.chains import RetrievalQA\n"
   ]
  },
  {
   "cell_type": "markdown",
   "id": "6bcac7fe",
   "metadata": {},
   "source": [
    "Some Document samples"
   ]
  },
  {
   "cell_type": "code",
   "execution_count": null,
   "id": "a79f4c4c",
   "metadata": {},
   "outputs": [],
   "source": [
    "documents = [\n",
    "    \"This is a list which containig sample documents.\",\n",
    "    \"Keywords are important for keyword-based search.\",\n",
    "    \"Document analysis involves extracting keywords.\",\n",
    "    \"Keyword-based search relies on sparse embeddings.\"\n",
    "]"
   ]
  },
  {
   "cell_type": "code",
   "execution_count": null,
   "id": "8d0383cd",
   "metadata": {},
   "outputs": [],
   "source": [
    "query = \"keyword-based search\""
   ]
  },
  {
   "cell_type": "code",
   "execution_count": null,
   "id": "55194d7e",
   "metadata": {},
   "outputs": [],
   "source": [
    "def preprocess_text(text):\n",
    "\n",
    "    # Converting text to lower\n",
    "    text = text.lower()\n",
    "\n",
    "    # Remove punctuation\n",
    "    text = re.sub(r'[^\\w\\s]', \"\", text)\n",
    "\n",
    "    return text"
   ]
  },
  {
   "cell_type": "code",
   "execution_count": null,
   "id": "bebcf645",
   "metadata": {},
   "outputs": [],
   "source": [
    "preprocess_data = [preprocess_text(doc) for doc in documents ]"
   ]
  },
  {
   "cell_type": "code",
   "execution_count": null,
   "id": "d1921c60",
   "metadata": {},
   "outputs": [
    {
     "data": {
      "text/plain": [
       "['this is a list which containig sample documents',\n",
       " 'keywords are important for keywordbased search',\n",
       " 'document analysis involves extracting keywords',\n",
       " 'keywordbased search relies on sparse embeddings']"
      ]
     },
     "execution_count": 7,
     "metadata": {},
     "output_type": "execute_result"
    }
   ],
   "source": [
    "preprocess_data"
   ]
  },
  {
   "cell_type": "code",
   "execution_count": null,
   "id": "8bb1e8d4",
   "metadata": {},
   "outputs": [],
   "source": [
    "preprocess_query = preprocess_text(query)"
   ]
  },
  {
   "cell_type": "code",
   "execution_count": null,
   "id": "46956533",
   "metadata": {},
   "outputs": [],
   "source": [
    "vector = TfidfVectorizer()"
   ]
  },
  {
   "cell_type": "code",
   "execution_count": null,
   "id": "221d1c77",
   "metadata": {},
   "outputs": [],
   "source": [
    "data_vector = vector.fit_transform(preprocess_data)"
   ]
  },
  {
   "cell_type": "code",
   "execution_count": null,
   "id": "3655b5f0",
   "metadata": {},
   "outputs": [
    {
     "data": {
      "text/plain": [
       "array([0.        , 0.        , 0.37796447, 0.        , 0.37796447,\n",
       "       0.        , 0.        , 0.        , 0.        , 0.        ,\n",
       "       0.37796447, 0.        , 0.        , 0.37796447, 0.        ,\n",
       "       0.        , 0.37796447, 0.        , 0.        , 0.37796447,\n",
       "       0.37796447])"
      ]
     },
     "execution_count": 11,
     "metadata": {},
     "output_type": "execute_result"
    }
   ],
   "source": [
    "data_vector.toarray()[0]"
   ]
  },
  {
   "cell_type": "code",
   "execution_count": null,
   "id": "2314ee87",
   "metadata": {},
   "outputs": [],
   "source": [
    "query_embedding = vector.transform([preprocess_query])"
   ]
  },
  {
   "cell_type": "code",
   "execution_count": null,
   "id": "512987d3",
   "metadata": {},
   "outputs": [
    {
     "data": {
      "text/plain": [
       "array([[0.        , 0.        , 0.        , 0.        , 0.        ,\n",
       "        0.        , 0.        , 0.        , 0.        , 0.        ,\n",
       "        0.        , 0.70710678, 0.        , 0.        , 0.        ,\n",
       "        0.        , 0.        , 0.70710678, 0.        , 0.        ,\n",
       "        0.        ]])"
      ]
     },
     "execution_count": 13,
     "metadata": {},
     "output_type": "execute_result"
    }
   ],
   "source": [
    "query_embedding.toarray()"
   ]
  },
  {
   "cell_type": "code",
   "execution_count": null,
   "id": "b0c0cdb6",
   "metadata": {},
   "outputs": [],
   "source": [
    "similarities = cosine_similarity(data_vector, query_embedding)"
   ]
  },
  {
   "cell_type": "code",
   "execution_count": null,
   "id": "66cfc1af",
   "metadata": {},
   "outputs": [
    {
     "data": {
      "text/plain": [
       "array([[0.        ],\n",
       "       [0.50551777],\n",
       "       [0.        ],\n",
       "       [0.48693426]])"
      ]
     },
     "execution_count": 15,
     "metadata": {},
     "output_type": "execute_result"
    }
   ],
   "source": [
    "similarities"
   ]
  },
  {
   "cell_type": "code",
   "execution_count": null,
   "id": "f7140408",
   "metadata": {},
   "outputs": [
    {
     "data": {
      "text/plain": [
       "array([[1],\n",
       "       [3],\n",
       "       [2],\n",
       "       [0]], dtype=int64)"
      ]
     },
     "execution_count": 16,
     "metadata": {},
     "output_type": "execute_result"
    }
   ],
   "source": [
    "np.argsort(similarities, axis=0)[::-1]"
   ]
  },
  {
   "cell_type": "code",
   "execution_count": null,
   "id": "99417ead",
   "metadata": {},
   "outputs": [
    {
     "data": {
      "text/plain": [
       "array([1, 3, 2, 0], dtype=int64)"
      ]
     },
     "execution_count": 17,
     "metadata": {},
     "output_type": "execute_result"
    }
   ],
   "source": [
    "np.argsort(similarities, axis=0)[::-1].flatten()"
   ]
  },
  {
   "cell_type": "code",
   "execution_count": null,
   "id": "ef3282de",
   "metadata": {},
   "outputs": [],
   "source": [
    "# Ranking\n",
    "ranked_indices = np.argsort(similarities, axis=0)[::-1].flatten()"
   ]
  },
  {
   "cell_type": "code",
   "execution_count": null,
   "id": "f0f6adb0",
   "metadata": {},
   "outputs": [],
   "source": [
    "ranked_documents = [documents[i] for i in ranked_indices]"
   ]
  },
  {
   "cell_type": "code",
   "execution_count": null,
   "id": "b139c669",
   "metadata": {},
   "outputs": [
    {
     "name": "stdout",
     "output_type": "stream",
     "text": [
      "keyword-based search\n",
      "Rank 1: Keywords are important for keyword-based search.\n",
      "keyword-based search\n",
      "Rank 2: Keyword-based search relies on sparse embeddings.\n",
      "keyword-based search\n",
      "Rank 3: Document analysis involves extracting keywords.\n",
      "keyword-based search\n",
      "Rank 4: This is a list which containig sample documents.\n"
     ]
    }
   ],
   "source": [
    "# Output the ranked documents\n",
    "for i, doc in enumerate(ranked_documents):\n",
    "    print(query)\n",
    "    print(f\"Rank {i + 1}: {doc}\")"
   ]
  },
  {
   "cell_type": "code",
   "execution_count": null,
   "id": "6a1004bd",
   "metadata": {},
   "outputs": [],
   "source": [
    "document_embeddings_1 = np.array([\n",
    "[0.634, 0.234, 0.867, 0.042, 0.249],\n",
    "[0.123, 0.456, 0.789, 0.321, 0.654],\n",
    "[0.987, 0.654, 0.321, 0.123, 0.456]\n",
    "])"
   ]
  },
  {
   "cell_type": "code",
   "execution_count": null,
   "id": "06bafd43",
   "metadata": {},
   "outputs": [],
   "source": [
    "# Sample search query (represented as a dence vector)\n",
    "query_embedding_1 = np.array([[0.789, 0.321, 0.654, 0.987, 0.123]])"
   ]
  },
  {
   "cell_type": "code",
   "execution_count": null,
   "id": "86f30901",
   "metadata": {},
   "outputs": [],
   "source": [
    "similarities_1 = cosine_similarity(document_embeddings_1, query_embedding_1)"
   ]
  },
  {
   "cell_type": "code",
   "execution_count": null,
   "id": "019063c2",
   "metadata": {},
   "outputs": [],
   "source": [
    "ranked_indices_1 = np.argsort(similarities_1, axis=0)[::-1].flatten()"
   ]
  },
  {
   "cell_type": "code",
   "execution_count": null,
   "id": "66fe7b29",
   "metadata": {},
   "outputs": [
    {
     "data": {
      "text/plain": [
       "array([0, 2, 1], dtype=int64)"
      ]
     },
     "execution_count": 33,
     "metadata": {},
     "output_type": "execute_result"
    }
   ],
   "source": [
    "ranked_indices_1"
   ]
  },
  {
   "cell_type": "code",
   "execution_count": null,
   "id": "0030eae0",
   "metadata": {},
   "outputs": [
    {
     "name": "stdout",
     "output_type": "stream",
     "text": [
      "Rank: 1: Document: 1\n",
      "Rank: 2: Document: 3\n",
      "Rank: 3: Document: 2\n"
     ]
    }
   ],
   "source": [
    "# Output ranked documents\n",
    "for i, idx in enumerate(ranked_indices_1):\n",
    "    print(f\"Rank: {i+1}: Document: {idx+1}\")"
   ]
  },
  {
   "cell_type": "code",
   "execution_count": null,
   "id": "5be61dd1",
   "metadata": {},
   "outputs": [],
   "source": [
    "doc_path = \"/content/Retrieval-Augmented-Generation-for-NLP.pdf\""
   ]
  },
  {
   "cell_type": "code",
   "execution_count": null,
   "id": "745cf7b2",
   "metadata": {},
   "outputs": [],
   "source": [
    "loader = PyPDFLoader(doc_path)"
   ]
  },
  {
   "cell_type": "code",
   "execution_count": null,
   "id": "d1c2b348",
   "metadata": {},
   "outputs": [],
   "source": [
    "docs = loader.load()"
   ]
  },
  {
   "cell_type": "code",
   "execution_count": null,
   "id": "584636ae",
   "metadata": {},
   "outputs": [],
   "source": [
    "splitter = RecursiveCharacterTextSplitter(chunk_size=200 , chunk_overlap=30)"
   ]
  },
  {
   "cell_type": "code",
   "execution_count": null,
   "id": "461650e9",
   "metadata": {},
   "outputs": [],
   "source": [
    "chunks = splitter.split_documents(docs)"
   ]
  },
  {
   "cell_type": "code",
   "execution_count": null,
   "id": "f36d4c3c",
   "metadata": {},
   "outputs": [],
   "source": [
    "HF_TOKEN = \"HUGGINGFACE_TOKEN\""
   ]
  },
  {
   "cell_type": "code",
   "execution_count": null,
   "id": "70dec982",
   "metadata": {},
   "outputs": [],
   "source": [
    "embeddings = HuggingFaceInferenceAPIEmbeddings(api_key=HF_TOKEN, model_name=\"BAAI/bge-base-en-vl.5\")"
   ]
  },
  {
   "cell_type": "code",
   "execution_count": null,
   "id": "a5de58ca",
   "metadata": {},
   "outputs": [],
   "source": [
    "vector_store = Chroma.from_documents(chunks, embeddings)"
   ]
  },
  {
   "cell_type": "code",
   "execution_count": null,
   "id": "e82f8f2a",
   "metadata": {},
   "outputs": [],
   "source": [
    "vector_store_retriever = vector_store.as_retriever(search_kwargs={\"k\":3})"
   ]
  },
  {
   "cell_type": "code",
   "execution_count": null,
   "id": "650a006f",
   "metadata": {},
   "outputs": [],
   "source": [
    "keyword_retriever = BM25Retriever.from_documents(chunks)"
   ]
  },
  {
   "cell_type": "code",
   "execution_count": null,
   "id": "f61842f4",
   "metadata": {},
   "outputs": [],
   "source": [
    "keyword_retriever.k = 3"
   ]
  },
  {
   "cell_type": "code",
   "execution_count": null,
   "id": "b33b832e",
   "metadata": {},
   "outputs": [],
   "source": [
    "ensembel_retriever = EnsembleRetriever(retrievers=[vector_store_retriever, keyword_retriever], weights=[0.3, 0.7])"
   ]
  },
  {
   "cell_type": "code",
   "execution_count": null,
   "id": "54b3679a",
   "metadata": {},
   "outputs": [],
   "source": [
    "model = \"HuggingFaceH4/zephyr-7b-beta\""
   ]
  },
  {
   "cell_type": "code",
   "execution_count": 6,
   "id": "5e3db83e",
   "metadata": {},
   "outputs": [],
   "source": [
    "# Function for loading 4-bit quantized model\n",
    "def load_quantized_model(model_name: str):\n",
    "    \"\"\"\n",
    "    model_name: Name or path of the model to be loaded.\n",
    "    return : Loaded quantized model.\n",
    "    \n",
    "    \"\"\"\n",
    "\n",
    "    bnb_confing = BitsAndBytesConfing(\n",
    "        load_in_4bit=True,\n",
    "        bnb_4bit_use_double_quant=True,\n",
    "        bnb_4bit_quant_type=\"nf4\",\n",
    "        bnb_4bit_compute_dtype=torch.bfloat16,\n",
    "    )\n",
    "\n",
    "    model = AutoModelForCausalLM.from_pretraind(\n",
    "        model_name,\n",
    "        torch_dtype = torch.bfloat16,\n",
    "        quantization_config = bnb_confing\n",
    "    )\n",
    "\n",
    "    return model"
   ]
  },
  {
   "cell_type": "code",
   "execution_count": 7,
   "id": "76d4f1e8",
   "metadata": {},
   "outputs": [],
   "source": [
    "# Initializing tokenizer\n",
    "def initialize_tokenizer(model_name: str):\n",
    "    \"\"\"\n",
    "    model_name: name or path of the model for tokenizer initialization\n",
    "    return: Initialized tokenizer\n",
    "    \n",
    "    \"\"\"\n",
    "    tokenizer = AutoTokenizer.from_pretrained(model_name, return_token_type_ids=False)\n",
    "    tokenizer.bos_token_id = 1 # Set beginning of sentence token id\n",
    "    return tokenizer"
   ]
  },
  {
   "cell_type": "code",
   "execution_count": null,
   "id": "b7957b93",
   "metadata": {},
   "outputs": [],
   "source": [
    "tokenizer = initialize_tokenizer(model)"
   ]
  },
  {
   "cell_type": "code",
   "execution_count": null,
   "id": "cad937f5",
   "metadata": {},
   "outputs": [],
   "source": [
    "model_1 = load_quantized_model(model)"
   ]
  },
  {
   "cell_type": "code",
   "execution_count": null,
   "id": "f6df2a8d",
   "metadata": {},
   "outputs": [],
   "source": [
    "pipeline = pipeline(\n",
    "    \"text-generation\",\n",
    "    model=model,\n",
    "    tokenizer=tokenizer,\n",
    "    use_cache=True,\n",
    "    device_map=\"auto\",\n",
    "    max_length=2048,\n",
    "    do_sample=True,\n",
    "    top_k = 5,\n",
    "    num_return_sequences=1,\n",
    "    eos_token_id=tokenizer.eos_token_id,\n",
    "    pad_token_id=tokenizer.pad_token_id\n",
    ")"
   ]
  },
  {
   "cell_type": "code",
   "execution_count": null,
   "id": "d9644ddc",
   "metadata": {},
   "outputs": [],
   "source": [
    "llm = HuggingFacePipeline(pipeline=pipeline)"
   ]
  },
  {
   "cell_type": "code",
   "execution_count": null,
   "id": "e4027c2b",
   "metadata": {},
   "outputs": [],
   "source": [
    "normal_chain = RetrievalQA.from_chain_type(\n",
    "    llm=llm, chain_type=\"stuff\", retriever=vector_store_retriever\n",
    ")"
   ]
  },
  {
   "cell_type": "code",
   "execution_count": null,
   "id": "d7c779dc",
   "metadata": {},
   "outputs": [],
   "source": [
    "hybrid_chain = RetrievalQA.from_chain_type(\n",
    "    llm=llm, chain_type=\"stuff\", retriever=ensembel_retriever\n",
    ")"
   ]
  },
  {
   "cell_type": "code",
   "execution_count": null,
   "id": "90cfe561",
   "metadata": {},
   "outputs": [],
   "source": [
    "response_1 = normal_chain.invoke(\"What is RAG token model?\")"
   ]
  },
  {
   "cell_type": "code",
   "execution_count": null,
   "id": "dcded705",
   "metadata": {},
   "outputs": [],
   "source": [
    "print(response_1.get(\"result\"))"
   ]
  },
  {
   "cell_type": "code",
   "execution_count": null,
   "id": "929ad867",
   "metadata": {},
   "outputs": [],
   "source": [
    "response_2 = hybrid_chain.invoke(\"What is RAG token model?\")"
   ]
  },
  {
   "cell_type": "code",
   "execution_count": null,
   "id": "805a4ae8",
   "metadata": {},
   "outputs": [],
   "source": [
    "print(response_2.get(\"result\"))"
   ]
  }
 ],
 "metadata": {
  "kernelspec": {
   "display_name": "base",
   "language": "python",
   "name": "python3"
  },
  "language_info": {
   "codemirror_mode": {
    "name": "ipython",
    "version": 3
   },
   "file_extension": ".py",
   "mimetype": "text/x-python",
   "name": "python",
   "nbconvert_exporter": "python",
   "pygments_lexer": "ipython3",
   "version": "3.11.7"
  }
 },
 "nbformat": 4,
 "nbformat_minor": 5
}
